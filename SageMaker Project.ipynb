{
 "cells": [
  {
   "cell_type": "markdown",
   "metadata": {},
   "source": [
    "# Creating a Sentiment Analysis Web App\n",
    "## Using PyTorch and SageMaker\n",
    "\n",
    "_Deep Learning Nanodegree Program | Deployment_\n",
    "\n",
    "---\n",
    "\n",
    "Now that we have a basic understanding of how SageMaker works we will try to use it to construct a complete project from end to end. Our goal will be to have a simple web page which a user can use to enter a movie review. The web page will then send the review off to our deployed model which will predict the sentiment of the entered review.\n",
    "\n",
    "## Instructions\n",
    "\n",
    "Some template code has already been provided for you, and you will need to implement additional functionality to successfully complete this notebook. You will not need to modify the included code beyond what is requested. Sections that begin with '**TODO**' in the header indicate that you need to complete or implement some portion within them. Instructions will be provided for each section and the specifics of the implementation are marked in the code block with a `# TODO: ...` comment. Please be sure to read the instructions carefully!\n",
    "\n",
    "In addition to implementing code, there will be questions for you to answer which relate to the task and your implementation. Each section where you will answer a question is preceded by a '**Question:**' header. Carefully read each question and provide your answer below the '**Answer:**' header by editing the Markdown cell.\n",
    "\n",
    "> **Note**: Code and Markdown cells can be executed using the **Shift+Enter** keyboard shortcut. In addition, a cell can be edited by typically clicking it (double-click for Markdown cells) or by pressing **Enter** while it is highlighted.\n",
    "\n",
    "## General Outline\n",
    "\n",
    "Recall the general outline for SageMaker projects using a notebook instance.\n",
    "\n",
    "1. Download or otherwise retrieve the data.\n",
    "2. Process / Prepare the data.\n",
    "3. Upload the processed data to S3.\n",
    "4. Train a chosen model.\n",
    "5. Test the trained model (typically using a batch transform job).\n",
    "6. Deploy the trained model.\n",
    "7. Use the deployed model.\n",
    "\n",
    "For this project, you will be following the steps in the general outline with some modifications. \n",
    "\n",
    "First, you will not be testing the model in its own step. You will still be testing the model, however, you will do it by deploying your model and then using the deployed model by sending the test data to it. One of the reasons for doing this is so that you can make sure that your deployed model is working correctly before moving forward.\n",
    "\n",
    "In addition, you will deploy and use your trained model a second time. In the second iteration you will customize the way that your trained model is deployed by including some of your own code. In addition, your newly deployed model will be used in the sentiment analysis web app."
   ]
  },
  {
   "cell_type": "markdown",
   "metadata": {},
   "source": [
    "## Step 1: Downloading the data\n",
    "\n",
    "As in the XGBoost in SageMaker notebook, we will be using the [IMDb dataset](http://ai.stanford.edu/~amaas/data/sentiment/)\n",
    "\n",
    "> Maas, Andrew L., et al. [Learning Word Vectors for Sentiment Analysis](http://ai.stanford.edu/~amaas/data/sentiment/). In _Proceedings of the 49th Annual Meeting of the Association for Computational Linguistics: Human Language Technologies_. Association for Computational Linguistics, 2011."
   ]
  },
  {
   "cell_type": "code",
   "execution_count": 1,
   "metadata": {},
   "outputs": [
    {
     "name": "stdout",
     "output_type": "stream",
     "text": [
      "mkdir: cannot create directory ‘../data’: File exists\n",
      "--2020-08-17 18:03:55--  http://ai.stanford.edu/~amaas/data/sentiment/aclImdb_v1.tar.gz\n",
      "Resolving ai.stanford.edu (ai.stanford.edu)... 171.64.68.10\n",
      "Connecting to ai.stanford.edu (ai.stanford.edu)|171.64.68.10|:80... connected.\n",
      "HTTP request sent, awaiting response... 200 OK\n",
      "Length: 84125825 (80M) [application/x-gzip]\n",
      "Saving to: ‘../data/aclImdb_v1.tar.gz’\n",
      "\n",
      "../data/aclImdb_v1. 100%[===================>]  80.23M  22.8MB/s    in 4.5s    \n",
      "\n",
      "2020-08-17 18:04:00 (17.7 MB/s) - ‘../data/aclImdb_v1.tar.gz’ saved [84125825/84125825]\n",
      "\n"
     ]
    }
   ],
   "source": [
    "%mkdir ../data\n",
    "!wget -O ../data/aclImdb_v1.tar.gz http://ai.stanford.edu/~amaas/data/sentiment/aclImdb_v1.tar.gz\n",
    "!tar -zxf ../data/aclImdb_v1.tar.gz -C ../data"
   ]
  },
  {
   "cell_type": "markdown",
   "metadata": {},
   "source": [
    "## Step 2: Preparing and Processing the data\n",
    "\n",
    "Also, as in the XGBoost notebook, we will be doing some initial data processing. The first few steps are the same as in the XGBoost example. To begin with, we will read in each of the reviews and combine them into a single input structure. Then, we will split the dataset into a training set and a testing set."
   ]
  },
  {
   "cell_type": "code",
   "execution_count": 2,
   "metadata": {},
   "outputs": [],
   "source": [
    "import os\n",
    "import glob\n",
    "\n",
    "def read_imdb_data(data_dir='../data/aclImdb'):\n",
    "    data = {}\n",
    "    labels = {}\n",
    "    \n",
    "    for data_type in ['train', 'test']:\n",
    "        data[data_type] = {}\n",
    "        labels[data_type] = {}\n",
    "        \n",
    "        for sentiment in ['pos', 'neg']:\n",
    "            data[data_type][sentiment] = []\n",
    "            labels[data_type][sentiment] = []\n",
    "            \n",
    "            path = os.path.join(data_dir, data_type, sentiment, '*.txt')\n",
    "            files = glob.glob(path)\n",
    "            \n",
    "            for f in files:\n",
    "                with open(f) as review:\n",
    "                    data[data_type][sentiment].append(review.read())\n",
    "                    # Here we represent a positive review by '1' and a negative review by '0'\n",
    "                    labels[data_type][sentiment].append(1 if sentiment == 'pos' else 0)\n",
    "                    \n",
    "            assert len(data[data_type][sentiment]) == len(labels[data_type][sentiment]), \\\n",
    "                    \"{}/{} data size does not match labels size\".format(data_type, sentiment)\n",
    "                \n",
    "    return data, labels"
   ]
  },
  {
   "cell_type": "code",
   "execution_count": 3,
   "metadata": {},
   "outputs": [
    {
     "name": "stdout",
     "output_type": "stream",
     "text": [
      "IMDB reviews: train = 12500 pos / 12500 neg, test = 12500 pos / 12500 neg\n"
     ]
    }
   ],
   "source": [
    "data, labels = read_imdb_data()\n",
    "print(\"IMDB reviews: train = {} pos / {} neg, test = {} pos / {} neg\".format(\n",
    "            len(data['train']['pos']), len(data['train']['neg']),\n",
    "            len(data['test']['pos']), len(data['test']['neg'])))"
   ]
  },
  {
   "cell_type": "markdown",
   "metadata": {},
   "source": [
    "Now that we've read the raw training and testing data from the downloaded dataset, we will combine the positive and negative reviews and shuffle the resulting records."
   ]
  },
  {
   "cell_type": "code",
   "execution_count": 4,
   "metadata": {},
   "outputs": [],
   "source": [
    "from sklearn.utils import shuffle\n",
    "\n",
    "def prepare_imdb_data(data, labels):\n",
    "    \"\"\"Prepare training and test sets from IMDb movie reviews.\"\"\"\n",
    "    \n",
    "    #Combine positive and negative reviews and labels\n",
    "    data_train = data['train']['pos'] + data['train']['neg']\n",
    "    data_test = data['test']['pos'] + data['test']['neg']\n",
    "    labels_train = labels['train']['pos'] + labels['train']['neg']\n",
    "    labels_test = labels['test']['pos'] + labels['test']['neg']\n",
    "    \n",
    "    #Shuffle reviews and corresponding labels within training and test sets\n",
    "    data_train, labels_train = shuffle(data_train, labels_train)\n",
    "    data_test, labels_test = shuffle(data_test, labels_test)\n",
    "    \n",
    "    # Return a unified training data, test data, training labels, test labets\n",
    "    return data_train, data_test, labels_train, labels_test"
   ]
  },
  {
   "cell_type": "code",
   "execution_count": 5,
   "metadata": {},
   "outputs": [
    {
     "name": "stdout",
     "output_type": "stream",
     "text": [
      "IMDb reviews (combined): train = 25000, test = 25000\n"
     ]
    }
   ],
   "source": [
    "train_X, test_X, train_y, test_y = prepare_imdb_data(data, labels)\n",
    "print(\"IMDb reviews (combined): train = {}, test = {}\".format(len(train_X), len(test_X)))"
   ]
  },
  {
   "cell_type": "markdown",
   "metadata": {},
   "source": [
    "Now that we have our training and testing sets unified and prepared, we should do a quick check and see an example of the data our model will be trained on. This is generally a good idea as it allows you to see how each of the further processing steps affects the reviews and it also ensures that the data has been loaded correctly."
   ]
  },
  {
   "cell_type": "code",
   "execution_count": 6,
   "metadata": {},
   "outputs": [
    {
     "name": "stdout",
     "output_type": "stream",
     "text": [
      "I was never quite sure where this thing was going. These people seem interested in what is going on on some mountain. They investigate, have narrow escapes, leave, come back, leave, put each other in danger, sleepwalk, get attacked by witches who have consistent wardrobes, etc., etc. The guy seems to like the girl, but leaves her unprotected numerous times. She gets taken off, he gets her back, leaves her again. You get the point. The whole thing seems to get around to some sort of sacrifice, I think, but I'm not sure, or turning people into witches, but I'm not sure. It's just dull and endless and not worth the time. There are some atmospheric scenes, but the print is so bad that there times when twenty seconds of blackness is not unusual. Is this caused by age or the overuse of night filters.\n",
      "0\n"
     ]
    }
   ],
   "source": [
    "print(train_X[100])\n",
    "print(train_y[100])"
   ]
  },
  {
   "cell_type": "markdown",
   "metadata": {},
   "source": [
    "The first step in processing the reviews is to make sure that any html tags that appear should be removed. In addition we wish to tokenize our input, that way words such as *entertained* and *entertaining* are considered the same with regard to sentiment analysis."
   ]
  },
  {
   "cell_type": "code",
   "execution_count": 7,
   "metadata": {},
   "outputs": [],
   "source": [
    "import nltk\n",
    "from nltk.corpus import stopwords\n",
    "from nltk.stem.porter import *\n",
    "\n",
    "import re\n",
    "from bs4 import BeautifulSoup\n",
    "\n",
    "def review_to_words(review):\n",
    "    nltk.download(\"stopwords\", quiet=True)\n",
    "    stemmer = PorterStemmer()\n",
    "    \n",
    "    text = BeautifulSoup(review, \"html.parser\").get_text() # Remove HTML tags\n",
    "    text = re.sub(r\"[^a-zA-Z0-9]\", \" \", text.lower()) # Convert to lower case\n",
    "    words = text.split() # Split string into words\n",
    "    words = [w for w in words if w not in stopwords.words(\"english\")] # Remove stopwords\n",
    "    words = [PorterStemmer().stem(w) for w in words] # stem\n",
    "    \n",
    "    return words"
   ]
  },
  {
   "cell_type": "markdown",
   "metadata": {},
   "source": [
    "The `review_to_words` method defined above uses `BeautifulSoup` to remove any html tags that appear and uses the `nltk` package to tokenize the reviews. As a check to ensure we know how everything is working, try applying `review_to_words` to one of the reviews in the training set."
   ]
  },
  {
   "cell_type": "code",
   "execution_count": 8,
   "metadata": {},
   "outputs": [
    {
     "data": {
      "text/plain": [
       "\"I was never quite sure where this thing was going. These people seem interested in what is going on on some mountain. They investigate, have narrow escapes, leave, come back, leave, put each other in danger, sleepwalk, get attacked by witches who have consistent wardrobes, etc., etc. The guy seems to like the girl, but leaves her unprotected numerous times. She gets taken off, he gets her back, leaves her again. You get the point. The whole thing seems to get around to some sort of sacrifice, I think, but I'm not sure, or turning people into witches, but I'm not sure. It's just dull and endless and not worth the time. There are some atmospheric scenes, but the print is so bad that there times when twenty seconds of blackness is not unusual. Is this caused by age or the overuse of night filters.\""
      ]
     },
     "execution_count": 8,
     "metadata": {},
     "output_type": "execute_result"
    }
   ],
   "source": [
    "train_X[100]"
   ]
  },
  {
   "cell_type": "code",
   "execution_count": 9,
   "metadata": {},
   "outputs": [
    {
     "data": {
      "text/plain": [
       "['never',\n",
       " 'quit',\n",
       " 'sure',\n",
       " 'thing',\n",
       " 'go',\n",
       " 'peopl',\n",
       " 'seem',\n",
       " 'interest',\n",
       " 'go',\n",
       " 'mountain',\n",
       " 'investig',\n",
       " 'narrow',\n",
       " 'escap',\n",
       " 'leav',\n",
       " 'come',\n",
       " 'back',\n",
       " 'leav',\n",
       " 'put',\n",
       " 'danger',\n",
       " 'sleepwalk',\n",
       " 'get',\n",
       " 'attack',\n",
       " 'witch',\n",
       " 'consist',\n",
       " 'wardrob',\n",
       " 'etc',\n",
       " 'etc',\n",
       " 'guy',\n",
       " 'seem',\n",
       " 'like',\n",
       " 'girl',\n",
       " 'leav',\n",
       " 'unprotect',\n",
       " 'numer',\n",
       " 'time',\n",
       " 'get',\n",
       " 'taken',\n",
       " 'get',\n",
       " 'back',\n",
       " 'leav',\n",
       " 'get',\n",
       " 'point',\n",
       " 'whole',\n",
       " 'thing',\n",
       " 'seem',\n",
       " 'get',\n",
       " 'around',\n",
       " 'sort',\n",
       " 'sacrific',\n",
       " 'think',\n",
       " 'sure',\n",
       " 'turn',\n",
       " 'peopl',\n",
       " 'witch',\n",
       " 'sure',\n",
       " 'dull',\n",
       " 'endless',\n",
       " 'worth',\n",
       " 'time',\n",
       " 'atmospher',\n",
       " 'scene',\n",
       " 'print',\n",
       " 'bad',\n",
       " 'time',\n",
       " 'twenti',\n",
       " 'second',\n",
       " 'black',\n",
       " 'unusu',\n",
       " 'caus',\n",
       " 'age',\n",
       " 'overus',\n",
       " 'night',\n",
       " 'filter']"
      ]
     },
     "execution_count": 9,
     "metadata": {},
     "output_type": "execute_result"
    }
   ],
   "source": [
    "# TODO: Apply review_to_words to a review (train_X[100] or any other review)\n",
    "review_to_words(train_X[100])"
   ]
  },
  {
   "cell_type": "markdown",
   "metadata": {},
   "source": [
    "**Question:** Above we mentioned that `review_to_words` method removes html formatting and allows us to tokenize the words found in a review, for example, converting *entertained* and *entertaining* into *entertain* so that they are treated as though they are the same word. What else, if anything, does this method do to the input?"
   ]
  },
  {
   "cell_type": "markdown",
   "metadata": {},
   "source": [
    "**Answer:**\n",
    "\n",
    "It also removes the stop words , it splits the string into a splitted words and convert all letter to lower case"
   ]
  },
  {
   "cell_type": "markdown",
   "metadata": {},
   "source": [
    "The method below applies the `review_to_words` method to each of the reviews in the training and testing datasets. In addition it caches the results. This is because performing this processing step can take a long time. This way if you are unable to complete the notebook in the current session, you can come back without needing to process the data a second time."
   ]
  },
  {
   "cell_type": "code",
   "execution_count": 10,
   "metadata": {},
   "outputs": [],
   "source": [
    "import pickle\n",
    "\n",
    "cache_dir = os.path.join(\"../cache\", \"sentiment_analysis\")  # where to store cache files\n",
    "os.makedirs(cache_dir, exist_ok=True)  # ensure cache directory exists\n",
    "\n",
    "def preprocess_data(data_train, data_test, labels_train, labels_test,\n",
    "                    cache_dir=cache_dir, cache_file=\"preprocessed_data.pkl\"):\n",
    "    \"\"\"Convert each review to words; read from cache if available.\"\"\"\n",
    "\n",
    "    # If cache_file is not None, try to read from it first\n",
    "    cache_data = None\n",
    "    if cache_file is not None:\n",
    "        try:\n",
    "            with open(os.path.join(cache_dir, cache_file), \"rb\") as f:\n",
    "                cache_data = pickle.load(f)\n",
    "            print(\"Read preprocessed data from cache file:\", cache_file)\n",
    "        except:\n",
    "            pass  # unable to read from cache, but that's okay\n",
    "    \n",
    "    # If cache is missing, then do the heavy lifting\n",
    "    if cache_data is None:\n",
    "        # Preprocess training and test data to obtain words for each review\n",
    "        #words_train = list(map(review_to_words, data_train))\n",
    "        #words_test = list(map(review_to_words, data_test))\n",
    "        words_train = [review_to_words(review) for review in data_train]\n",
    "        words_test = [review_to_words(review) for review in data_test]\n",
    "        \n",
    "        # Write to cache file for future runs\n",
    "        if cache_file is not None:\n",
    "            cache_data = dict(words_train=words_train, words_test=words_test,\n",
    "                              labels_train=labels_train, labels_test=labels_test)\n",
    "            with open(os.path.join(cache_dir, cache_file), \"wb\") as f:\n",
    "                pickle.dump(cache_data, f)\n",
    "            print(\"Wrote preprocessed data to cache file:\", cache_file)\n",
    "    else:\n",
    "        # Unpack data loaded from cache file\n",
    "        words_train, words_test, labels_train, labels_test = (cache_data['words_train'],\n",
    "                cache_data['words_test'], cache_data['labels_train'], cache_data['labels_test'])\n",
    "    \n",
    "    return words_train, words_test, labels_train, labels_test"
   ]
  },
  {
   "cell_type": "code",
   "execution_count": 11,
   "metadata": {},
   "outputs": [
    {
     "name": "stdout",
     "output_type": "stream",
     "text": [
      "Read preprocessed data from cache file: preprocessed_data.pkl\n"
     ]
    }
   ],
   "source": [
    "# Preprocess data\n",
    "train_X, test_X, train_y, test_y = preprocess_data(train_X, test_X, train_y, test_y)"
   ]
  },
  {
   "cell_type": "markdown",
   "metadata": {},
   "source": [
    "## Transform the data\n",
    "\n",
    "In the XGBoost notebook we transformed the data from its word representation to a bag-of-words feature representation. For the model we are going to construct in this notebook we will construct a feature representation which is very similar. To start, we will represent each word as an integer. Of course, some of the words that appear in the reviews occur very infrequently and so likely don't contain much information for the purposes of sentiment analysis. The way we will deal with this problem is that we will fix the size of our working vocabulary and we will only include the words that appear most frequently. We will then combine all of the infrequent words into a single category and, in our case, we will label it as `1`.\n",
    "\n",
    "Since we will be using a recurrent neural network, it will be convenient if the length of each review is the same. To do this, we will fix a size for our reviews and then pad short reviews with the category 'no word' (which we will label `0`) and truncate long reviews."
   ]
  },
  {
   "cell_type": "markdown",
   "metadata": {},
   "source": [
    "### (TODO) Create a word dictionary\n",
    "\n",
    "To begin with, we need to construct a way to map words that appear in the reviews to integers. Here we fix the size of our vocabulary (including the 'no word' and 'infrequent' categories) to be `5000` but you may wish to change this to see how it affects the model.\n",
    "\n",
    "> **TODO:** Complete the implementation for the `build_dict()` method below. Note that even though the vocab_size is set to `5000`, we only want to construct a mapping for the most frequently appearing `4998` words. This is because we want to reserve the special labels `0` for 'no word' and `1` for 'infrequent word'."
   ]
  },
  {
   "cell_type": "code",
   "execution_count": 12,
   "metadata": {},
   "outputs": [],
   "source": [
    "import numpy as np\n",
    "\n",
    "def build_dict(data, vocab_size = 5000):\n",
    "    \"\"\"Construct and return a dictionary mapping each of the most frequently appearing words to a unique integer.\"\"\"\n",
    "    \n",
    "    # TODO: Determine how often each word appears in `data`. Note that `data` is a list of sentences and that a\n",
    "    #       sentence is a list of words.\n",
    "    \n",
    "    word_count = {} # A dict storing the words that appear in the reviews along with how often they occur\n",
    "    for review in data:\n",
    "        for word in review:\n",
    "            word_count[word] = word_count[word] + 1 if word in word_count else 1\n",
    "    \n",
    "    # TODO: Sort the words found in `data` so that sorted_words[0] is the most frequently appearing word and\n",
    "    #       sorted_words[-1] is the least frequently appearing word.\n",
    "    \n",
    "    word_count_sorted = sorted(word_count.items(), key=(lambda item: item[1]), reverse=True)\n",
    "    sorted_words = [item[0] for item in word_count_sorted]\n",
    "    \n",
    "    word_dict = {} # This is what we are building, a dictionary that translates words into integers\n",
    "    for idx, word in enumerate(sorted_words[:vocab_size - 2]): # The -2 is so that we save room for the 'no word'\n",
    "        word_dict[word] = idx + 2                              # 'infrequent' labels\n",
    "        \n",
    "    return word_dict"
   ]
  },
  {
   "cell_type": "code",
   "execution_count": 13,
   "metadata": {},
   "outputs": [],
   "source": [
    "word_dict = build_dict(train_X)"
   ]
  },
  {
   "cell_type": "markdown",
   "metadata": {},
   "source": [
    "**Question:** What are the five most frequently appearing (tokenized) words in the training set? Does it makes sense that these words appear frequently in the training set?\n"
   ]
  },
  {
   "cell_type": "markdown",
   "metadata": {},
   "source": [
    "**Answer:**\n",
    "\n",
    "the five most frrequently words are : movi , film , one , like , time \n",
    "\n",
    "and yeah i guess it makes sense because these are imdb movive reviews"
   ]
  },
  {
   "cell_type": "code",
   "execution_count": 14,
   "metadata": {},
   "outputs": [
    {
     "name": "stdout",
     "output_type": "stream",
     "text": [
      "{'movi': 2, 'film': 3, 'one': 4, 'like': 5, 'time': 6, 'good': 7, 'make': 8, 'charact': 9, 'get': 10, 'see': 11, 'watch': 12, 'stori': 13, 'even': 14, 'would': 15, 'realli': 16, 'well': 17, 'scene': 18, 'look': 19, 'show': 20, 'much': 21, 'end': 22, 'peopl': 23, 'bad': 24, 'go': 25, 'great': 26, 'also': 27, 'first': 28, 'love': 29, 'think': 30, 'way': 31, 'act': 32, 'play': 33, 'made': 34, 'thing': 35, 'could': 36, 'know': 37, 'say': 38, 'seem': 39, 'work': 40, 'plot': 41, 'two': 42, 'actor': 43, 'year': 44, 'come': 45, 'mani': 46, 'seen': 47, 'take': 48, 'want': 49, 'life': 50, 'never': 51, 'littl': 52, 'best': 53, 'tri': 54, 'man': 55, 'ever': 56, 'give': 57, 'better': 58, 'still': 59, 'perform': 60, 'find': 61, 'feel': 62, 'part': 63, 'back': 64, 'use': 65, 'someth': 66, 'director': 67, 'actual': 68, 'interest': 69, 'lot': 70, 'real': 71, 'old': 72, 'cast': 73, 'though': 74, 'live': 75, 'star': 76, 'enjoy': 77, 'guy': 78, 'anoth': 79, 'new': 80, 'role': 81, 'noth': 82, '10': 83, 'funni': 84, 'music': 85, 'point': 86, 'start': 87, 'set': 88, 'girl': 89, 'origin': 90, 'day': 91, 'world': 92, 'everi': 93, 'believ': 94, 'turn': 95, 'quit': 96, 'direct': 97, 'us': 98, 'thought': 99, 'fact': 100, 'minut': 101, 'horror': 102, 'kill': 103, 'action': 104, 'comedi': 105, 'pretti': 106, 'young': 107, 'wonder': 108, 'happen': 109, 'around': 110, 'got': 111, 'effect': 112, 'right': 113, 'long': 114, 'howev': 115, 'big': 116, 'line': 117, 'famili': 118, 'enough': 119, 'seri': 120, 'may': 121, 'need': 122, 'fan': 123, 'bit': 124, 'script': 125, 'beauti': 126, 'person': 127, 'becom': 128, 'without': 129, 'must': 130, 'alway': 131, 'friend': 132, 'tell': 133, 'reason': 134, 'saw': 135, 'last': 136, 'final': 137, 'kid': 138, 'almost': 139, 'put': 140, 'least': 141, 'sure': 142, 'done': 143, 'whole': 144, 'place': 145, 'complet': 146, 'kind': 147, 'expect': 148, 'differ': 149, 'shot': 150, 'far': 151, 'mean': 152, 'anyth': 153, 'book': 154, 'laugh': 155, 'might': 156, 'name': 157, 'sinc': 158, 'begin': 159, '2': 160, 'probabl': 161, 'woman': 162, 'help': 163, 'entertain': 164, 'let': 165, 'screen': 166, 'call': 167, 'tv': 168, 'moment': 169, 'away': 170, 'read': 171, 'yet': 172, 'rather': 173, 'worst': 174, 'run': 175, 'fun': 176, 'lead': 177, 'hard': 178, 'audienc': 179, 'idea': 180, 'anyon': 181, 'episod': 182, 'american': 183, 'found': 184, 'appear': 185, 'bore': 186, 'especi': 187, 'although': 188, 'hope': 189, 'keep': 190, 'cours': 191, 'anim': 192, 'job': 193, 'goe': 194, 'move': 195, 'sens': 196, 'version': 197, 'dvd': 198, 'war': 199, 'money': 200, 'someon': 201, 'mind': 202, 'mayb': 203, 'problem': 204, 'true': 205, 'hous': 206, 'everyth': 207, 'nice': 208, 'second': 209, 'rate': 210, 'three': 211, 'night': 212, 'face': 213, 'follow': 214, 'recommend': 215, 'product': 216, 'main': 217, 'worth': 218, 'leav': 219, 'human': 220, 'special': 221, 'excel': 222, 'togeth': 223, 'wast': 224, 'everyon': 225, 'sound': 226, 'john': 227, 'hand': 228, '1': 229, 'father': 230, 'later': 231, 'eye': 232, 'said': 233, 'view': 234, 'instead': 235, 'review': 236, 'boy': 237, 'high': 238, 'hour': 239, 'miss': 240, 'classic': 241, 'talk': 242, 'wife': 243, 'understand': 244, 'left': 245, 'care': 246, 'black': 247, 'death': 248, 'open': 249, 'murder': 250, 'write': 251, 'half': 252, 'head': 253, 'rememb': 254, 'chang': 255, 'viewer': 256, 'fight': 257, 'gener': 258, 'surpris': 259, 'includ': 260, 'short': 261, 'die': 262, 'fall': 263, 'less': 264, 'els': 265, 'entir': 266, 'piec': 267, 'involv': 268, 'pictur': 269, 'simpli': 270, 'top': 271, 'home': 272, 'power': 273, 'total': 274, 'usual': 275, 'budget': 276, 'attempt': 277, 'suppos': 278, 'releas': 279, 'hollywood': 280, 'terribl': 281, 'song': 282, 'men': 283, 'possibl': 284, 'featur': 285, 'portray': 286, 'disappoint': 287, 'poor': 288, '3': 289, 'coupl': 290, 'camera': 291, 'stupid': 292, 'dead': 293, 'wrong': 294, 'produc': 295, 'low': 296, 'either': 297, 'video': 298, 'aw': 299, 'definit': 300, 'except': 301, 'rest': 302, 'given': 303, 'absolut': 304, 'women': 305, 'lack': 306, 'word': 307, 'writer': 308, 'titl': 309, 'talent': 310, 'decid': 311, 'full': 312, 'perfect': 313, 'along': 314, 'style': 315, 'close': 316, 'truli': 317, 'school': 318, 'save': 319, 'emot': 320, 'age': 321, 'sex': 322, 'next': 323, 'bring': 324, 'mr': 325, 'case': 326, 'killer': 327, 'heart': 328, 'comment': 329, 'sort': 330, 'creat': 331, 'perhap': 332, 'came': 333, 'brother': 334, 'sever': 335, 'joke': 336, 'art': 337, 'dialogu': 338, 'game': 339, 'small': 340, 'base': 341, 'flick': 342, 'written': 343, 'sequenc': 344, 'meet': 345, 'earli': 346, 'often': 347, 'other': 348, 'mother': 349, 'develop': 350, 'humor': 351, 'actress': 352, 'consid': 353, 'dark': 354, 'guess': 355, 'amaz': 356, 'unfortun': 357, 'light': 358, 'lost': 359, 'exampl': 360, 'cinema': 361, 'drama': 362, 'white': 363, 'ye': 364, 'experi': 365, 'imagin': 366, 'mention': 367, 'stop': 368, 'natur': 369, 'forc': 370, 'manag': 371, 'felt': 372, 'present': 373, 'cut': 374, 'children': 375, 'fail': 376, 'son': 377, 'qualiti': 378, 'support': 379, 'car': 380, 'ask': 381, 'hit': 382, 'side': 383, 'voic': 384, 'extrem': 385, 'impress': 386, 'wors': 387, 'evil': 388, 'stand': 389, 'went': 390, 'certainli': 391, 'basic': 392, 'oh': 393, 'overal': 394, 'favorit': 395, 'horribl': 396, 'mysteri': 397, 'number': 398, 'type': 399, 'danc': 400, 'wait': 401, 'hero': 402, 'alreadi': 403, '5': 404, 'learn': 405, 'matter': 406, '4': 407, 'michael': 408, 'genr': 409, 'fine': 410, 'despit': 411, 'throughout': 412, 'walk': 413, 'success': 414, 'histori': 415, 'question': 416, 'zombi': 417, 'town': 418, 'relationship': 419, 'realiz': 420, 'child': 421, 'past': 422, 'daughter': 423, 'late': 424, 'b': 425, 'wish': 426, 'hate': 427, 'credit': 428, 'event': 429, 'theme': 430, 'touch': 431, 'citi': 432, 'today': 433, 'sometim': 434, 'behind': 435, 'god': 436, 'twist': 437, 'sit': 438, 'annoy': 439, 'stay': 440, 'deal': 441, 'abl': 442, 'rent': 443, 'pleas': 444, 'edit': 445, 'blood': 446, 'deserv': 447, 'comic': 448, 'anyway': 449, 'appar': 450, 'soon': 451, 'gave': 452, 'etc': 453, 'level': 454, 'slow': 455, 'chanc': 456, 'score': 457, 'bodi': 458, 'brilliant': 459, 'incred': 460, 'figur': 461, 'situat': 462, 'major': 463, 'self': 464, 'stuff': 465, 'decent': 466, 'element': 467, 'return': 468, 'dream': 469, 'obvious': 470, 'order': 471, 'continu': 472, 'pace': 473, 'ridicul': 474, 'happi': 475, 'add': 476, 'group': 477, 'highli': 478, 'thank': 479, 'ladi': 480, 'novel': 481, 'speak': 482, 'pain': 483, 'career': 484, 'shoot': 485, 'strang': 486, 'heard': 487, 'sad': 488, 'polic': 489, 'husband': 490, 'import': 491, 'break': 492, 'took': 493, 'strong': 494, 'cannot': 495, 'robert': 496, 'predict': 497, 'violenc': 498, 'hilari': 499, 'recent': 500, 'countri': 501, 'known': 502, 'particularli': 503, 'pick': 504, 'documentari': 505, 'season': 506, 'critic': 507, 'jame': 508, 'compar': 509, 'alon': 510, 'obviou': 511, 'told': 512, 'state': 513, 'visual': 514, 'rock': 515, 'theater': 516, 'offer': 517, 'exist': 518, 'opinion': 519, 'gore': 520, 'hold': 521, 'crap': 522, 'result': 523, 'hear': 524, 'room': 525, 'realiti': 526, 'effort': 527, 'clich': 528, 'thriller': 529, 'caus': 530, 'sequel': 531, 'explain': 532, 'serious': 533, 'king': 534, 'local': 535, 'ago': 536, 'none': 537, 'hell': 538, 'note': 539, 'allow': 540, 'david': 541, 'sister': 542, 'simpl': 543, 'femal': 544, 'deliv': 545, 'ok': 546, 'class': 547, 'convinc': 548, 'check': 549, 'suspens': 550, 'win': 551, 'oscar': 552, 'buy': 553, 'huge': 554, 'valu': 555, 'sexual': 556, 'cool': 557, 'scari': 558, 'similar': 559, 'excit': 560, 'provid': 561, 'exactli': 562, 'apart': 563, 'shown': 564, 'avoid': 565, 'seriou': 566, 'english': 567, 'whose': 568, 'taken': 569, 'cinematographi': 570, 'shock': 571, 'polit': 572, 'spoiler': 573, 'offic': 574, 'across': 575, 'middl': 576, 'pass': 577, 'street': 578, 'messag': 579, 'silli': 580, 'somewhat': 581, 'charm': 582, 'modern': 583, 'filmmak': 584, 'confus': 585, 'form': 586, 'tale': 587, 'singl': 588, 'jack': 589, 'mostli': 590, 'attent': 591, 'carri': 592, 'william': 593, 'sing': 594, 'subject': 595, 'five': 596, 'prove': 597, 'richard': 598, 'team': 599, 'stage': 600, 'cop': 601, 'unlik': 602, 'georg': 603, 'televis': 604, 'monster': 605, 'earth': 606, 'villain': 607, 'cover': 608, 'pay': 609, 'marri': 610, 'toward': 611, 'build': 612, 'parent': 613, 'pull': 614, 'due': 615, 'respect': 616, 'fill': 617, 'four': 618, 'dialog': 619, 'remind': 620, 'futur': 621, 'typic': 622, 'weak': 623, '7': 624, 'cheap': 625, 'intellig': 626, 'atmospher': 627, 'british': 628, '80': 629, 'clearli': 630, 'non': 631, 'paul': 632, 'dog': 633, 'knew': 634, 'artist': 635, 'fast': 636, '8': 637, 'crime': 638, 'easili': 639, 'escap': 640, 'doubt': 641, 'adult': 642, 'detail': 643, 'date': 644, 'romant': 645, 'fire': 646, 'member': 647, 'drive': 648, 'gun': 649, 'straight': 650, 'fit': 651, 'beyond': 652, 'attack': 653, 'imag': 654, 'upon': 655, 'posit': 656, 'whether': 657, 'fantast': 658, 'peter': 659, 'aspect': 660, 'captur': 661, 'appreci': 662, 'ten': 663, 'plan': 664, 'discov': 665, 'remain': 666, 'near': 667, 'period': 668, 'realist': 669, 'air': 670, 'mark': 671, 'red': 672, 'dull': 673, 'adapt': 674, 'within': 675, 'spend': 676, 'lose': 677, 'color': 678, 'materi': 679, 'chase': 680, 'mari': 681, 'storylin': 682, 'forget': 683, 'bunch': 684, 'clear': 685, 'lee': 686, 'victim': 687, 'nearli': 688, 'box': 689, 'york': 690, 'inspir': 691, 'match': 692, 'mess': 693, 'finish': 694, 'standard': 695, 'easi': 696, 'truth': 697, 'suffer': 698, 'busi': 699, 'dramat': 700, 'space': 701, 'bill': 702, 'western': 703, 'e': 704, 'list': 705, 'battl': 706, 'notic': 707, 'de': 708, 'french': 709, 'ad': 710, '9': 711, 'tom': 712, 'larg': 713, 'among': 714, 'eventu': 715, 'accept': 716, 'train': 717, 'agre': 718, 'soundtrack': 719, 'spirit': 720, 'third': 721, 'teenag': 722, 'adventur': 723, 'soldier': 724, 'famou': 725, 'sorri': 726, 'drug': 727, 'suggest': 728, 'normal': 729, 'babi': 730, 'cri': 731, 'ultim': 732, 'troubl': 733, 'contain': 734, 'certain': 735, 'cultur': 736, 'romanc': 737, 'rare': 738, 'lame': 739, 'somehow': 740, 'mix': 741, 'disney': 742, 'gone': 743, 'cartoon': 744, 'student': 745, 'reveal': 746, 'fear': 747, 'kept': 748, 'suck': 749, 'attract': 750, 'appeal': 751, 'premis': 752, 'secret': 753, 'greatest': 754, 'design': 755, 'shame': 756, 'throw': 757, 'scare': 758, 'copi': 759, 'wit': 760, 'admit': 761, 'america': 762, 'particular': 763, 'brought': 764, 'relat': 765, 'screenplay': 766, 'whatev': 767, 'pure': 768, '70': 769, 'averag': 770, 'harri': 771, 'master': 772, 'describ': 773, 'treat': 774, 'male': 775, '20': 776, 'fantasi': 777, 'issu': 778, 'warn': 779, 'inde': 780, 'background': 781, 'forward': 782, 'free': 783, 'project': 784, 'memor': 785, 'japanes': 786, 'poorli': 787, 'award': 788, 'locat': 789, 'amus': 790, 'potenti': 791, 'struggl': 792, 'magic': 793, 'weird': 794, 'societi': 795, 'okay': 796, 'imdb': 797, 'doctor': 798, 'accent': 799, 'hot': 800, 'water': 801, 'alien': 802, 'express': 803, 'dr': 804, '30': 805, 'odd': 806, 'choic': 807, 'crazi': 808, 'studio': 809, 'fiction': 810, 'control': 811, 'becam': 812, 'masterpiec': 813, 'difficult': 814, 'fli': 815, 'joe': 816, 'scream': 817, 'costum': 818, 'lover': 819, 'uniqu': 820, 'refer': 821, 'remak': 822, 'vampir': 823, 'girlfriend': 824, 'prison': 825, 'execut': 826, 'wear': 827, 'jump': 828, 'wood': 829, 'unless': 830, 'creepi': 831, 'cheesi': 832, 'superb': 833, 'otherwis': 834, 'parti': 835, 'ghost': 836, 'roll': 837, 'mad': 838, 'public': 839, 'depict': 840, 'week': 841, 'earlier': 842, 'badli': 843, 'moral': 844, 'jane': 845, 'fi': 846, 'dumb': 847, 'grow': 848, 'flaw': 849, 'sci': 850, 'deep': 851, 'maker': 852, 'cat': 853, 'connect': 854, 'older': 855, 'footag': 856, 'bother': 857, 'plenti': 858, 'outsid': 859, 'stick': 860, 'gay': 861, 'catch': 862, 'plu': 863, 'co': 864, 'popular': 865, 'equal': 866, 'social': 867, 'disturb': 868, 'quickli': 869, 'perfectli': 870, 'dress': 871, 'era': 872, '90': 873, 'mistak': 874, 'lie': 875, 'ride': 876, 'previou': 877, 'combin': 878, 'concept': 879, 'band': 880, 'surviv': 881, 'rich': 882, 'answer': 883, 'front': 884, 'sweet': 885, 'christma': 886, 'insid': 887, 'eat': 888, 'concern': 889, 'bare': 890, 'ben': 891, 'beat': 892, 'listen': 893, 'c': 894, 'term': 895, 'serv': 896, 'la': 897, 'german': 898, 'meant': 899, 'hardli': 900, 'stereotyp': 901, 'innoc': 902, 'law': 903, 'desper': 904, 'promis': 905, 'memori': 906, 'intent': 907, 'cute': 908, 'inform': 909, 'steal': 910, 'variou': 911, 'brain': 912, 'post': 913, 'tone': 914, 'island': 915, 'amount': 916, 'track': 917, 'compani': 918, 'nuditi': 919, 'store': 920, 'claim': 921, 'hair': 922, 'flat': 923, '50': 924, 'univers': 925, 'land': 926, 'fairli': 927, 'kick': 928, 'danger': 929, 'scott': 930, 'player': 931, 'step': 932, 'plain': 933, 'crew': 934, 'toni': 935, 'share': 936, 'centuri': 937, 'tast': 938, 'achiev': 939, 'engag': 940, 'travel': 941, 'cold': 942, 'rip': 943, 'suit': 944, 'record': 945, 'sadli': 946, 'manner': 947, 'wrote': 948, 'tension': 949, 'spot': 950, 'intens': 951, 'fascin': 952, 'familiar': 953, 'depth': 954, 'remark': 955, 'burn': 956, 'destroy': 957, 'histor': 958, 'sleep': 959, 'purpos': 960, 'languag': 961, 'ignor': 962, 'ruin': 963, 'delight': 964, 'unbeliev': 965, 'italian': 966, 'abil': 967, 'soul': 968, 'collect': 969, 'clever': 970, 'detect': 971, 'violent': 972, 'rape': 973, 'reach': 974, 'door': 975, 'trash': 976, 'scienc': 977, 'liter': 978, 'commun': 979, 'reveng': 980, 'caught': 981, 'creatur': 982, 'trip': 983, 'approach': 984, 'intrigu': 985, 'fashion': 986, 'skill': 987, 'introduc': 988, 'paint': 989, 'channel': 990, 'complex': 991, 'camp': 992, 'christian': 993, 'extra': 994, 'hole': 995, 'limit': 996, 'ann': 997, 'immedi': 998, 'mental': 999, '6': 1000, 'million': 1001, 'slightli': 1002, 'comput': 1003, 'mere': 1004, 'slasher': 1005, 'conclus': 1006, 'suddenli': 1007, 'imposs': 1008, 'teen': 1009, 'neither': 1010, 'crimin': 1011, 'spent': 1012, 'physic': 1013, 'nation': 1014, 'respons': 1015, 'planet': 1016, 'receiv': 1017, 'fake': 1018, 'blue': 1019, 'sick': 1020, 'bizarr': 1021, 'embarrass': 1022, 'indian': 1023, '15': 1024, 'ring': 1025, 'drop': 1026, 'pop': 1027, 'drag': 1028, 'haunt': 1029, 'suspect': 1030, 'pointless': 1031, 'edg': 1032, 'search': 1033, 'handl': 1034, 'biggest': 1035, 'common': 1036, 'arriv': 1037, 'faith': 1038, 'hurt': 1039, 'technic': 1040, 'angel': 1041, 'genuin': 1042, 'dad': 1043, 'awesom': 1044, 'f': 1045, 'solid': 1046, 'colleg': 1047, 'former': 1048, 'focu': 1049, 'van': 1050, 'count': 1051, 'tear': 1052, 'heavi': 1053, 'rais': 1054, 'wall': 1055, 'laughabl': 1056, 'visit': 1057, 'younger': 1058, 'sign': 1059, 'excus': 1060, 'fair': 1061, 'cult': 1062, 'tough': 1063, 'key': 1064, 'motion': 1065, 'desir': 1066, 'super': 1067, 'stun': 1068, 'addit': 1069, 'cloth': 1070, 'exploit': 1071, 'tortur': 1072, 'smith': 1073, 'race': 1074, 'davi': 1075, 'author': 1076, 'cross': 1077, 'jim': 1078, 'compel': 1079, 'consist': 1080, 'minor': 1081, 'focus': 1082, 'chemistri': 1083, 'commit': 1084, 'pathet': 1085, 'park': 1086, 'frank': 1087, 'tradit': 1088, 'obsess': 1089, 'grade': 1090, 'asid': 1091, '60': 1092, 'brutal': 1093, 'somewher': 1094, 'steve': 1095, 'explor': 1096, 'grant': 1097, 'depress': 1098, 'u': 1099, 'rule': 1100, 'opportun': 1101, 'besid': 1102, 'honest': 1103, 'dub': 1104, 'anti': 1105, 'intend': 1106, 'trailer': 1107, 'bar': 1108, 'regard': 1109, 'west': 1110, 'scientist': 1111, 'longer': 1112, 'decad': 1113, 'judg': 1114, 'silent': 1115, 'armi': 1116, 'creativ': 1117, 'wild': 1118, 'g': 1119, 'stewart': 1120, 'south': 1121, 'draw': 1122, 'road': 1123, 'govern': 1124, 'boss': 1125, 'ex': 1126, 'practic': 1127, 'surprisingli': 1128, 'club': 1129, 'gang': 1130, 'festiv': 1131, 'motiv': 1132, 'london': 1133, 'green': 1134, 'redeem': 1135, 'page': 1136, 'display': 1137, 'machin': 1138, 'aliv': 1139, 'militari': 1140, 'idiot': 1141, 'repeat': 1142, 'thrill': 1143, 'yeah': 1144, 'folk': 1145, '100': 1146, 'nobodi': 1147, '40': 1148, 'journey': 1149, 'garbag': 1150, 'tire': 1151, 'smile': 1152, 'ground': 1153, 'bought': 1154, 'mood': 1155, 'stone': 1156, 'cost': 1157, 'sam': 1158, 'mouth': 1159, 'noir': 1160, 'terrif': 1161, 'agent': 1162, 'utterli': 1163, 'requir': 1164, 'sexi': 1165, 'honestli': 1166, 'area': 1167, 'report': 1168, 'geniu': 1169, 'enter': 1170, 'glad': 1171, 'investig': 1172, 'humour': 1173, 'serial': 1174, 'narr': 1175, 'occasion': 1176, 'passion': 1177, 'marriag': 1178, 'climax': 1179, 'industri': 1180, 'studi': 1181, 'charli': 1182, 'nowher': 1183, 'center': 1184, 'demon': 1185, 'ship': 1186, 'hors': 1187, 'loos': 1188, 'bear': 1189, 'wow': 1190, 'hang': 1191, 'graphic': 1192, 'giant': 1193, 'admir': 1194, 'send': 1195, 'damn': 1196, 'loud': 1197, 'profession': 1198, 'rel': 1199, 'subtl': 1200, 'nake': 1201, 'blow': 1202, 'bottom': 1203, 'insult': 1204, 'batman': 1205, 'boyfriend': 1206, 'doubl': 1207, 'kelli': 1208, 'r': 1209, 'initi': 1210, 'frame': 1211, 'gem': 1212, 'opera': 1213, 'drawn': 1214, 'affect': 1215, 'challeng': 1216, 'cinemat': 1217, 'church': 1218, 'fulli': 1219, 'seek': 1220, 'evid': 1221, 'l': 1222, 'nightmar': 1223, 'j': 1224, 'arm': 1225, 'essenti': 1226, 'conflict': 1227, 'wind': 1228, 'grace': 1229, 'christoph': 1230, 'henri': 1231, 'narrat': 1232, 'witch': 1233, 'assum': 1234, 'push': 1235, 'hunt': 1236, 'chri': 1237, 'wise': 1238, 'month': 1239, 'nomin': 1240, 'repres': 1241, 'hide': 1242, 'avail': 1243, 'affair': 1244, 'sceneri': 1245, 'thu': 1246, 'smart': 1247, 'bond': 1248, 'justic': 1249, 'interview': 1250, 'outstand': 1251, 'flashback': 1252, 'satisfi': 1253, 'presenc': 1254, 'constantli': 1255, 'bed': 1256, 'central': 1257, 'sell': 1258, 'iron': 1259, 'content': 1260, 'everybodi': 1261, 'gag': 1262, 'hotel': 1263, 'slowli': 1264, 'hire': 1265, 'system': 1266, 'individu': 1267, 'adam': 1268, 'charl': 1269, 'thrown': 1270, 'hey': 1271, 'mediocr': 1272, 'allen': 1273, 'jone': 1274, 'ray': 1275, 'billi': 1276, 'lesson': 1277, 'photographi': 1278, 'cameo': 1279, 'fellow': 1280, 'pari': 1281, 'strike': 1282, 'absurd': 1283, 'rise': 1284, 'brief': 1285, 'independ': 1286, 'neg': 1287, 'impact': 1288, 'phone': 1289, 'model': 1290, 'ill': 1291, 'born': 1292, 'spoil': 1293, 'angl': 1294, 'fresh': 1295, 'abus': 1296, 'likabl': 1297, 'hill': 1298, 'discuss': 1299, 'ahead': 1300, 'sight': 1301, 'photograph': 1302, 'sent': 1303, 'shine': 1304, 'occur': 1305, 'logic': 1306, 'blame': 1307, 'bruce': 1308, 'mainli': 1309, 'forev': 1310, 'commerci': 1311, 'skip': 1312, 'teacher': 1313, 'held': 1314, 'segment': 1315, 'surround': 1316, 'blond': 1317, 'zero': 1318, 'satir': 1319, 'trap': 1320, 'resembl': 1321, 'summer': 1322, 'queen': 1323, 'six': 1324, 'ball': 1325, 'fool': 1326, 'twice': 1327, 'tragedi': 1328, 'sub': 1329, 'reaction': 1330, 'pack': 1331, 'bomb': 1332, 'protagonist': 1333, 'hospit': 1334, 'will': 1335, 'mile': 1336, 'sport': 1337, 'drink': 1338, 'vote': 1339, 'trust': 1340, 'mom': 1341, 'jerri': 1342, 'encount': 1343, 'plane': 1344, 'al': 1345, 'program': 1346, 'station': 1347, 'current': 1348, 'choos': 1349, 'martin': 1350, 'celebr': 1351, 'join': 1352, 'tragic': 1353, 'favourit': 1354, 'field': 1355, 'round': 1356, 'lord': 1357, 'vision': 1358, 'jean': 1359, 'robot': 1360, 'arthur': 1361, 'tie': 1362, 'roger': 1363, 'random': 1364, 'fortun': 1365, 'dread': 1366, 'intern': 1367, 'psycholog': 1368, 'nonsens': 1369, 'improv': 1370, 'epic': 1371, 'prefer': 1372, 'formula': 1373, 'highlight': 1374, 'legend': 1375, 'pleasur': 1376, 'dollar': 1377, 'tape': 1378, '11': 1379, 'wide': 1380, 'porn': 1381, 'object': 1382, 'fox': 1383, 'thin': 1384, 'gorgeou': 1385, 'buddi': 1386, 'influenc': 1387, 'ugli': 1388, 'nasti': 1389, 'prepar': 1390, 'ii': 1391, 'progress': 1392, 'warm': 1393, 'reflect': 1394, 'supposedli': 1395, 'worthi': 1396, 'youth': 1397, 'length': 1398, 'latter': 1399, 'unusu': 1400, 'crash': 1401, 'seven': 1402, 'childhood': 1403, 'superior': 1404, 'shop': 1405, 'remot': 1406, 'theatr': 1407, 'funniest': 1408, 'pilot': 1409, 'paid': 1410, 'disgust': 1411, 'convers': 1412, 'fell': 1413, 'trick': 1414, 'castl': 1415, 'gangster': 1416, 'establish': 1417, 'disast': 1418, 'rob': 1419, 'ident': 1420, 'suicid': 1421, 'disappear': 1422, 'mine': 1423, 'heaven': 1424, 'mask': 1425, 'decis': 1426, 'heroin': 1427, 'forgotten': 1428, 'tend': 1429, 'singer': 1430, 'partner': 1431, 'brian': 1432, 'desert': 1433, 'recogn': 1434, 'alan': 1435, 'stuck': 1436, 'ms': 1437, 'thoroughli': 1438, 'p': 1439, 'sky': 1440, 'accur': 1441, 'replac': 1442, 'market': 1443, 'seemingli': 1444, 'andi': 1445, 'clue': 1446, 'eddi': 1447, 'danni': 1448, 'commentari': 1449, 'uncl': 1450, 'jackson': 1451, 'devil': 1452, 'therefor': 1453, 'that': 1454, 'refus': 1455, 'pair': 1456, 'river': 1457, 'ed': 1458, 'unit': 1459, 'fate': 1460, 'accid': 1461, 'fault': 1462, 'afraid': 1463, 'tune': 1464, 'clean': 1465, 'hidden': 1466, 'stephen': 1467, 'russian': 1468, 'captain': 1469, 'irrit': 1470, 'quick': 1471, 'readi': 1472, 'convey': 1473, 'instanc': 1474, 'test': 1475, 'european': 1476, 'insan': 1477, 'frustrat': 1478, 'daniel': 1479, '1950': 1480, 'rescu': 1481, 'wed': 1482, 'food': 1483, 'chines': 1484, 'lock': 1485, 'dirti': 1486, 'angri': 1487, 'joy': 1488, 'steven': 1489, 'price': 1490, 'bland': 1491, 'cage': 1492, 'rang': 1493, 'anymor': 1494, 'wooden': 1495, 'jason': 1496, 'news': 1497, 'n': 1498, 'rush': 1499, 'led': 1500, 'twenti': 1501, '12': 1502, 'board': 1503, 'worri': 1504, 'martial': 1505, 'hunter': 1506, 'transform': 1507, 'symbol': 1508, 'cgi': 1509, 'sentiment': 1510, 'onto': 1511, 'invent': 1512, 'x': 1513, 'piti': 1514, 'johnni': 1515, 'process': 1516, 'explan': 1517, 'attitud': 1518, 'owner': 1519, 'awar': 1520, 'aim': 1521, 'energi': 1522, 'favor': 1523, 'necessari': 1524, 'floor': 1525, 'target': 1526, 'religi': 1527, 'opposit': 1528, 'insight': 1529, 'blind': 1530, 'chick': 1531, 'window': 1532, 'movement': 1533, 'deepli': 1534, 'possess': 1535, 'comparison': 1536, 'mountain': 1537, 'research': 1538, 'comed': 1539, 'whatsoev': 1540, 'grand': 1541, 'rain': 1542, 'bank': 1543, 'began': 1544, 'mid': 1545, 'shadow': 1546, 'princ': 1547, 'parodi': 1548, 'pre': 1549, 'taylor': 1550, 'friendship': 1551, 'weapon': 1552, 'credibl': 1553, 'dougla': 1554, 'flesh': 1555, 'teach': 1556, 'hint': 1557, 'terror': 1558, 'protect': 1559, 'bloodi': 1560, 'marvel': 1561, 'superman': 1562, 'drunk': 1563, 'anybodi': 1564, 'watchabl': 1565, 'load': 1566, 'leader': 1567, 'accord': 1568, 'brown': 1569, 'freddi': 1570, 'appropri': 1571, 'seat': 1572, 'hitler': 1573, 'tim': 1574, 'jeff': 1575, 'villag': 1576, 'knock': 1577, 'charg': 1578, 'keaton': 1579, 'unknown': 1580, 'media': 1581, 'england': 1582, 'enemi': 1583, 'empti': 1584, 'unnecessari': 1585, 'perspect': 1586, 'utter': 1587, 'dare': 1588, 'buck': 1589, 'strength': 1590, 'craft': 1591, 'wave': 1592, 'correct': 1593, 'kiss': 1594, 'nativ': 1595, 'contrast': 1596, 'ford': 1597, 'anywher': 1598, 'soap': 1599, 'distract': 1600, 'knowledg': 1601, 'speed': 1602, 'nazi': 1603, 'chill': 1604, 'magnific': 1605, 'mission': 1606, 'fred': 1607, 'breath': 1608, 'ice': 1609, '1980': 1610, 'jr': 1611, 'moon': 1612, 'joan': 1613, 'crowd': 1614, 'frighten': 1615, '000': 1616, 'kate': 1617, 'soft': 1618, 'dick': 1619, 'dan': 1620, 'hundr': 1621, 'nick': 1622, 'simon': 1623, 'dozen': 1624, 'somebodi': 1625, 'radio': 1626, 'academi': 1627, 'thousand': 1628, 'andrew': 1629, 'shakespear': 1630, 'loss': 1631, 'quot': 1632, 'root': 1633, 'account': 1634, 'sum': 1635, 'vehicl': 1636, 'leg': 1637, '1970': 1638, 'behavior': 1639, 'convent': 1640, 'gold': 1641, 'regular': 1642, 'pretenti': 1643, 'demand': 1644, 'worker': 1645, 'compet': 1646, 'interpret': 1647, 'privat': 1648, 'explos': 1649, 'notabl': 1650, 'stretch': 1651, 'candi': 1652, 'japan': 1653, 'lynch': 1654, 'constant': 1655, 'debut': 1656, 'tarzan': 1657, 'revolv': 1658, 'prais': 1659, 'translat': 1660, 'spi': 1661, 'sea': 1662, 'sat': 1663, 'failur': 1664, 'quiet': 1665, 'franc': 1666, 'technolog': 1667, 'threaten': 1668, 'ass': 1669, 'jesu': 1670, 'aid': 1671, 'higher': 1672, 'punch': 1673, 'kevin': 1674, 'met': 1675, 'toy': 1676, 'mike': 1677, 'vh': 1678, 'abandon': 1679, 'interact': 1680, 'bet': 1681, 'command': 1682, 'separ': 1683, 'confront': 1684, 'stunt': 1685, 'techniqu': 1686, 'servic': 1687, 'recal': 1688, 'site': 1689, 'gotten': 1690, 'belong': 1691, 'cabl': 1692, 'freak': 1693, 'bug': 1694, 'foot': 1695, 'capabl': 1696, 'bright': 1697, 'jimmi': 1698, 'african': 1699, 'fu': 1700, 'stock': 1701, 'boat': 1702, 'clark': 1703, 'presid': 1704, 'fat': 1705, 'succeed': 1706, 'structur': 1707, 'gene': 1708, 'spanish': 1709, 'paper': 1710, 'kidnap': 1711, 'factor': 1712, 'whilst': 1713, 'belief': 1714, 'realis': 1715, 'witti': 1716, 'attend': 1717, 'educ': 1718, 'realism': 1719, 'complic': 1720, 'bob': 1721, 'tree': 1722, 'finest': 1723, 'assist': 1724, 'broken': 1725, 'santa': 1726, 'determin': 1727, 'observ': 1728, 'up': 1729, 'depart': 1730, 'v': 1731, 'smoke': 1732, 'lewi': 1733, 'hat': 1734, 'rubbish': 1735, 'fame': 1736, 'routin': 1737, 'domin': 1738, 'oper': 1739, 'advanc': 1740, 'morgan': 1741, 'safe': 1742, 'kinda': 1743, 'foreign': 1744, 'lone': 1745, 'hook': 1746, 'numer': 1747, 'rank': 1748, 'civil': 1749, 'rose': 1750, 'shape': 1751, 'washington': 1752, 'vs': 1753, 'shallow': 1754, 'werewolf': 1755, 'gari': 1756, 'morn': 1757, 'winner': 1758, 'accomplish': 1759, 'ordinari': 1760, 'kong': 1761, 'grab': 1762, 'peac': 1763, 'virtual': 1764, 'whenev': 1765, 'h': 1766, 'offens': 1767, 'luck': 1768, 'welcom': 1769, 'activ': 1770, 'complain': 1771, 'bigger': 1772, 'unfunni': 1773, 'contriv': 1774, 'patient': 1775, 'con': 1776, 'trek': 1777, 'pretend': 1778, 'dimension': 1779, 'eric': 1780, 'flash': 1781, 'lesbian': 1782, 'code': 1783, 'wake': 1784, 'cain': 1785, 'dri': 1786, 'albert': 1787, 'manipul': 1788, 'dancer': 1789, 'statu': 1790, 'corrupt': 1791, 'guard': 1792, 'awkward': 1793, 'context': 1794, 'speech': 1795, 'gain': 1796, 'sourc': 1797, 'signific': 1798, 'anthoni': 1799, 'psycho': 1800, '13': 1801, 'clip': 1802, 'sean': 1803, 'corni': 1804, 'w': 1805, 'theatric': 1806, 'priest': 1807, 'curiou': 1808, 'advic': 1809, 'reli': 1810, 'religion': 1811, 'addict': 1812, 'flow': 1813, 'skin': 1814, 'specif': 1815, 'jennif': 1816, 'secur': 1817, 'howard': 1818, 'asian': 1819, 'core': 1820, 'comfort': 1821, 'organ': 1822, 'promot': 1823, 'luke': 1824, 'golden': 1825, 'cheat': 1826, 'cash': 1827, 'lucki': 1828, 'associ': 1829, 'dislik': 1830, 'lower': 1831, 'contribut': 1832, 'regret': 1833, 'degre': 1834, 'devic': 1835, 'frequent': 1836, 'balanc': 1837, 'frankli': 1838, 'wing': 1839, 'spell': 1840, 'print': 1841, 'lake': 1842, 'forgiv': 1843, 'sake': 1844, 'mass': 1845, 'thoma': 1846, 'betti': 1847, 'gordon': 1848, 'unexpect': 1849, 'crack': 1850, 'construct': 1851, 'amateur': 1852, 'grown': 1853, 'depend': 1854, 'categori': 1855, 'invit': 1856, 'unfold': 1857, 'honor': 1858, 'grew': 1859, 'condit': 1860, 'matur': 1861, 'anna': 1862, 'intellectu': 1863, 'walter': 1864, 'sudden': 1865, 'mirror': 1866, 'spectacular': 1867, 'sole': 1868, 'veteran': 1869, 'robin': 1870, 'gift': 1871, 'liner': 1872, 'card': 1873, 'meanwhil': 1874, 'grip': 1875, 'demonstr': 1876, 'freedom': 1877, 'overli': 1878, 'experienc': 1879, 'oliv': 1880, 'unabl': 1881, 'sheriff': 1882, 'theori': 1883, 'circumst': 1884, 'crappi': 1885, 'brilliantli': 1886, 'subtitl': 1887, 'colour': 1888, 'section': 1889, 'drew': 1890, 'sheer': 1891, 'cook': 1892, 'path': 1893, 'parker': 1894, 'matt': 1895, 'altern': 1896, 'laughter': 1897, 'pile': 1898, 'accident': 1899, 'lawyer': 1900, 'hall': 1901, 'wander': 1902, 'treatment': 1903, 'relief': 1904, 'defin': 1905, 'sinatra': 1906, 'hank': 1907, 'dragon': 1908, 'captiv': 1909, 'gratuit': 1910, 'moor': 1911, 'halloween': 1912, 'wayn': 1913, 'barbara': 1914, 'unintent': 1915, 'wound': 1916, 'broadway': 1917, 'jacki': 1918, 'cowboy': 1919, 'k': 1920, 'kung': 1921, 'statement': 1922, 'winter': 1923, 'canadian': 1924, 'spoof': 1925, 'surreal': 1926, 'cheer': 1927, 'fare': 1928, 'compos': 1929, 'treasur': 1930, 'fish': 1931, 'gonna': 1932, 'woodi': 1933, 'emerg': 1934, 'sensit': 1935, 'unrealist': 1936, 'victor': 1937, 'ran': 1938, 'sympathet': 1939, 'driven': 1940, 'neighbor': 1941, 'authent': 1942, 'expos': 1943, 'overlook': 1944, 'topic': 1945, 'menac': 1946, 'glass': 1947, 'gross': 1948, 'ancient': 1949, 'chief': 1950, 'handsom': 1951, 'michel': 1952, 'pleasant': 1953, 'nevertheless': 1954, 'russel': 1955, 'feet': 1956, 'comedian': 1957, 'stranger': 1958, 'built': 1959, 'network': 1960, 'contemporari': 1961, 'cinderella': 1962, 'earn': 1963, 'endless': 1964, 'blockbust': 1965, 'consider': 1966, 'underr': 1967, 'gori': 1968, 'letter': 1969, 'miser': 1970, 'switch': 1971, 'brook': 1972, 'solv': 1973, 'convict': 1974, 'virgin': 1975, 'victoria': 1976, 'edward': 1977, 'bullet': 1978, 'joseph': 1979, 'chosen': 1980, 'alex': 1981, 'cynic': 1982, 'scale': 1983, '0': 1984, 'scenario': 1985, 'gut': 1986, 'sword': 1987, 'curs': 1988, 'outrag': 1989, 'com': 1990, 'uk': 1991, 'monkey': 1992, 'substanc': 1993, 'proper': 1994, 'juli': 1995, 'driver': 1996, 'screenwrit': 1997, 'wrap': 1998, 'court': 1999, 'indic': 2000, 'remov': 2001, 'par': 2002, 'bird': 2003, 'advertis': 2004, 'inevit': 2005, 'nanci': 2006, 'rental': 2007, 'naiv': 2008, 'consequ': 2009, 'grave': 2010, 'roy': 2011, 'loser': 2012, 'fatal': 2013, 'bridg': 2014, 'germani': 2015, 'le': 2016, 'invis': 2017, 'brave': 2018, 'slap': 2019, 'provok': 2020, 'footbal': 2021, 'ador': 2022, 'anger': 2023, 'loui': 2024, 'chan': 2025, 'anderson': 2026, 'alcohol': 2027, 'willi': 2028, 'ryan': 2029, 'stumbl': 2030, 'professor': 2031, 'assassin': 2032, 'sharp': 2033, 'patrick': 2034, 'bat': 2035, '1930': 2036, 'australian': 2037, 'strongli': 2038, 'liber': 2039, 'amateurish': 2040, 'eight': 2041, 'heck': 2042, 'lousi': 2043, 'saturday': 2044, 'trilog': 2045, 'refresh': 2046, 'cell': 2047, 'deni': 2048, 'ape': 2049, 'sin': 2050, 'resid': 2051, 'justifi': 2052, 'vagu': 2053, 'san': 2054, 'sympathi': 2055, 'reput': 2056, 'mini': 2057, 'defeat': 2058, 'indi': 2059, 'creator': 2060, 'terrifi': 2061, 'expert': 2062, 'task': 2063, 'tabl': 2064, 'prevent': 2065, 'tediou': 2066, 'endur': 2067, 'offend': 2068, 'trial': 2069, 'rival': 2070, 'employ': 2071, 'basebal': 2072, 'che': 2073, 'imit': 2074, 'beach': 2075, 'dig': 2076, 'weekend': 2077, 'europ': 2078, 'fairi': 2079, 'pitch': 2080, 'complaint': 2081, 'max': 2082, 'format': 2083, 'murphi': 2084, 'purchas': 2085, 'risk': 2086, 'reminisc': 2087, 'hype': 2088, 'glimps': 2089, 'nois': 2090, 'tini': 2091, 'titan': 2092, 'harsh': 2093, 'bite': 2094, 'powel': 2095, 'fals': 2096, 'prime': 2097, '14': 2098, 'strip': 2099, 'north': 2100, 'till': 2101, 'asleep': 2102, 'destruct': 2103, 'descript': 2104, 'revel': 2105, 'africa': 2106, 'texa': 2107, 'excess': 2108, 'spin': 2109, 'inner': 2110, 'arrest': 2111, 'semi': 2112, 'uninterest': 2113, 'surfac': 2114, 'sitcom': 2115, 'maintain': 2116, 'hitchcock': 2117, 'twin': 2118, 'argu': 2119, 'makeup': 2120, 'massiv': 2121, 'dinosaur': 2122, 'controversi': 2123, 'melodrama': 2124, 'reject': 2125, 'ideal': 2126, 'expens': 2127, 'insist': 2128, 'kim': 2129, 'stare': 2130, 'ludicr': 2131, 'forest': 2132, 'nail': 2133, 'ga': 2134, 'atroci': 2135, 'host': 2136, 'erot': 2137, 'ala': 2138, 'press': 2139, 'supernatur': 2140, 'subplot': 2141, 'columbo': 2142, 'cant': 2143, 'dude': 2144, 'identifi': 2145, 'presum': 2146, 'notch': 2147, 'plagu': 2148, 'closer': 2149, 'forgett': 2150, 'character': 2151, 'guest': 2152, 'method': 2153, 'crude': 2154, 'landscap': 2155, 'princess': 2156, 'border': 2157, 'foster': 2158, 'lion': 2159, 'ear': 2160, 'beast': 2161, 'damag': 2162, 'storytel': 2163, 'birth': 2164, 'accus': 2165, 'jungl': 2166, 'bound': 2167, 'urban': 2168, 'aunt': 2169, 'pacino': 2170, 'previous': 2171, 'propaganda': 2172, 'nude': 2173, 'emma': 2174, 'guid': 2175, 'thirti': 2176, 'doll': 2177, 'chose': 2178, 'jess': 2179, 'mainstream': 2180, 'mate': 2181, 'warrior': 2182, 'pet': 2183, 'whoever': 2184, '25': 2185, 'size': 2186, 'merit': 2187, 'deadli': 2188, 'poster': 2189, 'latest': 2190, 'friday': 2191, 'exact': 2192, 'cooper': 2193, 'gritti': 2194, 'upset': 2195, 'sun': 2196, 'ton': 2197, 'citizen': 2198, '1990': 2199, 'buff': 2200, 'contact': 2201, 'blend': 2202, 'settl': 2203, 'rough': 2204, 'warner': 2205, 'corps': 2206, 'contest': 2207, 'popul': 2208, 'wilson': 2209, 'pitt': 2210, 'select': 2211, 'mgm': 2212, 'widow': 2213, 'overcom': 2214, 'environ': 2215, 'rat': 2216, 'bu': 2217, 'metal': 2218, 'alic': 2219, 'lift': 2220, 'ted': 2221, 'link': 2222, 'particip': 2223, 'guilti': 2224, 'revolut': 2225, 'corner': 2226, 'accompani': 2227, 'prostitut': 2228, 'matrix': 2229, '1960': 2230, 'exagger': 2231, 'corpor': 2232, 'johnson': 2233, 'afternoon': 2234, 'moron': 2235, 'sincer': 2236, 'friendli': 2237, 'doom': 2238, 'leagu': 2239, 'hood': 2240, 'multipl': 2241, 'clair': 2242, 'instal': 2243, 'holm': 2244, 'advis': 2245, 'examin': 2246, 'hip': 2247, 'irish': 2248, 'aka': 2249, 'sunday': 2250, 'junk': 2251, 'campi': 2252, 'blah': 2253, 'string': 2254, 'lugosi': 2255, 'grim': 2256, 'defend': 2257, 'tight': 2258, 'icon': 2259, 'confid': 2260, 'shut': 2261, 'rachel': 2262, 'pro': 2263, 'shake': 2264, 'varieti': 2265, 'jaw': 2266, 'directli': 2267, 'goal': 2268, 'mexican': 2269, 'denni': 2270, 'medic': 2271, 'attach': 2272, 'sullivan': 2273, 'sentenc': 2274, 'legendari': 2275, 'truck': 2276, 'dean': 2277, 'courag': 2278, 'breast': 2279, 'terrorist': 2280, 'duke': 2281, 'prior': 2282, 'vietnam': 2283, 'sarah': 2284, 'bourn': 2285, 'yell': 2286, 'split': 2287, 'nose': 2288, 'behav': 2289, 'un': 2290, 'entri': 2291, 'proceed': 2292, 'donald': 2293, 'hong': 2294, 'stolen': 2295, 'unconvinc': 2296, 'forth': 2297, 'lifetim': 2298, 'jerk': 2299, 'buri': 2300, 'crush': 2301, 'gather': 2302, 'borrow': 2303, 'concentr': 2304, 'confess': 2305, 'swim': 2306, 'everywher': 2307, 'turkey': 2308, 'lip': 2309, 'spite': 2310, 'julia': 2311, 'california': 2312, 'deliveri': 2313, 'pan': 2314, 'reward': 2315, 'flight': 2316, 'proud': 2317, 'quest': 2318, 'freeman': 2319, 'downright': 2320, 'china': 2321, 'offici': 2322, 'hoffman': 2323, 'lazi': 2324, 'jail': 2325, 'jon': 2326, 'worthwhil': 2327, 'encourag': 2328, 'sink': 2329, 'notori': 2330, 'betray': 2331, 'sir': 2332, 'fabul': 2333, 'inept': 2334, 'fade': 2335, 'relev': 2336, 'lisa': 2337, 'retard': 2338, 'survivor': 2339, 'cousin': 2340, 'bell': 2341, 'teeth': 2342, 'bag': 2343, 'shower': 2344, 'susan': 2345, 'imageri': 2346, 'branagh': 2347, 'storm': 2348, 'facial': 2349, 'trade': 2350, 'mexico': 2351, 'finger': 2352, 'quirki': 2353, 'stab': 2354, 'hugh': 2355, 'shark': 2356, 'bride': 2357, 'summari': 2358, 'toler': 2359, 'tremend': 2360, 'alright': 2361, 'hyster': 2362, 'bitter': 2363, 'pose': 2364, 'von': 2365, 'blown': 2366, 'ha': 2367, 'ned': 2368, 'scheme': 2369, 'bone': 2370, 'larri': 2371, 'afterward': 2372, 'christ': 2373, 'address': 2374, 'cruel': 2375, 'ron': 2376, 'snake': 2377, 'swear': 2378, 'tour': 2379, 'screw': 2380, 'thumb': 2381, 'feed': 2382, 'pursu': 2383, 'beg': 2384, 'distinct': 2385, 'traci': 2386, 'occas': 2387, 'stomach': 2388, 'obscur': 2389, 'chair': 2390, 'photo': 2391, 'mechan': 2392, 'raw': 2393, 'resist': 2394, 'gruesom': 2395, 'render': 2396, 'necessarili': 2397, 'chain': 2398, 'southern': 2399, 'heavili': 2400, 'holiday': 2401, 'hardi': 2402, 'argument': 2403, 'cabin': 2404, 'sidney': 2405, 'satan': 2406, 'indulg': 2407, 'india': 2408, 'understood': 2409, 'racist': 2410, 'philip': 2411, 'forgot': 2412, 'belov': 2413, 'integr': 2414, 'fourth': 2415, 'obnoxi': 2416, 'lay': 2417, 'tongu': 2418, 'pregnant': 2419, 'midnight': 2420, 'stalk': 2421, 'outfit': 2422, 'garden': 2423, 'deeper': 2424, 'restor': 2425, '17': 2426, 'magazin': 2427, 'ticket': 2428, 'carol': 2429, 'slapstick': 2430, 'inhabit': 2431, 'incid': 2432, 'shoe': 2433, 'brad': 2434, 'lincoln': 2435, 'devot': 2436, 'disbelief': 2437, 'lili': 2438, 'maria': 2439, 'elizabeth': 2440, 'guarante': 2441, 'underground': 2442, 'anticip': 2443, 'divorc': 2444, 'benefit': 2445, 'sandler': 2446, 'princip': 2447, 'creation': 2448, 'greater': 2449, 'amazingli': 2450, 'explod': 2451, 'mildli': 2452, 'slave': 2453, 'cring': 2454, 'bbc': 2455, 'capit': 2456, 'lesli': 2457, 'introduct': 2458, 'funnier': 2459, 'halfway': 2460, 'extraordinari': 2461, 'wreck': 2462, 'tap': 2463, 'enhanc': 2464, 'text': 2465, 'overwhelm': 2466, 'transfer': 2467, 'punish': 2468, 'advantag': 2469, 'extent': 2470, 'deliber': 2471, 'preview': 2472, 'jessica': 2473, 'plant': 2474, 'dynam': 2475, 'error': 2476, 'horrif': 2477, 'lane': 2478, 'east': 2479, 'lo': 2480, 'appli': 2481, 'sophist': 2482, 'vincent': 2483, 'ensu': 2484, 'basi': 2485, 'miscast': 2486, 'homosexu': 2487, '2000': 2488, 'vacat': 2489, 'miller': 2490, 'measur': 2491, 'bollywood': 2492, 'steel': 2493, 'elev': 2494, 'sleazi': 2495, 'spoken': 2496, 'extend': 2497, 'via': 2498, 'mansion': 2499, 'uncomfort': 2500, 'reed': 2501, 'conceiv': 2502, 'beer': 2503, 'stanley': 2504, 'fix': 2505, 'goofi': 2506, 'breathtak': 2507, 'overact': 2508, 'blair': 2509, 'alter': 2510, 'hippi': 2511, 'melt': 2512, 'savag': 2513, 'assign': 2514, 'mous': 2515, 'daili': 2516, 'cathol': 2517, 'dentist': 2518, 'burt': 2519, 'succe': 2520, 'inspector': 2521, 'nowaday': 2522, 'sacrific': 2523, 'oppos': 2524, 'everyday': 2525, 'properli': 2526, 'carpent': 2527, 'subsequ': 2528, 'neck': 2529, 'block': 2530, 'circl': 2531, 'laura': 2532, 'massacr': 2533, 'grey': 2534, 'portrait': 2535, 'pool': 2536, 'concert': 2537, 'fay': 2538, 'access': 2539, 'lesser': 2540, 'fallen': 2541, 'mob': 2542, 'christi': 2543, 'seagal': 2544, 'usa': 2545, 'relax': 2546, 'jake': 2547, 'jewish': 2548, 'competit': 2549, 'chees': 2550, 'react': 2551, 'isol': 2552, 'sinist': 2553, 'appal': 2554, 'spiritu': 2555, 'immens': 2556, 'ironi': 2557, 'chop': 2558, '2006': 2559, 'lyric': 2560, 'stink': 2561, 'suitabl': 2562, 'nonetheless': 2563, 'creep': 2564, 'nine': 2565, 'shirt': 2566, 'reduc': 2567, 'user': 2568, 'retir': 2569, 'nut': 2570, 'franchis': 2571, 'rage': 2572, 'needless': 2573, 'sold': 2574, 'spring': 2575, 'luci': 2576, 'adopt': 2577, 'showcas': 2578, 'navi': 2579, 'stanwyck': 2580, 'zone': 2581, 'per': 2582, 'nurs': 2583, 'asham': 2584, 'digit': 2585, 'bulli': 2586, 'uninspir': 2587, 'jay': 2588, 'bath': 2589, 'upper': 2590, 'broadcast': 2591, 'oddli': 2592, 'sutherland': 2593, '2001': 2594, '1940': 2595, 'laid': 2596, 'illustr': 2597, 'amongst': 2598, 'aspir': 2599, 'fulfil': 2600, 'disguis': 2601, 'stylish': 2602, 'baker': 2603, 'throat': 2604, 'brando': 2605, 'em': 2606, 'neighborhood': 2607, 'pound': 2608, 'pride': 2609, 'endear': 2610, 'impli': 2611, 'nobl': 2612, '18': 2613, 'thief': 2614, 'wanna': 2615, 'wwii': 2616, 'diseas': 2617, 'cinematograph': 2618, 'shift': 2619, '16': 2620, 'dinner': 2621, 'distribut': 2622, 'bo': 2623, 'bett': 2624, 'prop': 2625, 'albeit': 2626, 'shoulder': 2627, 'tens': 2628, 'coher': 2629, 'dawn': 2630, 'rochest': 2631, 'wash': 2632, 'forti': 2633, 'silenc': 2634, 'rebel': 2635, 'knife': 2636, 'shout': 2637, 'contract': 2638, 'matthau': 2639, 'poignant': 2640, 'function': 2641, 'snow': 2642, 'surf': 2643, 'cancel': 2644, 'height': 2645, 'derek': 2646, 'cannib': 2647, 'elvira': 2648, 'eeri': 2649, 'henc': 2650, 'silver': 2651, 'chuck': 2652, 'duti': 2653, 'mindless': 2654, 'instinct': 2655, 'reunion': 2656, 'heat': 2657, 'internet': 2658, 'horrend': 2659, 'proof': 2660, 'widmark': 2661, 'incoher': 2662, 'spielberg': 2663, 'greatli': 2664, 'repetit': 2665, 'etern': 2666, 'glori': 2667, 'torn': 2668, 'premier': 2669, 'absorb': 2670, 'mill': 2671, 'musician': 2672, 'pie': 2673, 'elvi': 2674, 'alik': 2675, 'innov': 2676, 'neat': 2677, 'wealthi': 2678, 'itali': 2679, 'infam': 2680, 'horrifi': 2681, 'diamond': 2682, 'britain': 2683, 'crisi': 2684, 'blank': 2685, 'announc': 2686, 'bang': 2687, 'redempt': 2688, 'homag': 2689, 'lovabl': 2690, 'precis': 2691, 'trite': 2692, 'racism': 2693, 'nelson': 2694, 'fbi': 2695, 'burton': 2696, 'pat': 2697, 'hammer': 2698, 'chaplin': 2699, 'resolut': 2700, 'ensembl': 2701, 'wilder': 2702, 'happili': 2703, 'dedic': 2704, 'parallel': 2705, 'streisand': 2706, 'flop': 2707, 'helen': 2708, 'conclud': 2709, 'plastic': 2710, 'carter': 2711, 'broke': 2712, 'mar': 2713, 'oil': 2714, 'disagre': 2715, 'cube': 2716, 'st': 2717, 'factori': 2718, 'triumph': 2719, 'climb': 2720, 'chuckl': 2721, 'row': 2722, 'rocket': 2723, 'march': 2724, 'vega': 2725, 'weight': 2726, 'fighter': 2727, 'own': 2728, 'bush': 2729, 'mst3k': 2730, 'lust': 2731, 'sensibl': 2732, 'unforgett': 2733, 'enorm': 2734, 'wherea': 2735, 'kurt': 2736, 'meaning': 2737, 'dane': 2738, 'luca': 2739, 'spare': 2740, 'thug': 2741, 'boot': 2742, 'dump': 2743, 'butt': 2744, 'engin': 2745, 'stress': 2746, 'caricatur': 2747, 'brand': 2748, 'difficulti': 2749, 'adequ': 2750, 'arnold': 2751, 'threat': 2752, 'fifti': 2753, 'rap': 2754, 'dear': 2755, 'bobbi': 2756, 'karloff': 2757, 'secretari': 2758, 'elabor': 2759, 'journalist': 2760, 'homeless': 2761, 'fest': 2762, 'polish': 2763, 'barri': 2764, 'swing': 2765, 'flynn': 2766, 'arrog': 2767, 'hamlet': 2768, 'ralph': 2769, 'ego': 2770, 'tool': 2771, 'simpson': 2772, 'grate': 2773, 'conspiraci': 2774, 'induc': 2775, 'puppet': 2776, 'float': 2777, 'unbear': 2778, 'resort': 2779, 'fanci': 2780, 'arrang': 2781, 'spike': 2782, 'basement': 2783, 'pig': 2784, 'choreograph': 2785, 'boll': 2786, 'guilt': 2787, 'tribut': 2788, 'muppet': 2789, 'exercis': 2790, 'phillip': 2791, 'cruis': 2792, 'fianc': 2793, 'layer': 2794, 'puzzl': 2795, 'ward': 2796, 'ham': 2797, 'file': 2798, 'slip': 2799, 'document': 2800, 'medium': 2801, '24': 2802, 'item': 2803, 'tower': 2804, 'toilet': 2805, 'scarecrow': 2806, 'babe': 2807, 'stan': 2808, 'korean': 2809, 'editor': 2810, 'larger': 2811, 'philosoph': 2812, 'superfici': 2813, 'assur': 2814, 'inexplic': 2815, 'transit': 2816, 'slaughter': 2817, 'minim': 2818, 'territori': 2819, 'portion': 2820, 'doc': 2821, 'glover': 2822, 'catherin': 2823, 'orient': 2824, 'persona': 2825, 'spark': 2826, 'librari': 2827, 'denzel': 2828, 'sneak': 2829, 'ban': 2830, 'financi': 2831, 'boredom': 2832, 'pg': 2833, 'shi': 2834, 'walken': 2835, 'jeremi': 2836, 'jet': 2837, 'dorothi': 2838, 'wolf': 2839, 'owe': 2840, 'curti': 2841, 'cusack': 2842, 'multi': 2843, 'profound': 2844, 'eleph': 2845, 'metaphor': 2846, 'hudson': 2847, 'backdrop': 2848, 'ambigu': 2849, 'whale': 2850, '2005': 2851, 'notion': 2852, 'viru': 2853, 'rave': 2854, 'ultra': 2855, 'elsewher': 2856, 'implaus': 2857, 'stiff': 2858, 'hack': 2859, 'gadget': 2860, 'union': 2861, 'birthday': 2862, 'slight': 2863, 'newspap': 2864, 'poison': 2865, '1st': 2866, 'eastwood': 2867, 'eva': 2868, 'lloyd': 2869, 'bibl': 2870, 'canada': 2871, 'distanc': 2872, 'reader': 2873, 'deriv': 2874, 'pad': 2875, 'squar': 2876, 'disc': 2877, 'afford': 2878, 'urg': 2879, 'hawk': 2880, 'superhero': 2881, 'essenc': 2882, 'montag': 2883, 'spread': 2884, 'heston': 2885, 'drown': 2886, 'cure': 2887, 'charisma': 2888, 'sadist': 2889, 'huh': 2890, 'skit': 2891, 'health': 2892, 'restaur': 2893, 'button': 2894, 'estat': 2895, 'peak': 2896, 'lab': 2897, 'maniac': 2898, 'invest': 2899, 'fetch': 2900, 'companion': 2901, 'godfath': 2902, 'dealt': 2903, 'scoobi': 2904, 'muslim': 2905, 'gradual': 2906, 'alli': 2907, 'servant': 2908, 'tea': 2909, 'gothic': 2910, 'cup': 2911, 'kane': 2912, 'subtleti': 2913, 'countless': 2914, 'miik': 2915, 'ritter': 2916, 'heroic': 2917, 'electr': 2918, 'iii': 2919, 'charismat': 2920, 'elect': 2921, 'salli': 2922, 'briefli': 2923, 'reel': 2924, 'cole': 2925, 'wannab': 2926, 'toss': 2927, 'ingredi': 2928, 'tender': 2929, 'neil': 2930, 'resourc': 2931, 'nuanc': 2932, 'admittedli': 2933, 'bud': 2934, 'grandmoth': 2935, 'reev': 2936, 'kubrick': 2937, 'poverti': 2938, 'stronger': 2939, 'dawson': 2940, 'pit': 2941, 'shall': 2942, 'carrey': 2943, 'punk': 2944, 'gate': 2945, 'mild': 2946, 'label': 2947, 'stood': 2948, 'pauli': 2949, 'mafia': 2950, 'cox': 2951, 'terri': 2952, 'outcom': 2953, 'bakshi': 2954, 'fond': 2955, 'useless': 2956, 'ian': 2957, 'easier': 2958, 'tag': 2959, 'burst': 2960, 'smooth': 2961, 'cardboard': 2962, 'assault': 2963, 'astair': 2964, 'updat': 2965, 'smash': 2966, 'increasingli': 2967, 'melodramat': 2968, 'vari': 2969, '2002': 2970, 'sketch': 2971, 'exchang': 2972, 'rex': 2973, 'resolv': 2974, 'coincid': 2975, 'vulner': 2976, 'fist': 2977, 'qualifi': 2978, 'divers': 2979, 'samurai': 2980, 'reynold': 2981, 'tame': 2982, 'conveni': 2983, 'templ': 2984, 'blast': 2985, 'luckili': 2986, 'insert': 2987, 'brillianc': 2988, 'be': 2989, 'scratch': 2990, 'suspend': 2991, 'soprano': 2992, 'walker': 2993, 'nuclear': 2994, 'meat': 2995, 'seventi': 2996, 'hamilton': 2997, 'strictli': 2998, 'pin': 2999, 'jami': 3000, 'farm': 3001, 'matthew': 3002, 'gotta': 3003, 'ambiti': 3004, 'coach': 3005, 'fisher': 3006, 'monk': 3007, 'convolut': 3008, 'timeless': 3009, 'cave': 3010, 'clock': 3011, 'eccentr': 3012, 'worthless': 3013, 'brosnan': 3014, 'spooki': 3015, 'empir': 3016, 'butcher': 3017, 'grasp': 3018, 'revers': 3019, 'kudo': 3020, 'closet': 3021, 'recreat': 3022, 'discoveri': 3023, 'instantli': 3024, 'joey': 3025, 'struck': 3026, 'ninja': 3027, 'sloppi': 3028, 'cliff': 3029, 'inconsist': 3030, 'declar': 3031, 'communist': 3032, 'wipe': 3033, 'pal': 3034, 'importantli': 3035, 'evok': 3036, 'mitchel': 3037, 'norman': 3038, 'miracl': 3039, 'sidekick': 3040, 'eighti': 3041, 'selfish': 3042, 'clown': 3043, 'bleak': 3044, 'gray': 3045, 'seller': 3046, 'partli': 3047, 'fifteen': 3048, 'piano': 3049, 'debat': 3050, 'superbl': 3051, 'psychiatrist': 3052, 'flawless': 3053, 'chew': 3054, 'destin': 3055, 'lifestyl': 3056, '45': 3057, 'websit': 3058, 'aforement': 3059, 'enthusiast': 3060, 'cheek': 3061, 'australia': 3062, 'seed': 3063, 'ho': 3064, 'farc': 3065, 'stoog': 3066, 'abc': 3067, 'bash': 3068, 'slice': 3069, 'pressur': 3070, 'regardless': 3071, 'dash': 3072, 'directori': 3073, 'anni': 3074, 'wrestl': 3075, 'splatter': 3076, 'emili': 3077, 'incompet': 3078, 'dire': 3079, 'drivel': 3080, 'wick': 3081, 'akshay': 3082, 'kitchen': 3083, 'soviet': 3084, 'beaten': 3085, 'recov': 3086, 'judi': 3087, 'increas': 3088, 'flower': 3089, 'jar': 3090, 'duo': 3091, 'cameron': 3092, 'distant': 3093, 'pleasantli': 3094, 'cagney': 3095, 'suppli': 3096, 'seduc': 3097, 'ken': 3098, 'dave': 3099, 'glow': 3100, 'curios': 3101, 'cia': 3102, 'prize': 3103, 'chapter': 3104, 'doo': 3105, 'helicopt': 3106, 'artifici': 3107, 'mann': 3108, 'boil': 3109, 'lou': 3110, 'blob': 3111, 'splendid': 3112, 'web': 3113, 'eleg': 3114, 'craig': 3115, 'goldberg': 3116, 'ellen': 3117, 'drunken': 3118, 'favour': 3119, 'hop': 3120, 'ranger': 3121, 'turner': 3122, 'psychot': 3123, 'combat': 3124, 'laurel': 3125, 'glenn': 3126, 'panic': 3127, 'perri': 3128, 'francisco': 3129, 'craven': 3130, '20th': 3131, 'gentl': 3132, 'flip': 3133, 'plausibl': 3134, 'ruth': 3135, 'min': 3136, 'graduat': 3137, 'hatr': 3138, 'wizard': 3139, 'slightest': 3140, 'philosophi': 3141, 'gandhi': 3142, 'falk': 3143, 'shortli': 3144, 'rid': 3145, 'greek': 3146, 'alexand': 3147, 'fx': 3148, 'modesti': 3149, 'preciou': 3150, 'unpleas': 3151, 'ocean': 3152, 'lend': 3153, 'dracula': 3154, 'holi': 3155, 'felix': 3156, 'fund': 3157, 'jealou': 3158, 'futurist': 3159, 'legal': 3160, 'knight': 3161, 'harm': 3162, 'manhattan': 3163, 'tall': 3164, 'we': 3165, 'reviv': 3166, 'mock': 3167, 'digniti': 3168, 'forbidden': 3169, 'bless': 3170, 'childish': 3171, 'thread': 3172, 'nod': 3173, 'explicit': 3174, 'overdon': 3175, 'ami': 3176, 'tank': 3177, 'scientif': 3178, 'giallo': 3179, 'awaken': 3180, '99': 3181, 'eve': 3182, 'margaret': 3183, '2004': 3184, 'awe': 3185, 'pirat': 3186, 'broad': 3187, 'unwatch': 3188, 'fever': 3189, 'nerv': 3190, 'yesterday': 3191, 'mel': 3192, 'repeatedli': 3193, 'thick': 3194, 'torment': 3195, 'elderli': 3196, 'verhoeven': 3197, 'kay': 3198, 'launch': 3199, 'lean': 3200, 'royal': 3201, 'custom': 3202, 'timothi': 3203, 'uniform': 3204, 'ambit': 3205, 'bin': 3206, 'acclaim': 3207, 'romero': 3208, 'automat': 3209, 'absenc': 3210, 'stiller': 3211, 'eas': 3212, 'rivet': 3213, 'publish': 3214, 'politician': 3215, 'ah': 3216, 'griffith': 3217, 'roman': 3218, 'transport': 3219, 'foul': 3220, 'stinker': 3221, 'pierc': 3222, 'bathroom': 3223, 'purpl': 3224, 'wallac': 3225, 'crook': 3226, 'tomato': 3227, 'gabriel': 3228, 'antic': 3229, 'warren': 3230, 'homicid': 3231, 'phrase': 3232, 'pulp': 3233, 'sunshin': 3234, 'darker': 3235, 'termin': 3236, 'ought': 3237, 'rambo': 3238, 'q': 3239, 'saint': 3240, 'revolutionari': 3241, 'choreographi': 3242, 'brazil': 3243, 'contrari': 3244, '2003': 3245, 'sixti': 3246, 'packag': 3247, 'album': 3248, 'kenneth': 3249, 'donna': 3250, 'viciou': 3251, 'karen': 3252, 'awak': 3253, 'horrid': 3254, 'evolv': 3255, 'hollow': 3256, 'li': 3257, 'marin': 3258, 'coloni': 3259, 'juvenil': 3260, 'eyr': 3261, 'pray': 3262, 'prom': 3263, 'ireland': 3264, 'beatti': 3265, 'twelv': 3266, 'defi': 3267, 'mummi': 3268, 'stole': 3269, 'kapoor': 3270, 'nerd': 3271, 'overr': 3272, 'conserv': 3273, 'option': 3274, 'blade': 3275, 'dose': 3276, 'boast': 3277, 'candid': 3278, 'ramon': 3279, 'mildr': 3280, 'funer': 3281, 'astonish': 3282, 'altman': 3283, 'protest': 3284, 'global': 3285, 'kirk': 3286, 'natali': 3287, 'collabor': 3288, 'trio': 3289, 'confirm': 3290, 'fulci': 3291, 'jazz': 3292, 'detract': 3293, 'flame': 3294, 'enterpris': 3295, 'leap': 3296, 'nicholson': 3297, 'racial': 3298, 'mystic': 3299, 'audio': 3300, 'shade': 3301, 'destini': 3302, 'whip': 3303, 'bottl': 3304, 'bull': 3305, 'delici': 3306, 'tommi': 3307, 'yellow': 3308, 'blake': 3309, 'spit': 3310, 'bedroom': 3311, 'visibl': 3312, 'inherit': 3313, 'reunit': 3314, 'enchant': 3315, 'popcorn': 3316, 'pseudo': 3317, 'staff': 3318, 'harder': 3319, 'todd': 3320, 'vivid': 3321, 'merci': 3322, 'altogeth': 3323, 'neo': 3324, 'meaningless': 3325, 'swedish': 3326, 'threw': 3327, 'fonda': 3328, 'adolesc': 3329, 'voight': 3330, 'suspici': 3331, 'atlanti': 3332, 'lemmon': 3333, 'fanat': 3334, 'reserv': 3335, 'decor': 3336, 'tip': 3337, 'ruthless': 3338, 'roommat': 3339, 'befriend': 3340, 'kennedi': 3341, 'synopsi': 3342, 'bust': 3343, 'crocodil': 3344, 'moodi': 3345, 'lawrenc': 3346, 'wire': 3347, 'uneven': 3348, 'madonna': 3349, 'exhibit': 3350, 'await': 3351, 'leonard': 3352, 'respond': 3353, 'jew': 3354, 'edi': 3355, 'rural': 3356, '2007': 3357, 'clint': 3358, 'chao': 3359, 'palma': 3360, 'voyag': 3361, 'dimens': 3362, 'incident': 3363, 'bold': 3364, 'centr': 3365, 'bargain': 3366, 'garner': 3367, 'carl': 3368, 'bradi': 3369, 'audit': 3370, 'clumsi': 3371, 'unsettl': 3372, 'abysm': 3373, 'ventur': 3374, 'holli': 3375, 'neglect': 3376, '2nd': 3377, 'poetic': 3378, 'trail': 3379, 'hart': 3380, 'daddi': 3381, 'echo': 3382, 'nearbi': 3383, 'cari': 3384, 'troop': 3385, 'tiger': 3386, 'immigr': 3387, 'timon': 3388, 'wealth': 3389, 'cd': 3390, 'elimin': 3391, 'lit': 3392, 'ant': 3393, 'cuba': 3394, 'imperson': 3395, 'acknowledg': 3396, 'versu': 3397, 'mall': 3398, 'characterist': 3399, 'humili': 3400, 'celluloid': 3401, 'jeffrey': 3402, 'pun': 3403, 'collaps': 3404, 'paus': 3405, 'solo': 3406, 'marshal': 3407, 'prejudic': 3408, 'infect': 3409, 'repuls': 3410, 'mistaken': 3411, 'saga': 3412, 'mickey': 3413, 'domest': 3414, 'homer': 3415, 'inan': 3416, 'inappropri': 3417, 'ginger': 3418, 'harvey': 3419, '1996': 3420, 'coat': 3421, 'chest': 3422, 'interrupt': 3423, 'promin': 3424, 'equip': 3425, 'cake': 3426, 'pant': 3427, 'coffe': 3428, 'apolog': 3429, 'gear': 3430, 'tribe': 3431, 'undoubtedli': 3432, 'sore': 3433, 'milk': 3434, 'hbo': 3435, 'leon': 3436, 'assembl': 3437, 'olivi': 3438, 'retain': 3439, 'devast': 3440, 'consum': 3441, 'primari': 3442, 'airplan': 3443, 'institut': 3444, 'colleagu': 3445, 'colonel': 3446, 'maggi': 3447, 'trace': 3448, 'florida': 3449, 'solut': 3450, 'highest': 3451, 'embrac': 3452, 'exot': 3453, 'vulgar': 3454, 'furthermor': 3455, 'jenni': 3456, 'pen': 3457, 'instant': 3458, 'pot': 3459, 'aveng': 3460, 'humbl': 3461, 'brooklyn': 3462, 'polanski': 3463, 'dian': 3464, 'strain': 3465, 'illog': 3466, 'gender': 3467, 'rick': 3468, '1999': 3469, 'bowl': 3470, 'descend': 3471, 'linda': 3472, 'sale': 3473, '3rd': 3474, 'godzilla': 3475, 'poke': 3476, 'seduct': 3477, 'principl': 3478, 'ya': 3479, 'smaller': 3480, 'wive': 3481, 'outer': 3482, 'cope': 3483, 'dutch': 3484, 'disabl': 3485, 'primarili': 3486, 'beneath': 3487, 'inferior': 3488, 'scope': 3489, 'devoid': 3490, 'mixtur': 3491, 'cue': 3492, 'yard': 3493, 'rabbit': 3494, 'secondli': 3495, 'glamor': 3496, 'vast': 3497, 'predecessor': 3498, 'hal': 3499, 'gundam': 3500, 'blatant': 3501, 'dive': 3502, 'gloriou': 3503, 'dud': 3504, 'lol': 3505, 'bubbl': 3506, 'senseless': 3507, 'museum': 3508, 'alfr': 3509, 'myer': 3510, 'pearl': 3511, 'simplist': 3512, 'et': 3513, 'countrysid': 3514, 'disjoint': 3515, 'april': 3516, 'casual': 3517, 'talki': 3518, 'z': 3519, 'shelf': 3520, 'breed': 3521, 'streep': 3522, 'arab': 3523, 'aggress': 3524, 'alert': 3525, 'trademark': 3526, 'invas': 3527, 'domino': 3528, 'hideou': 3529, 'garbo': 3530, 'shirley': 3531, 'grinch': 3532, 'loyal': 3533, 'khan': 3534, 'slide': 3535, 'uwe': 3536, 'defens': 3537, 'robberi': 3538, 'mail': 3539, 'hardcor': 3540, 'illeg': 3541, 'stellar': 3542, 'applaud': 3543, 'stack': 3544, 'maci': 3545, 'rendit': 3546, 'sh': 3547, 'oz': 3548, 'disgrac': 3549, 'vanish': 3550, 'acid': 3551, 'stir': 3552, 'unhappi': 3553, 'robinson': 3554, 'mayor': 3555, 'obtain': 3556, 'boom': 3557, 'experiment': 3558, 'hopeless': 3559, 'spider': 3560, 'wont': 3561, 'incomprehens': 3562, 'fri': 3563, 'diana': 3564, 'span': 3565, 'amanda': 3566, 'counter': 3567, 'blew': 3568, 'craze': 3569, 'psychic': 3570, 'declin': 3571, 'topless': 3572, 'dismiss': 3573, 'tenant': 3574, 'recruit': 3575, 'tempt': 3576, 'hartley': 3577, 'soccer': 3578, 'berlin': 3579, 'emphasi': 3580, 'dicken': 3581, 'grandfath': 3582, 'rifl': 3583, 'scroog': 3584, 'shaw': 3585, 'revolt': 3586, 'sympath': 3587, 'ration': 3588, 'justin': 3589, 'sibl': 3590, 'wet': 3591, 'resurrect': 3592, 'shed': 3593, 'trashi': 3594, 'parad': 3595, 'woo': 3596, 'riot': 3597, 'porno': 3598, 'intim': 3599, 'goer': 3600, 'bitch': 3601, 'faster': 3602, 'lumet': 3603, 'ethnic': 3604, 'niro': 3605, 'rider': 3606, 'patriot': 3607, 'slick': 3608, 'enlighten': 3609, 'ballet': 3610, 'andr': 3611, 'honesti': 3612, 'mario': 3613, 'gap': 3614, 'dealer': 3615, 'farmer': 3616, 'jonathan': 3617, 'eager': 3618, 'steam': 3619, 'weakest': 3620, 'worm': 3621, 'commend': 3622, 'immort': 3623, 'region': 3624, 'unreal': 3625, 'choru': 3626, 'ensur': 3627, '00': 3628, 'biographi': 3629, 'hesit': 3630, 'partial': 3631, 'feminist': 3632, 'nephew': 3633, 'hopper': 3634, 'wheel': 3635, 'wendi': 3636, 'lena': 3637, 'victori': 3638, 'kingdom': 3639, 'safeti': 3640, 'psychopath': 3641, 'snap': 3642, 'util': 3643, 'wore': 3644, 'mutant': 3645, 'leo': 3646, 'nostalg': 3647, 'prequel': 3648, 'sappi': 3649, 'repress': 3650, 'vice': 3651, 'charlott': 3652, 'sandra': 3653, 'properti': 3654, 'blunt': 3655, 'hung': 3656, 'confin': 3657, 'skull': 3658, 'macarthur': 3659, 'similarli': 3660, 'franco': 3661, 'morri': 3662, 'owen': 3663, 'composit': 3664, 'rambl': 3665, 'nervou': 3666, '1972': 3667, 'repli': 3668, 'compass': 3669, 'rope': 3670, 'rocki': 3671, 'valuabl': 3672, 'del': 3673, 'bumbl': 3674, 'drum': 3675, 'speci': 3676, 'thru': 3677, 'montana': 3678, 'pattern': 3679, 'tad': 3680, 'recycl': 3681, 'whoopi': 3682, 'emperor': 3683, 'campbel': 3684, 'despair': 3685, 'drain': 3686, 'exit': 3687, 'heartbreak': 3688, 'bow': 3689, 'farrel': 3690, 'dalton': 3691, 'tail': 3692, 'strand': 3693, 'acquir': 3694, 'snl': 3695, 'kyle': 3696, 'compens': 3697, 'miseri': 3698, 'deed': 3699, 'cg': 3700, 'bonu': 3701, 'dust': 3702, 'hyde': 3703, 'latin': 3704, 'bergman': 3705, 'martian': 3706, 'da': 3707, 'radic': 3708, 'contempl': 3709, 'chess': 3710, 'mistress': 3711, 'roth': 3712, 'tonight': 3713, 'percept': 3714, 'wacki': 3715, 'airport': 3716, 'gal': 3717, 'rotten': 3718, 'gimmick': 3719, 'romp': 3720, 'bleed': 3721, 'pour': 3722, 'downhil': 3723, '35': 3724, 'rapist': 3725, 'olli': 3726, 'orson': 3727, 'oppress': 3728, 'carradin': 3729, 'slug': 3730, 'stilt': 3731, 'banal': 3732, 'belt': 3733, 'preach': 3734, 'mislead': 3735, 'edgar': 3736, 'melodi': 3737, 'arguabl': 3738, 'programm': 3739, 'shelley': 3740, 'tackl': 3741, 'pursuit': 3742, 'taught': 3743, 'pervert': 3744, 'slash': 3745, 'attorney': 3746, 'dazzl': 3747, 'paltrow': 3748, 'pervers': 3749, '1983': 3750, 'champion': 3751, 'tooth': 3752, 'arc': 3753, 'heal': 3754, 'unpredict': 3755, 'cleverli': 3756, 'employe': 3757, 'vocal': 3758, 'mesmer': 3759, 'tiresom': 3760, 'duval': 3761, 'chicken': 3762, 'raymond': 3763, 'rubi': 3764, 'plight': 3765, 'maid': 3766, 'bela': 3767, 'closest': 3768, 'passeng': 3769, 'orang': 3770, 'uplift': 3771, 'dixon': 3772, 'virginia': 3773, 'franki': 3774, 'sensat': 3775, 'poem': 3776, 'graham': 3777, 'gambl': 3778, 'vengeanc': 3779, 'marti': 3780, 'conneri': 3781, 'sirk': 3782, 'volum': 3783, 'numb': 3784, 'clone': 3785, '1968': 3786, 'yawn': 3787, 'paranoia': 3788, 'giggl': 3789, 'swallow': 3790, 'scottish': 3791, 'convincingli': 3792, 'quarter': 3793, 'tube': 3794, 'whine': 3795, 'climact': 3796, 'engross': 3797, 'monologu': 3798, 'inject': 3799, 'crystal': 3800, 'habit': 3801, 'profan': 3802, 'calm': 3803, 'mute': 3804, 'gerard': 3805, 'outing': 3806, 'secretli': 3807, 'extens': 3808, 'bay': 3809, 'pokemon': 3810, 'iran': 3811, 'suffic': 3812, 'abraham': 3813, 'amitabh': 3814, 'lundgren': 3815, 'taxi': 3816, 'lowest': 3817, 'abort': 3818, 'surpass': 3819, 'underst': 3820, 'im': 3821, 'spock': 3822, 'poetri': 3823, 'chicago': 3824, 'junior': 3825, 'fed': 3826, 'frankenstein': 3827, 'richardson': 3828, 'grotesqu': 3829, 'austen': 3830, 'meander': 3831, 'bend': 3832, 'nichola': 3833, 'trend': 3834, 'dispos': 3835, 'profess': 3836, 'plod': 3837, 'earl': 3838, 'ethan': 3839, 'linger': 3840, 'franci': 3841, 'expand': 3842, 'septemb': 3843, 'backward': 3844, 'literatur': 3845, 'cannon': 3846, 'instrument': 3847, 'waitress': 3848, 'mundan': 3849, 'eugen': 3850, 'econom': 3851, 'rant': 3852, 'dysfunct': 3853, 'compliment': 3854, 'household': 3855, 'stallon': 3856, 'hum': 3857, 'der': 3858, 'greedi': 3859, 'spoke': 3860, 'lure': 3861, 'catchi': 3862, 'muddl': 3863, 'sue': 3864, 'rubber': 3865, 'nostalgia': 3866, 'descent': 3867, 'tourist': 3868, 'myth': 3869, 'simplic': 3870, 'mankind': 3871, 'insur': 3872, 'recognis': 3873, 'june': 3874, 'alongsid': 3875, 'recognit': 3876, 'occupi': 3877, 'stale': 3878, 'dement': 3879, 'irrelev': 3880, 'phoni': 3881, 'crucial': 3882, 'carel': 3883, 'equival': 3884, 'dictat': 3885, 'map': 3886, 'flee': 3887, 'lang': 3888, 'bacal': 3889, 'omen': 3890, 'molli': 3891, 'randi': 3892, 'hello': 3893, 'cent': 3894, 'mortal': 3895, 'sissi': 3896, 'eaten': 3897, 'damon': 3898, 'furi': 3899, 'firstli': 3900, 'coast': 3901, 'deaf': 3902, 'duck': 3903, 'louis': 3904, 'phantom': 3905, 'twilight': 3906, 'newli': 3907, 'lengthi': 3908, 'cyborg': 3909, 'freez': 3910, 'reign': 3911, 'heel': 3912, 'onlin': 3913, 'likewis': 3914, 'daisi': 3915, 'ashley': 3916, 'bump': 3917, 'dreari': 3918, 'bike': 3919, 'damm': 3920, '1973': 3921, 'labor': 3922, 'distinguish': 3923, 'drake': 3924, 'biko': 3925, 'blackmail': 3926, 'loyalti': 3927, 'rude': 3928, 'buffalo': 3929, 'grayson': 3930, 'wisdom': 3931, 'rooney': 3932, 'antwon': 3933, 'prey': 3934, 'nineti': 3935, 'keith': 3936, 'chronicl': 3937, 'interior': 3938, 'vein': 3939, 'provoc': 3940, 'approv': 3941, 'exposur': 3942, 'unorigin': 3943, 'incorpor': 3944, 'startl': 3945, 'pink': 3946, 'attribut': 3947, 'inher': 3948, 'boxer': 3949, 'basketbal': 3950, 'tunnel': 3951, 'baddi': 3952, 'analysi': 3953, 'proce': 3954, 'butler': 3955, 'sailor': 3956, 'ridden': 3957, 'worn': 3958, 'emphas': 3959, 'barrymor': 3960, 'simmon': 3961, 'drift': 3962, 'degrad': 3963, 'hypnot': 3964, 'othello': 3965, 'improvis': 3966, 'carla': 3967, 'unrel': 3968, 'bunni': 3969, 'millionair': 3970, 'walsh': 3971, 'nicol': 3972, 'undeni': 3973, 'elm': 3974, 'condemn': 3975, 'meyer': 3976, 'meg': 3977, 'substitut': 3978, 'robbin': 3979, 'predat': 3980, 'julian': 3981, 'indiffer': 3982, 'mighti': 3983, 'barrel': 3984, 'fleet': 3985, 'belushi': 3986, 'underli': 3987, 'mormon': 3988, 'er': 3989, 'stalker': 3990, 'hay': 3991, 'palac': 3992, 'agenda': 3993, 'unawar': 3994, 'roof': 3995, 'reid': 3996, 'priceless': 3997, 'greed': 3998, 'marion': 3999, 'disord': 4000, 'watson': 4001, 'vital': 4002, 'enthusiasm': 4003, 'exquisit': 4004, 'edgi': 4005, 'warmth': 4006, 'rukh': 4007, '3d': 4008, 'nyc': 4009, 'lampoon': 4010, 'errol': 4011, 'mtv': 4012, 'firm': 4013, 'shove': 4014, 'alarm': 4015, 'novak': 4016, 'alison': 4017, 'dolph': 4018, 'distort': 4019, 'petti': 4020, '1933': 4021, 'iraq': 4022, 'unleash': 4023, 'peril': 4024, 'randomli': 4025, 'session': 4026, 'championship': 4027, 'campaign': 4028, 'spain': 4029, 'coup': 4030, 'orlean': 4031, 'pamela': 4032, 'drip': 4033, '13th': 4034, 'cassidi': 4035, 'sergeant': 4036, 'profit': 4037, 'israel': 4038, 'simultan': 4039, 'thompson': 4040, 'angela': 4041, 'ponder': 4042, 'glanc': 4043, 'gestur': 4044, 'preserv': 4045, 'what': 4046, 'eastern': 4047, 'showdown': 4048, 'nun': 4049, 'peck': 4050, 'crown': 4051, 'minimum': 4052, 'zizek': 4053, 'testament': 4054, 'beatl': 4055, 'valentin': 4056, 'rout': 4057, 'valley': 4058, 'exposit': 4059, 'wig': 4060, 'kurosawa': 4061, 'calib': 4062, 'perpetu': 4063, 'crawl': 4064, 'empathi': 4065, 'quinn': 4066, 'shootout': 4067, 'cream': 4068, 'brenda': 4069, 'cooki': 4070, 'bro': 4071, 'buster': 4072, 'jan': 4073, 'scotland': 4074, 'realm': 4075, 'contradict': 4076, 'restrain': 4077, 'reson': 4078, 'unimagin': 4079, '1984': 4080, 'han': 4081, 'crow': 4082, 'mon': 4083, 'travesti': 4084, 'stake': 4085, 'miyazaki': 4086, 'gentleman': 4087, 'fido': 4088, 'regist': 4089, 'represent': 4090, 'climat': 4091, 'stroke': 4092, 'din': 4093, 'sabrina': 4094, 'warrant': 4095, 'businessman': 4096, 'unsatisfi': 4097, 'femm': 4098, 'monoton': 4099, 'demis': 4100, 'mclaglen': 4101, '1997': 4102, 'perceiv': 4103, 'stargat': 4104, 'geek': 4105, 'distress': 4106, 'painter': 4107, 'baldwin': 4108, 'derang': 4109, 'shoddi': 4110, 'shaki': 4111, 'absent': 4112, 'pole': 4113, 'ross': 4114, 'crawford': 4115, 'wax': 4116, '1987': 4117, 'delic': 4118, 'tacki': 4119, 'cloud': 4120, 'traumat': 4121, 'spacey': 4122, 'josh': 4123, 'sucker': 4124, 'soderbergh': 4125, 'meryl': 4126, 'pretens': 4127, 'passabl': 4128, 'sammi': 4129, 'dana': 4130, 'censor': 4131, 'compromis': 4132, 'fuller': 4133, 'unseen': 4134, 'abomin': 4135, 'greg': 4136, 'darren': 4137, 'ustinov': 4138, 'wholli': 4139, 'uncov': 4140, 'jewel': 4141, 'primit': 4142, 'fog': 4143, 'reluct': 4144, 'valid': 4145, 'click': 4146, 'polici': 4147, 'tech': 4148, 'dee': 4149, 'clash': 4150, 'deceas': 4151, 'verbal': 4152, 'sid': 4153, 'deniro': 4154, 'nathan': 4155, 'tarantino': 4156, 'unravel': 4157, 'furiou': 4158, 'kumar': 4159, '1993': 4160, 'accuraci': 4161, 'antonioni': 4162, 'judgment': 4163, 'norm': 4164, 'correctli': 4165, 'austin': 4166, 'fenc': 4167, 'expedit': 4168, 'seal': 4169, 'anchor': 4170, 'exclus': 4171, 'sustain': 4172, 'fabric': 4173, 'fart': 4174, '1971': 4175, 'slam': 4176, 'debt': 4177, 'pocket': 4178, 'seldom': 4179, '2008': 4180, 'temper': 4181, 'sand': 4182, '1995': 4183, 'tax': 4184, 'fought': 4185, 'wang': 4186, 'dreck': 4187, '3000': 4188, 'alec': 4189, 'unfair': 4190, 'sunni': 4191, 'nicola': 4192, 'enforc': 4193, 'clerk': 4194, 'joel': 4195, 'trait': 4196, 'malon': 4197, 'crippl': 4198, 'mode': 4199, 'bake': 4200, 'shanghai': 4201, 'logan': 4202, 'darn': 4203, 'wretch': 4204, 'conduct': 4205, 'behold': 4206, 'patienc': 4207, 'murray': 4208, 'hallucin': 4209, 'vanc': 4210, 'ritual': 4211, 'roller': 4212, 'sheet': 4213, 'guitar': 4214, 'shell': 4215, 'isabel': 4216, 'preposter': 4217, 'bias': 4218, 'squad': 4219, 'robber': 4220, 'soup': 4221, 'schedul': 4222, 'grief': 4223, 'pete': 4224, 'helpless': 4225, 'phil': 4226, 'bridget': 4227, 'critiqu': 4228, 'rita': 4229, 'conscious': 4230, 'scriptwrit': 4231, 'runner': 4232, 'legaci': 4233, 'canyon': 4234, 'fundament': 4235, 'stuart': 4236, 'outlin': 4237, 'tactic': 4238, 'divid': 4239, 'exhaust': 4240, 'stark': 4241, 'penni': 4242, 'despis': 4243, 'sweep': 4244, 'technicolor': 4245, 'clau': 4246, 'preston': 4247, 'downey': 4248, 'vomit': 4249, 'implic': 4250, 'unexpectedli': 4251, 'drove': 4252, 'newman': 4253, 'delv': 4254, 'sentinel': 4255, 'agenc': 4256, 'rear': 4257, 'sugar': 4258, 'liberti': 4259, 'rehash': 4260, 'jodi': 4261, 'jacket': 4262, 'gregori': 4263, 'marc': 4264, 'kansa': 4265, 'cigarett': 4266, 'consciou': 4267, 'flair': 4268, 'alley': 4269, 'propos': 4270, 'culmin': 4271, 'restrict': 4272, 'sniper': 4273, 'passag': 4274, 'invad': 4275, 'alicia': 4276, 'boyl': 4277, 'russia': 4278, 'inabl': 4279, 'palanc': 4280, 'bloom': 4281, 'connor': 4282, 'lacklust': 4283, 'lush': 4284, 'improb': 4285, 'pale': 4286, 'wrench': 4287, 'rod': 4288, 'behaviour': 4289, '22': 4290, 'rehears': 4291, 'horn': 4292, 'karl': 4293, 'ladder': 4294, 'foxx': 4295, 'vet': 4296, 'tendenc': 4297, '1936': 4298, 'feat': 4299, 'sharon': 4300, 'bacon': 4301, 'rampag': 4302, 'mccoy': 4303, 'arrow': 4304, 'chainsaw': 4305, 'tripe': 4306, 'asylum': 4307, 'awhil': 4308, 'yeti': 4309, 'aesthet': 4310, 'cap': 4311, 'delet': 4312, 'kolchak': 4313, '19th': 4314, '1920': 4315, 'scoop': 4316, 'tomorrow': 4317, 'elit': 4318, 'rhythm': 4319, 'hackney': 4320, 'stream': 4321, 'suffici': 4322, 'financ': 4323, 'el': 4324, 'filler': 4325, 'aristocrat': 4326, 'fright': 4327, 'hungri': 4328, 'paramount': 4329, 'spice': 4330, 'minu': 4331, 'lurk': 4332, 'underneath': 4333, 'shortcom': 4334, 'sung': 4335, 'newcom': 4336, 'conscienc': 4337, 'tasteless': 4338, 'wildli': 4339, 'weav': 4340, 'visitor': 4341, 'rumor': 4342, 'suspicion': 4343, 'basing': 4344, 'loneli': 4345, 'amazon': 4346, 'paradis': 4347, 'globe': 4348, '1988': 4349, 'prank': 4350, '1978': 4351, 'coaster': 4352, 'hulk': 4353, 'wagner': 4354, 'thunderbird': 4355, 'beverli': 4356, 'inmat': 4357, 'recogniz': 4358, 'literari': 4359, 'minist': 4360, 'cancer': 4361, 'curli': 4362, 'ingeni': 4363, '75': 4364, '1989': 4365, 'en': 4366, 'worship': 4367, 'couch': 4368, 'immers': 4369, 'brit': 4370, 'naughti': 4371, 'secondari': 4372, '1939': 4373, 'wwe': 4374, 'entranc': 4375, 'ram': 4376, 'grudg': 4377, 'posey': 4378, 'rub': 4379, 'straightforward': 4380, 'penn': 4381, 'iv': 4382, 'impos': 4383, 'abrupt': 4384, 'heist': 4385, 'choppi': 4386, 'tierney': 4387, 'dirt': 4388, 'atroc': 4389, 'quietli': 4390, 'chamberlain': 4391, 'paxton': 4392, 'smell': 4393, 'teas': 4394, 'springer': 4395, 'chavez': 4396, 'counterpart': 4397, 'hopkin': 4398, 'leigh': 4399, 'lectur': 4400, 'bread': 4401, 'standout': 4402, 'variat': 4403, 'bernard': 4404, 'injuri': 4405, 'enthral': 4406, 'nemesi': 4407, 'skeptic': 4408, 'net': 4409, 'entitl': 4410, 'missil': 4411, 'nolan': 4412, 'moreov': 4413, 'watcher': 4414, 'attenborough': 4415, 'sublim': 4416, 'misguid': 4417, 'cattl': 4418, 'policeman': 4419, 'transcend': 4420, 'sassi': 4421, 'clan': 4422, 'morbid': 4423, 'duel': 4424, 'quaid': 4425, 'esther': 4426, 'ace': 4427, 'convert': 4428, 'ratso': 4429, '1986': 4430, 'laurenc': 4431, 'lindsay': 4432, 'geni': 4433, 'heartfelt': 4434, 'yearn': 4435, 'bean': 4436, 'out': 4437, 'facil': 4438, 'puppi': 4439, 'unexplain': 4440, 'setup': 4441, 'uncut': 4442, 'poe': 4443, 'mytholog': 4444, 'cruelti': 4445, 'hopelessli': 4446, 'bye': 4447, 'characteris': 4448, 'moder': 4449, 'obstacl': 4450, '1979': 4451, 'enabl': 4452, 'kitti': 4453, 'brood': 4454, 'grin': 4455, 'youngest': 4456, 'steadi': 4457, 'artsi': 4458, 'egg': 4459, 'reliabl': 4460, 'graini': 4461, 'vader': 4462, 'tyler': 4463, 'kidman': 4464, 'buzz': 4465, 'rosemari': 4466, 'spiral': 4467, 'dont': 4468, 'carlito': 4469, 'diari': 4470, 'hk': 4471, 'oblig': 4472, 'heap': 4473, 'gina': 4474, 'hain': 4475, 'patricia': 4476, 'despic': 4477, 'athlet': 4478, 'weather': 4479, 'baffl': 4480, 'disastr': 4481, 'clueless': 4482, 'bewar': 4483, 'fuel': 4484, 'bounc': 4485, 'brendan': 4486, 'hammi': 4487, 'sweat': 4488, 'narrow': 4489, 'effici': 4490, 'kline': 4491, 'preming': 4492, 'bronson': 4493, 'spontan': 4494, 'exterior': 4495, 'acquaint': 4496, 'gillian': 4497, 'martha': 4498, 'niec': 4499, 'decept': 4500, 'christin': 4501, 'underworld': 4502, '1969': 4503, 'loi': 4504, 'virtu': 4505, 'housewif': 4506, 'outlaw': 4507, 'loath': 4508, 'mermaid': 4509, 'trigger': 4510, 'suprem': 4511, 'sleepwalk': 4512, 'shatter': 4513, 'dandi': 4514, 'angst': 4515, 'tick': 4516, 'insipid': 4517, 'preachi': 4518, 'lester': 4519, 'viewpoint': 4520, 'taboo': 4521, 'dilemma': 4522, 'uh': 4523, 'astound': 4524, 'headach': 4525, 'injur': 4526, 'renaiss': 4527, 'scar': 4528, 'harmless': 4529, 'mayhem': 4530, 'fontain': 4531, 'sooner': 4532, '19': 4533, 'hepburn': 4534, 'enlist': 4535, 'goof': 4536, 'rome': 4537, 'analyz': 4538, 'candl': 4539, 'biker': 4540, 'circu': 4541, '73': 4542, 'fluff': 4543, 'contempt': 4544, 'surgeri': 4545, 'filth': 4546, 'immatur': 4547, 'whore': 4548, 'camcord': 4549, 'ariel': 4550, 'zoom': 4551, 'stair': 4552, 'phenomenon': 4553, 'boston': 4554, 'hostag': 4555, 'idol': 4556, 'dish': 4557, 'bent': 4558, 'amor': 4559, 'hokey': 4560, 'oldest': 4561, 'steer': 4562, 'claustrophob': 4563, 'foolish': 4564, 'guin': 4565, 'macho': 4566, 'slimi': 4567, 'redund': 4568, 'overlong': 4569, 'cassavet': 4570, 'gere': 4571, 'intric': 4572, 'ebert': 4573, 'dismal': 4574, 'spade': 4575, 'corbett': 4576, 'glorifi': 4577, 'salt': 4578, 'stimul': 4579, 'sox': 4580, 'scorses': 4581, 'hooker': 4582, 'tripl': 4583, 'widescreen': 4584, 'mount': 4585, 'corman': 4586, 'flirt': 4587, '1981': 4588, 'radiat': 4589, 'frantic': 4590, 'fascist': 4591, 'spree': 4592, 'proport': 4593, 'naschi': 4594, 'cohen': 4595, 'spinal': 4596, 'transplant': 4597, 'muscl': 4598, 'shred': 4599, 'nolt': 4600, 'rhyme': 4601, 'gasp': 4602, 'cow': 4603, 'strongest': 4604, 'margin': 4605, 'zane': 4606, 'antagonist': 4607, 'beard': 4608, 'keen': 4609, 'faint': 4610, 'preced': 4611, 'alvin': 4612, 'assert': 4613, 'dwarf': 4614, 'messi': 4615, 'astronaut': 4616, 'mutual': 4617, 'shield': 4618, 'remad': 4619, 'cush': 4620, 'trivia': 4621, 'joker': 4622, 'harold': 4623, '1976': 4624, 'flashi': 4625, 'perman': 4626, 'conquer': 4627, 'obligatori': 4628, 'flag': 4629, 'gabl': 4630, 'down': 4631, 'schlock': 4632, 'vaniti': 4633, 'resum': 4634, 'repris': 4635, 'inflict': 4636, 'wield': 4637, 'ritchi': 4638, 'persuad': 4639, 'departur': 4640, 'someday': 4641, '28': 4642, 'mobil': 4643, 'neurot': 4644, 'barn': 4645, 'discern': 4646, '95': 4647, 'bachelor': 4648, 'divin': 4649, 'strive': 4650, 'interestingli': 4651, 'fishburn': 4652, 'danish': 4653, 'www': 4654, 'aborigin': 4655, 'instruct': 4656, 'off': 4657, 'carey': 4658, 'bitten': 4659, 'archiv': 4660, 'flock': 4661, 'triangl': 4662, 'sensual': 4663, 'scandal': 4664, 'deer': 4665, '1945': 4666, 'brush': 4667, 'claud': 4668, 'info': 4669, 'raj': 4670, 'boob': 4671, 'hara': 4672, 'mol': 4673, 'earnest': 4674, 'dim': 4675, 'traffic': 4676, 'mobster': 4677, 'kathryn': 4678, 'proclaim': 4679, 'senior': 4680, 'miracul': 4681, 'neill': 4682, 'axe': 4683, 'fragil': 4684, 'timberlak': 4685, 'dylan': 4686, 'europa': 4687, 'hilar': 4688, 'ish': 4689, 'luka': 4690, 'vibrant': 4691, 'cycl': 4692, 'cher': 4693, 'prophet': 4694, 'helm': 4695, 'frontier': 4696, 'pacif': 4697, 'rot': 4698, 'hapless': 4699, 'colin': 4700, 'banter': 4701, 'cliffhang': 4702, 'clad': 4703, 'pixar': 4704, 'submit': 4705, 'artwork': 4706, 'recit': 4707, 'harrison': 4708, 'pickford': 4709, 'wendigo': 4710, 'hug': 4711, 'heartwarm': 4712, 'cb': 4713, 'carlo': 4714, 'dame': 4715, 'bate': 4716, 'jade': 4717, 'biblic': 4718, 'melissa': 4719, 'casino': 4720, 'loretta': 4721, 'parson': 4722, 'anton': 4723, 'undermin': 4724, 'aris': 4725, 'bondag': 4726, 'foil': 4727, 'sicken': 4728, 'blatantli': 4729, 'wardrob': 4730, 'feast': 4731, 'static': 4732, 'trier': 4733, 'nope': 4734, 'misfortun': 4735, 'electron': 4736, 'pc': 4737, 'lucil': 4738, 'eli': 4739, 'akin': 4740, 'jordan': 4741, 'legitim': 4742, 'redneck': 4743, 'isra': 4744, 'antholog': 4745, 'articl': 4746, 'http': 4747, 'flavor': 4748, 'northern': 4749, 'marlon': 4750, 'cerebr': 4751, 'venom': 4752, 'lui': 4753, 'estrang': 4754, 'toronto': 4755, 'orphan': 4756, 'bikini': 4757, 'mathieu': 4758, 'shepherd': 4759, 'token': 4760, 'vanessa': 4761, 'choke': 4762, 'breakfast': 4763, 'mason': 4764, 'razor': 4765, 'uma': 4766, 'seedi': 4767, 'alexandr': 4768, 'illus': 4769, 'vile': 4770, 'holocaust': 4771, 'jo': 4772, 'milo': 4773, 'rooki': 4774, 'winchest': 4775, 'abund': 4776, 'psych': 4777, 'outdat': 4778, 'linear': 4779, 'peer': 4780, 'charlton': 4781, 'gilbert': 4782, 'fifth': 4783, 'styliz': 4784, 'oppon': 4785, 'glare': 4786, 'turd': 4787, 'comprehend': 4788, 'feminin': 4789, 'audrey': 4790, 'magician': 4791, 'nightclub': 4792, 'dudley': 4793, 'smack': 4794, 'deem': 4795, 'retriev': 4796, 'knightley': 4797, 'huston': 4798, 'shorter': 4799, 'ceremoni': 4800, 'frog': 4801, 'ideolog': 4802, 'wrestler': 4803, 'howl': 4804, 'clinic': 4805, 'cartoonish': 4806, 'swept': 4807, 'tack': 4808, 'boyer': 4809, 'affleck': 4810, 'highway': 4811, 'disregard': 4812, 'leather': 4813, 'gunga': 4814, 'deliver': 4815, 'bogu': 4816, 'snatch': 4817, 'uniformli': 4818, 'tara': 4819, 'newer': 4820, 'evolut': 4821, 'energet': 4822, '1994': 4823, 'lavish': 4824, 'lifeless': 4825, 'plate': 4826, 'summar': 4827, 'cemeteri': 4828, 'salman': 4829, 'spawn': 4830, 'senat': 4831, 'lighter': 4832, 'sleaz': 4833, 'btw': 4834, 'corn': 4835, 'durat': 4836, 'breakdown': 4837, 'phenomen': 4838, 'mitch': 4839, 'spine': 4840, '4th': 4841, 'potter': 4842, 'boo': 4843, 'greet': 4844, '1991': 4845, 'chip': 4846, 'collector': 4847, 'toe': 4848, 'whack': 4849, 'bastard': 4850, 'client': 4851, 'braveheart': 4852, 'compris': 4853, 'conrad': 4854, 'monument': 4855, 'goldsworthi': 4856, 'moe': 4857, 'einstein': 4858, 'cuban': 4859, 'undertak': 4860, 'lex': 4861, 'gilliam': 4862, 'undead': 4863, '1977': 4864, 'sorrow': 4865, 'nina': 4866, 'pronounc': 4867, 'luxuri': 4868, 'firmli': 4869, 'wtf': 4870, 'spectacl': 4871, 'historian': 4872, 'jam': 4873, 'constitut': 4874, 'belli': 4875, 'ol': 4876, 'cecil': 4877, 'outright': 4878, 'ie': 4879, 'neatli': 4880, 'eleven': 4881, 'kazan': 4882, 'liu': 4883, 'occup': 4884, 'kent': 4885, 'judd': 4886, 'alleg': 4887, 'bulk': 4888, 'inaccuraci': 4889, 'healthi': 4890, 'jedi': 4891, 'randolph': 4892, '1974': 4893, 'jule': 4894, 'appl': 4895, 'armstrong': 4896, 'signal': 4897, 'replay': 4898, 'trauma': 4899, 'clara': 4900, 'bori': 4901, 'jare': 4902, 'creek': 4903, 'mcqueen': 4904, 'fluid': 4905, 'embark': 4906, 'capot': 4907, 'evelyn': 4908, 'miami': 4909, 'propheci': 4910, 'vain': 4911, 'lauren': 4912, 'roar': 4913, 'pepper': 4914, 'decapit': 4915, 'paula': 4916, 'antonio': 4917, 'conan': 4918, 'kiddi': 4919, 'miniseri': 4920, 'vignett': 4921, 'inaccur': 4922, 'sacrif': 4923, 'tokyo': 4924, 'galaxi': 4925, 'forgiven': 4926, '1985': 4927, 'unsuspect': 4928, 'blur': 4929, 'knee': 4930, 'comprehens': 4931, 'goldblum': 4932, 'groan': 4933, 'fruit': 4934, 'genet': 4935, 'aussi': 4936, 'curtain': 4937, 'abound': 4938, 'congratul': 4939, 'unattract': 4940, 'id': 4941, 'mum': 4942, 'basket': 4943, 'subtli': 4944, 'sidewalk': 4945, 'poker': 4946, 'relentless': 4947, 'walt': 4948, 'bait': 4949, 'truman': 4950, 'comb': 4951, 'meal': 4952, 'porter': 4953, 'inclus': 4954, 'pioneer': 4955, 'carmen': 4956, 'ash': 4957, 'spray': 4958, 'cape': 4959, 'bsg': 4960, 'lanc': 4961, 'rosario': 4962, 'palm': 4963, 'victorian': 4964, 'rapidli': 4965, 'detach': 4966, 'assort': 4967, 'weari': 4968, 'macabr': 4969, 'scariest': 4970, 'motorcycl': 4971, 'verg': 4972, 'frontal': 4973, 'sparkl': 4974, 'evan': 4975, 'asset': 4976, 'epitom': 4977, 'dubiou': 4978, 'orchestr': 4979, 'growth': 4980, 'vastli': 4981, 'playboy': 4982, 'handicap': 4983, 'drone': 4984, 'incorrect': 4985, 'weaker': 4986, 'reincarn': 4987, 'bach': 4988, 'hostil': 4989, 'modest': 4990, 'spill': 4991, 'optimist': 4992, 'omin': 4993, 'casper': 4994, 'profil': 4995, 'masterson': 4996, 'hackman': 4997, 'substanti': 4998, 'ingrid': 4999}\n"
     ]
    }
   ],
   "source": [
    "# TODO: Use this space to determine the five most frequently appearing words in the training set.\n",
    "print(word_dict)"
   ]
  },
  {
   "cell_type": "markdown",
   "metadata": {},
   "source": [
    "### Save `word_dict`\n",
    "\n",
    "Later on when we construct an endpoint which processes a submitted review we will need to make use of the `word_dict` which we have created. As such, we will save it to a file now for future use."
   ]
  },
  {
   "cell_type": "code",
   "execution_count": 15,
   "metadata": {},
   "outputs": [],
   "source": [
    "data_dir = '../data/pytorch' # The folder we will use for storing data\n",
    "if not os.path.exists(data_dir): # Make sure that the folder exists\n",
    "    os.makedirs(data_dir)"
   ]
  },
  {
   "cell_type": "code",
   "execution_count": 16,
   "metadata": {},
   "outputs": [],
   "source": [
    "with open(os.path.join(data_dir, 'word_dict.pkl'), \"wb\") as f:\n",
    "    pickle.dump(word_dict, f)"
   ]
  },
  {
   "cell_type": "markdown",
   "metadata": {},
   "source": [
    "### Transform the reviews\n",
    "\n",
    "Now that we have our word dictionary which allows us to transform the words appearing in the reviews into integers, it is time to make use of it and convert our reviews to their integer sequence representation, making sure to pad or truncate to a fixed length, which in our case is `500`."
   ]
  },
  {
   "cell_type": "code",
   "execution_count": 17,
   "metadata": {},
   "outputs": [],
   "source": [
    "def convert_and_pad(word_dict, sentence, pad=500):\n",
    "    NOWORD = 0 # We will use 0 to represent the 'no word' category\n",
    "    INFREQ = 1 # and we use 1 to represent the infrequent words, i.e., words not appearing in word_dict\n",
    "    \n",
    "    working_sentence = [NOWORD] * pad\n",
    "    \n",
    "    for word_index, word in enumerate(sentence[:pad]):\n",
    "        if word in word_dict:\n",
    "            working_sentence[word_index] = word_dict[word]\n",
    "        else:\n",
    "            working_sentence[word_index] = INFREQ\n",
    "            \n",
    "    return working_sentence, min(len(sentence), pad)\n",
    "\n",
    "def convert_and_pad_data(word_dict, data, pad=500):\n",
    "    result = []\n",
    "    lengths = []\n",
    "    \n",
    "    for sentence in data:\n",
    "        converted, leng = convert_and_pad(word_dict, sentence, pad)\n",
    "        result.append(converted)\n",
    "        lengths.append(leng)\n",
    "        \n",
    "    return np.array(result), np.array(lengths)"
   ]
  },
  {
   "cell_type": "code",
   "execution_count": 18,
   "metadata": {},
   "outputs": [],
   "source": [
    "train_X, train_X_len = convert_and_pad_data(word_dict, train_X)\n",
    "test_X, test_X_len = convert_and_pad_data(word_dict, test_X)"
   ]
  },
  {
   "cell_type": "markdown",
   "metadata": {},
   "source": [
    "As a quick check to make sure that things are working as intended, check to see what one of the reviews in the training set looks like after having been processeed. Does this look reasonable? What is the length of a review in the training set?"
   ]
  },
  {
   "cell_type": "code",
   "execution_count": 19,
   "metadata": {},
   "outputs": [
    {
     "data": {
      "text/plain": [
       "array([ 222,  840,    4,    1,  660,  872,   29,  514,  651,   13,  854,\n",
       "       1192,  481,   99,  712, 1907,   16,   26,  333,  575,   17,  201,\n",
       "          1,   40, 1219, 1349,   59,   49,  729,   50,  118,   53,   11,\n",
       "        109,   49, 1293,   41,   11,    2,  127,   49,    2,  275,  485,\n",
       "       2606,  104, 1416, 2083,  972,   74,    0,    0,    0,    0,    0,\n",
       "          0,    0,    0,    0,    0,    0,    0,    0,    0,    0,    0,\n",
       "          0,    0,    0,    0,    0,    0,    0,    0,    0,    0,    0,\n",
       "          0,    0,    0,    0,    0,    0,    0,    0,    0,    0,    0,\n",
       "          0,    0,    0,    0,    0,    0,    0,    0,    0,    0,    0,\n",
       "          0,    0,    0,    0,    0,    0,    0,    0,    0,    0,    0,\n",
       "          0,    0,    0,    0,    0,    0,    0,    0,    0,    0,    0,\n",
       "          0,    0,    0,    0,    0,    0,    0,    0,    0,    0,    0,\n",
       "          0,    0,    0,    0,    0,    0,    0,    0,    0,    0,    0,\n",
       "          0,    0,    0,    0,    0,    0,    0,    0,    0,    0,    0,\n",
       "          0,    0,    0,    0,    0,    0,    0,    0,    0,    0,    0,\n",
       "          0,    0,    0,    0,    0,    0,    0,    0,    0,    0,    0,\n",
       "          0,    0,    0,    0,    0,    0,    0,    0,    0,    0,    0,\n",
       "          0,    0,    0,    0,    0,    0,    0,    0,    0,    0,    0,\n",
       "          0,    0,    0,    0,    0,    0,    0,    0,    0,    0,    0,\n",
       "          0,    0,    0,    0,    0,    0,    0,    0,    0,    0,    0,\n",
       "          0,    0,    0,    0,    0,    0,    0,    0,    0,    0,    0,\n",
       "          0,    0,    0,    0,    0,    0,    0,    0,    0,    0,    0,\n",
       "          0,    0,    0,    0,    0,    0,    0,    0,    0,    0,    0,\n",
       "          0,    0,    0,    0,    0,    0,    0,    0,    0,    0,    0,\n",
       "          0,    0,    0,    0,    0,    0,    0,    0,    0,    0,    0,\n",
       "          0,    0,    0,    0,    0,    0,    0,    0,    0,    0,    0,\n",
       "          0,    0,    0,    0,    0,    0,    0,    0,    0,    0,    0,\n",
       "          0,    0,    0,    0,    0,    0,    0,    0,    0,    0,    0,\n",
       "          0,    0,    0,    0,    0,    0,    0,    0,    0,    0,    0,\n",
       "          0,    0,    0,    0,    0,    0,    0,    0,    0,    0,    0,\n",
       "          0,    0,    0,    0,    0,    0,    0,    0,    0,    0,    0,\n",
       "          0,    0,    0,    0,    0,    0,    0,    0,    0,    0,    0,\n",
       "          0,    0,    0,    0,    0,    0,    0,    0,    0,    0,    0,\n",
       "          0,    0,    0,    0,    0,    0,    0,    0,    0,    0,    0,\n",
       "          0,    0,    0,    0,    0,    0,    0,    0,    0,    0,    0,\n",
       "          0,    0,    0,    0,    0,    0,    0,    0,    0,    0,    0,\n",
       "          0,    0,    0,    0,    0,    0,    0,    0,    0,    0,    0,\n",
       "          0,    0,    0,    0,    0,    0,    0,    0,    0,    0,    0,\n",
       "          0,    0,    0,    0,    0,    0,    0,    0,    0,    0,    0,\n",
       "          0,    0,    0,    0,    0,    0,    0,    0,    0,    0,    0,\n",
       "          0,    0,    0,    0,    0,    0,    0,    0,    0,    0,    0,\n",
       "          0,    0,    0,    0,    0,    0,    0,    0,    0,    0,    0,\n",
       "          0,    0,    0,    0,    0,    0,    0,    0,    0,    0,    0,\n",
       "          0,    0,    0,    0,    0,    0,    0,    0,    0,    0,    0,\n",
       "          0,    0,    0,    0,    0,    0,    0,    0,    0,    0,    0,\n",
       "          0,    0,    0,    0,    0])"
      ]
     },
     "execution_count": 19,
     "metadata": {},
     "output_type": "execute_result"
    }
   ],
   "source": [
    "# Use this cell to examine one of the processed reviews to make sure everything is working as intended.\n",
    "train_X[0]"
   ]
  },
  {
   "cell_type": "code",
   "execution_count": 20,
   "metadata": {},
   "outputs": [
    {
     "data": {
      "text/plain": [
       "array([  80,    2,    1, 1044,  549,  356,   13, 3077,  801,   89, 1725,\n",
       "        272,  568,  152,  640, 1296,  230,    1,    4,  212, 1122,    1,\n",
       "        526,  319,   65,  273,  257,   15,  388,   75,  104,    3,  228,\n",
       "       1214,  192, 2202,  223,  331,  820,   90,  365, 2264,  968, 1202,\n",
       "        170,   85,  460,   17,   16,    1,  320,  365, 1122,  851, 1227,\n",
       "         97, 2179,    1,  192,    1,    1,   76,  126,    1, 2002,   85,\n",
       "          1,    1,    1, 1479,    1, 1575,    1, 1895,    1,    1,    1,\n",
       "        379,    3,  379,    1,  310,   78,   25,   11,    3, 3301, 2534,\n",
       "         17,    0,    0,    0,    0,    0,    0,    0,    0,    0,    0,\n",
       "          0,    0,    0,    0,    0,    0,    0,    0,    0,    0,    0,\n",
       "          0,    0,    0,    0,    0,    0,    0,    0,    0,    0,    0,\n",
       "          0,    0,    0,    0,    0,    0,    0,    0,    0,    0,    0,\n",
       "          0,    0,    0,    0,    0,    0,    0,    0,    0,    0,    0,\n",
       "          0,    0,    0,    0,    0,    0,    0,    0,    0,    0,    0,\n",
       "          0,    0,    0,    0,    0,    0,    0,    0,    0,    0,    0,\n",
       "          0,    0,    0,    0,    0,    0,    0,    0,    0,    0,    0,\n",
       "          0,    0,    0,    0,    0,    0,    0,    0,    0,    0,    0,\n",
       "          0,    0,    0,    0,    0,    0,    0,    0,    0,    0,    0,\n",
       "          0,    0,    0,    0,    0,    0,    0,    0,    0,    0,    0,\n",
       "          0,    0,    0,    0,    0,    0,    0,    0,    0,    0,    0,\n",
       "          0,    0,    0,    0,    0,    0,    0,    0,    0,    0,    0,\n",
       "          0,    0,    0,    0,    0,    0,    0,    0,    0,    0,    0,\n",
       "          0,    0,    0,    0,    0,    0,    0,    0,    0,    0,    0,\n",
       "          0,    0,    0,    0,    0,    0,    0,    0,    0,    0,    0,\n",
       "          0,    0,    0,    0,    0,    0,    0,    0,    0,    0,    0,\n",
       "          0,    0,    0,    0,    0,    0,    0,    0,    0,    0,    0,\n",
       "          0,    0,    0,    0,    0,    0,    0,    0,    0,    0,    0,\n",
       "          0,    0,    0,    0,    0,    0,    0,    0,    0,    0,    0,\n",
       "          0,    0,    0,    0,    0,    0,    0,    0,    0,    0,    0,\n",
       "          0,    0,    0,    0,    0,    0,    0,    0,    0,    0,    0,\n",
       "          0,    0,    0,    0,    0,    0,    0,    0,    0,    0,    0,\n",
       "          0,    0,    0,    0,    0,    0,    0,    0,    0,    0,    0,\n",
       "          0,    0,    0,    0,    0,    0,    0,    0,    0,    0,    0,\n",
       "          0,    0,    0,    0,    0,    0,    0,    0,    0,    0,    0,\n",
       "          0,    0,    0,    0,    0,    0,    0,    0,    0,    0,    0,\n",
       "          0,    0,    0,    0,    0,    0,    0,    0,    0,    0,    0,\n",
       "          0,    0,    0,    0,    0,    0,    0,    0,    0,    0,    0,\n",
       "          0,    0,    0,    0,    0,    0,    0,    0,    0,    0,    0,\n",
       "          0,    0,    0,    0,    0,    0,    0,    0,    0,    0,    0,\n",
       "          0,    0,    0,    0,    0,    0,    0,    0,    0,    0,    0,\n",
       "          0,    0,    0,    0,    0,    0,    0,    0,    0,    0,    0,\n",
       "          0,    0,    0,    0,    0,    0,    0,    0,    0,    0,    0,\n",
       "          0,    0,    0,    0,    0,    0,    0,    0,    0,    0,    0,\n",
       "          0,    0,    0,    0,    0,    0,    0,    0,    0,    0,    0,\n",
       "          0,    0,    0,    0,    0,    0,    0,    0,    0,    0,    0,\n",
       "          0,    0,    0,    0,    0])"
      ]
     },
     "execution_count": 20,
     "metadata": {},
     "output_type": "execute_result"
    }
   ],
   "source": [
    "test_X[0]"
   ]
  },
  {
   "cell_type": "markdown",
   "metadata": {},
   "source": [
    "**Question:** In the cells above we use the `preprocess_data` and `convert_and_pad_data` methods to process both the training and testing set. Why or why not might this be a problem?"
   ]
  },
  {
   "cell_type": "markdown",
   "metadata": {},
   "source": [
    "**Answer:**\n",
    "It a good step that we would apply the same transformation to both tranining and testing sets but if new words that doesn't exist in our vocab added it may be a problem then"
   ]
  },
  {
   "cell_type": "markdown",
   "metadata": {},
   "source": [
    "## Step 3: Upload the data to S3\n",
    "\n",
    "As in the XGBoost notebook, we will need to upload the training dataset to S3 in order for our training code to access it. For now we will save it locally and we will upload to S3 later on.\n",
    "\n",
    "### Save the processed training dataset locally\n",
    "\n",
    "It is important to note the format of the data that we are saving as we will need to know it when we write the training code. In our case, each row of the dataset has the form `label`, `length`, `review[500]` where `review[500]` is a sequence of `500` integers representing the words in the review."
   ]
  },
  {
   "cell_type": "code",
   "execution_count": 21,
   "metadata": {},
   "outputs": [],
   "source": [
    "import pandas as pd\n",
    "    \n",
    "pd.concat([pd.DataFrame(train_y), pd.DataFrame(train_X_len), pd.DataFrame(train_X)], axis=1) \\\n",
    "        .to_csv(os.path.join(data_dir, 'train.csv'), header=False, index=False)"
   ]
  },
  {
   "cell_type": "markdown",
   "metadata": {},
   "source": [
    "### Uploading the training data\n",
    "\n",
    "\n",
    "Next, we need to upload the training data to the SageMaker default S3 bucket so that we can provide access to it while training our model."
   ]
  },
  {
   "cell_type": "code",
   "execution_count": 22,
   "metadata": {},
   "outputs": [],
   "source": [
    "import sagemaker\n",
    "\n",
    "sagemaker_session = sagemaker.Session()\n",
    "\n",
    "bucket = sagemaker_session.default_bucket()\n",
    "prefix = 'sagemaker/sentiment_rnn'\n",
    "\n",
    "role = sagemaker.get_execution_role()"
   ]
  },
  {
   "cell_type": "code",
   "execution_count": 23,
   "metadata": {},
   "outputs": [],
   "source": [
    "input_data = sagemaker_session.upload_data(path=data_dir, bucket=bucket, key_prefix=prefix)"
   ]
  },
  {
   "cell_type": "markdown",
   "metadata": {},
   "source": [
    "**NOTE:** The cell above uploads the entire contents of our data directory. This includes the `word_dict.pkl` file. This is fortunate as we will need this later on when we create an endpoint that accepts an arbitrary review. For now, we will just take note of the fact that it resides in the data directory (and so also in the S3 training bucket) and that we will need to make sure it gets saved in the model directory."
   ]
  },
  {
   "cell_type": "markdown",
   "metadata": {},
   "source": [
    "## Step 4: Build and Train the PyTorch Model\n",
    "\n",
    "In the XGBoost notebook we discussed what a model is in the SageMaker framework. In particular, a model comprises three objects\n",
    "\n",
    " - Model Artifacts,\n",
    " - Training Code, and\n",
    " - Inference Code,\n",
    " \n",
    "each of which interact with one another. In the XGBoost example we used training and inference code that was provided by Amazon. Here we will still be using containers provided by Amazon with the added benefit of being able to include our own custom code.\n",
    "\n",
    "We will start by implementing our own neural network in PyTorch along with a training script. For the purposes of this project we have provided the necessary model object in the `model.py` file, inside of the `train` folder. You can see the provided implementation by running the cell below."
   ]
  },
  {
   "cell_type": "code",
   "execution_count": 24,
   "metadata": {},
   "outputs": [
    {
     "name": "stdout",
     "output_type": "stream",
     "text": [
      "\u001b[34mimport\u001b[39;49;00m \u001b[04m\u001b[36mtorch\u001b[39;49;00m\u001b[04m\u001b[36m.\u001b[39;49;00m\u001b[04m\u001b[36mnn\u001b[39;49;00m \u001b[34mas\u001b[39;49;00m \u001b[04m\u001b[36mnn\u001b[39;49;00m\r\n",
      "\r\n",
      "\u001b[34mclass\u001b[39;49;00m \u001b[04m\u001b[32mLSTMClassifier\u001b[39;49;00m(nn.Module):\r\n",
      "    \u001b[33m\"\"\"\u001b[39;49;00m\r\n",
      "\u001b[33m    This is the simple RNN model we will be using to perform Sentiment Analysis.\u001b[39;49;00m\r\n",
      "\u001b[33m    \"\"\"\u001b[39;49;00m\r\n",
      "\r\n",
      "    \u001b[34mdef\u001b[39;49;00m \u001b[32m__init__\u001b[39;49;00m(\u001b[36mself\u001b[39;49;00m, embedding_dim, hidden_dim, vocab_size):\r\n",
      "        \u001b[33m\"\"\"\u001b[39;49;00m\r\n",
      "\u001b[33m        Initialize the model by settingg up the various layers.\u001b[39;49;00m\r\n",
      "\u001b[33m        \"\"\"\u001b[39;49;00m\r\n",
      "        \u001b[36msuper\u001b[39;49;00m(LSTMClassifier, \u001b[36mself\u001b[39;49;00m).\u001b[32m__init__\u001b[39;49;00m()\r\n",
      "\r\n",
      "        \u001b[36mself\u001b[39;49;00m.embedding = nn.Embedding(vocab_size, embedding_dim, padding_idx=\u001b[34m0\u001b[39;49;00m)\r\n",
      "        \u001b[36mself\u001b[39;49;00m.lstm = nn.LSTM(embedding_dim, hidden_dim)\r\n",
      "        \u001b[36mself\u001b[39;49;00m.dense = nn.Linear(in_features=hidden_dim, out_features=\u001b[34m1\u001b[39;49;00m)\r\n",
      "        \u001b[36mself\u001b[39;49;00m.sig = nn.Sigmoid()\r\n",
      "        \r\n",
      "        \u001b[36mself\u001b[39;49;00m.word_dict = \u001b[34mNone\u001b[39;49;00m\r\n",
      "\r\n",
      "    \u001b[34mdef\u001b[39;49;00m \u001b[32mforward\u001b[39;49;00m(\u001b[36mself\u001b[39;49;00m, x):\r\n",
      "        \u001b[33m\"\"\"\u001b[39;49;00m\r\n",
      "\u001b[33m        Perform a forward pass of our model on some input.\u001b[39;49;00m\r\n",
      "\u001b[33m        \"\"\"\u001b[39;49;00m\r\n",
      "        x = x.t()\r\n",
      "        lengths = x[\u001b[34m0\u001b[39;49;00m,:]\r\n",
      "        reviews = x[\u001b[34m1\u001b[39;49;00m:,:]\r\n",
      "        embeds = \u001b[36mself\u001b[39;49;00m.embedding(reviews)\r\n",
      "        lstm_out, _ = \u001b[36mself\u001b[39;49;00m.lstm(embeds)\r\n",
      "        out = \u001b[36mself\u001b[39;49;00m.dense(lstm_out)\r\n",
      "        out = out[lengths - \u001b[34m1\u001b[39;49;00m, \u001b[36mrange\u001b[39;49;00m(\u001b[36mlen\u001b[39;49;00m(lengths))]\r\n",
      "        \u001b[34mreturn\u001b[39;49;00m \u001b[36mself\u001b[39;49;00m.sig(out.squeeze())\r\n"
     ]
    }
   ],
   "source": [
    "!pygmentize train/model.py"
   ]
  },
  {
   "cell_type": "markdown",
   "metadata": {},
   "source": [
    "The important takeaway from the implementation provided is that there are three parameters that we may wish to tweak to improve the performance of our model. These are the embedding dimension, the hidden dimension and the size of the vocabulary. We will likely want to make these parameters configurable in the training script so that if we wish to modify them we do not need to modify the script itself. We will see how to do this later on. To start we will write some of the training code in the notebook so that we can more easily diagnose any issues that arise.\n",
    "\n",
    "First we will load a small portion of the training data set to use as a sample. It would be very time consuming to try and train the model completely in the notebook as we do not have access to a gpu and the compute instance that we are using is not particularly powerful. However, we can work on a small bit of the data to get a feel for how our training script is behaving."
   ]
  },
  {
   "cell_type": "code",
   "execution_count": 25,
   "metadata": {},
   "outputs": [],
   "source": [
    "import torch\n",
    "import torch.utils.data\n",
    "\n",
    "# Read in only the first 250 rows\n",
    "train_sample = pd.read_csv(os.path.join(data_dir, 'train.csv'), header=None, names=None, nrows=250)\n",
    "\n",
    "# Turn the input pandas dataframe into tensors\n",
    "train_sample_y = torch.from_numpy(train_sample[[0]].values).float().squeeze()\n",
    "train_sample_X = torch.from_numpy(train_sample.drop([0], axis=1).values).long()\n",
    "\n",
    "# Build the dataset\n",
    "train_sample_ds = torch.utils.data.TensorDataset(train_sample_X, train_sample_y)\n",
    "# Build the dataloader\n",
    "train_sample_dl = torch.utils.data.DataLoader(train_sample_ds, batch_size=50)"
   ]
  },
  {
   "cell_type": "markdown",
   "metadata": {},
   "source": [
    "### (TODO) Writing the training method\n",
    "\n",
    "Next we need to write the training code itself. This should be very similar to training methods that you have written before to train PyTorch models. We will leave any difficult aspects such as model saving / loading and parameter loading until a little later."
   ]
  },
  {
   "cell_type": "code",
   "execution_count": 26,
   "metadata": {},
   "outputs": [],
   "source": [
    "def train(model, train_loader, epochs, optimizer, loss_fn, device):\n",
    "    for epoch in range(1, epochs + 1):\n",
    "        model.train()\n",
    "        total_loss = 0\n",
    "        for batch in train_loader:         \n",
    "            batch_X, batch_y = batch\n",
    "            \n",
    "            batch_X = batch_X.to(device)\n",
    "            batch_y = batch_y.to(device)\n",
    "            \n",
    "            # TODO: Complete this train method to train the model provided.\n",
    "            \n",
    "            optimizer.zero_grad()\n",
    "            \n",
    "            output = model(batch_X)\n",
    "            \n",
    "            loss = loss_fn(output,batch_y)\n",
    "            \n",
    "            loss.backward()\n",
    "            \n",
    "            optimizer.step()\n",
    "            \n",
    "            total_loss += loss.data.item()\n",
    "        print(\"Epoch: {}, BCELoss: {}\".format(epoch, total_loss / len(train_loader)))"
   ]
  },
  {
   "cell_type": "markdown",
   "metadata": {},
   "source": [
    "Supposing we have the training method above, we will test that it is working by writing a bit of code in the notebook that executes our training method on the small sample training set that we loaded earlier. The reason for doing this in the notebook is so that we have an opportunity to fix any errors that arise early when they are easier to diagnose."
   ]
  },
  {
   "cell_type": "code",
   "execution_count": 27,
   "metadata": {},
   "outputs": [
    {
     "name": "stdout",
     "output_type": "stream",
     "text": [
      "Epoch: 1, BCELoss: 0.6945268869400024\n",
      "Epoch: 2, BCELoss: 0.6834583282470703\n",
      "Epoch: 3, BCELoss: 0.6740659475326538\n",
      "Epoch: 4, BCELoss: 0.6641200661659241\n",
      "Epoch: 5, BCELoss: 0.6526257753372192\n"
     ]
    }
   ],
   "source": [
    "import torch.optim as optim\n",
    "from train.model import LSTMClassifier\n",
    "\n",
    "device = torch.device(\"cuda\" if torch.cuda.is_available() else \"cpu\")\n",
    "model = LSTMClassifier(32, 100, 5000).to(device)\n",
    "optimizer = optim.Adam(model.parameters())\n",
    "loss_fn = torch.nn.BCELoss()\n",
    "\n",
    "train(model, train_sample_dl, 5, optimizer, loss_fn, device)"
   ]
  },
  {
   "cell_type": "markdown",
   "metadata": {},
   "source": [
    "In order to construct a PyTorch model using SageMaker we must provide SageMaker with a training script. We may optionally include a directory which will be copied to the container and from which our training code will be run. When the training container is executed it will check the uploaded directory (if there is one) for a `requirements.txt` file and install any required Python libraries, after which the training script will be run."
   ]
  },
  {
   "cell_type": "markdown",
   "metadata": {},
   "source": [
    "### (TODO) Training the model\n",
    "\n",
    "When a PyTorch model is constructed in SageMaker, an entry point must be specified. This is the Python file which will be executed when the model is trained. Inside of the `train` directory is a file called `train.py` which has been provided and which contains most of the necessary code to train our model. The only thing that is missing is the implementation of the `train()` method which you wrote earlier in this notebook.\n",
    "\n",
    "**TODO**: Copy the `train()` method written above and paste it into the `train/train.py` file where required.\n",
    "\n",
    "The way that SageMaker passes hyperparameters to the training script is by way of arguments. These arguments can then be parsed and used in the training script. To see how this is done take a look at the provided `train/train.py` file."
   ]
  },
  {
   "cell_type": "code",
   "execution_count": 30,
   "metadata": {},
   "outputs": [],
   "source": [
    "from sagemaker.pytorch import PyTorch\n",
    "\n",
    "estimator = PyTorch(entry_point=\"train.py\",\n",
    "                    source_dir=\"train\",\n",
    "                    role=role,\n",
    "                    framework_version='0.4.0',\n",
    "                    train_instance_count=1,\n",
    "                    train_instance_type='ml.p2.xlarge',\n",
    "                    hyperparameters={\n",
    "                        'epochs': 10,\n",
    "                        'hidden_dim': 200,\n",
    "                    })"
   ]
  },
  {
   "cell_type": "code",
   "execution_count": 31,
   "metadata": {},
   "outputs": [
    {
     "name": "stderr",
     "output_type": "stream",
     "text": [
      "'create_image_uri' will be deprecated in favor of 'ImageURIProvider' class in SageMaker Python SDK v2.\n",
      "'s3_input' class will be renamed to 'TrainingInput' in SageMaker Python SDK v2.\n",
      "'create_image_uri' will be deprecated in favor of 'ImageURIProvider' class in SageMaker Python SDK v2.\n"
     ]
    },
    {
     "name": "stdout",
     "output_type": "stream",
     "text": [
      "2020-08-17 18:16:31 Starting - Starting the training job...\n",
      "2020-08-17 18:16:33 Starting - Launching requested ML instances......\n",
      "2020-08-17 18:17:38 Starting - Preparing the instances for training.........\n",
      "2020-08-17 18:19:04 Downloading - Downloading input data...\n",
      "2020-08-17 18:19:46 Training - Downloading the training image..\u001b[34mbash: cannot set terminal process group (-1): Inappropriate ioctl for device\u001b[0m\n",
      "\u001b[34mbash: no job control in this shell\u001b[0m\n",
      "\u001b[34m2020-08-17 18:20:10,749 sagemaker-containers INFO     Imported framework sagemaker_pytorch_container.training\u001b[0m\n",
      "\u001b[34m2020-08-17 18:20:10,774 sagemaker_pytorch_container.training INFO     Block until all host DNS lookups succeed.\u001b[0m\n",
      "\u001b[34m2020-08-17 18:20:11,388 sagemaker_pytorch_container.training INFO     Invoking user training script.\u001b[0m\n",
      "\u001b[34m2020-08-17 18:20:11,622 sagemaker-containers INFO     Module train does not provide a setup.py. \u001b[0m\n",
      "\u001b[34mGenerating setup.py\u001b[0m\n",
      "\u001b[34m2020-08-17 18:20:11,623 sagemaker-containers INFO     Generating setup.cfg\u001b[0m\n",
      "\u001b[34m2020-08-17 18:20:11,623 sagemaker-containers INFO     Generating MANIFEST.in\u001b[0m\n",
      "\u001b[34m2020-08-17 18:20:11,623 sagemaker-containers INFO     Installing module with the following command:\u001b[0m\n",
      "\u001b[34m/usr/bin/python -m pip install -U . -r requirements.txt\u001b[0m\n",
      "\u001b[34mProcessing /opt/ml/code\u001b[0m\n",
      "\u001b[34mCollecting pandas (from -r requirements.txt (line 1))\n",
      "  Downloading https://files.pythonhosted.org/packages/74/24/0cdbf8907e1e3bc5a8da03345c23cbed7044330bb8f73bb12e711a640a00/pandas-0.24.2-cp35-cp35m-manylinux1_x86_64.whl (10.0MB)\u001b[0m\n",
      "\u001b[34mCollecting numpy (from -r requirements.txt (line 2))\u001b[0m\n",
      "\u001b[34m  Downloading https://files.pythonhosted.org/packages/b5/36/88723426b4ff576809fec7d73594fe17a35c27f8d01f93637637a29ae25b/numpy-1.18.5-cp35-cp35m-manylinux1_x86_64.whl (19.9MB)\u001b[0m\n",
      "\u001b[34mCollecting nltk (from -r requirements.txt (line 3))\n",
      "  Downloading https://files.pythonhosted.org/packages/92/75/ce35194d8e3022203cca0d2f896dbb88689f9b3fce8e9f9cff942913519d/nltk-3.5.zip (1.4MB)\u001b[0m\n",
      "\u001b[34mCollecting beautifulsoup4 (from -r requirements.txt (line 4))\n",
      "  Downloading https://files.pythonhosted.org/packages/66/25/ff030e2437265616a1e9b25ccc864e0371a0bc3adb7c5a404fd661c6f4f6/beautifulsoup4-4.9.1-py3-none-any.whl (115kB)\u001b[0m\n",
      "\u001b[34mCollecting html5lib (from -r requirements.txt (line 5))\n",
      "  Downloading https://files.pythonhosted.org/packages/6c/dd/a834df6482147d48e225a49515aabc28974ad5a4ca3215c18a882565b028/html5lib-1.1-py2.py3-none-any.whl (112kB)\u001b[0m\n",
      "\u001b[34mCollecting pytz>=2011k (from pandas->-r requirements.txt (line 1))\n",
      "  Downloading https://files.pythonhosted.org/packages/4f/a4/879454d49688e2fad93e59d7d4efda580b783c745fd2ec2a3adf87b0808d/pytz-2020.1-py2.py3-none-any.whl (510kB)\u001b[0m\n",
      "\u001b[34mRequirement already satisfied, skipping upgrade: python-dateutil>=2.5.0 in /usr/local/lib/python3.5/dist-packages (from pandas->-r requirements.txt (line 1)) (2.7.5)\u001b[0m\n",
      "\u001b[34mRequirement already satisfied, skipping upgrade: click in /usr/local/lib/python3.5/dist-packages (from nltk->-r requirements.txt (line 3)) (7.0)\u001b[0m\n",
      "\u001b[34mCollecting joblib (from nltk->-r requirements.txt (line 3))\n",
      "  Downloading https://files.pythonhosted.org/packages/28/5c/cf6a2b65a321c4a209efcdf64c2689efae2cb62661f8f6f4bb28547cf1bf/joblib-0.14.1-py2.py3-none-any.whl (294kB)\u001b[0m\n",
      "\u001b[34mCollecting regex (from nltk->-r requirements.txt (line 3))\n",
      "  Downloading https://files.pythonhosted.org/packages/09/c3/ddaa87500f31ed86290e3d014c0302a51fde28d7139eda0b5f33733726db/regex-2020.7.14.tar.gz (690kB)\u001b[0m\n",
      "\u001b[34mCollecting tqdm (from nltk->-r requirements.txt (line 3))\n",
      "  Downloading https://files.pythonhosted.org/packages/28/7e/281edb5bc3274dfb894d90f4dbacfceaca381c2435ec6187a2c6f329aed7/tqdm-4.48.2-py2.py3-none-any.whl (68kB)\u001b[0m\n",
      "\u001b[34mCollecting soupsieve>1.2 (from beautifulsoup4->-r requirements.txt (line 4))\n",
      "  Downloading https://files.pythonhosted.org/packages/6f/8f/457f4a5390eeae1cc3aeab89deb7724c965be841ffca6cfca9197482e470/soupsieve-2.0.1-py3-none-any.whl\u001b[0m\n",
      "\u001b[34mCollecting webencodings (from html5lib->-r requirements.txt (line 5))\n",
      "  Downloading https://files.pythonhosted.org/packages/f4/24/2a3e3df732393fed8b3ebf2ec078f05546de641fe1b667ee316ec1dcf3b7/webencodings-0.5.1-py2.py3-none-any.whl\u001b[0m\n",
      "\u001b[34mRequirement already satisfied, skipping upgrade: six>=1.9 in /usr/local/lib/python3.5/dist-packages (from html5lib->-r requirements.txt (line 5)) (1.11.0)\u001b[0m\n",
      "\u001b[34mBuilding wheels for collected packages: nltk, train, regex\n",
      "  Running setup.py bdist_wheel for nltk: started\u001b[0m\n",
      "\u001b[34m  Running setup.py bdist_wheel for nltk: finished with status 'done'\n",
      "  Stored in directory: /root/.cache/pip/wheels/ae/8c/3f/b1fe0ba04555b08b57ab52ab7f86023639a526d8bc8d384306\n",
      "  Running setup.py bdist_wheel for train: started\n",
      "  Running setup.py bdist_wheel for train: finished with status 'done'\n",
      "  Stored in directory: /tmp/pip-ephem-wheel-cache-mdaduftj/wheels/35/24/16/37574d11bf9bde50616c67372a334f94fa8356bc7164af8ca3\n",
      "  Running setup.py bdist_wheel for regex: started\u001b[0m\n",
      "\n",
      "2020-08-17 18:20:09 Training - Training image download completed. Training in progress.\u001b[34m  Running setup.py bdist_wheel for regex: finished with status 'done'\n",
      "  Stored in directory: /root/.cache/pip/wheels/53/55/dc/e17fa4568958f4c53be34b65e474a1327b64641f65df379ec3\u001b[0m\n",
      "\u001b[34mSuccessfully built nltk train regex\u001b[0m\n",
      "\u001b[34mInstalling collected packages: numpy, pytz, pandas, joblib, regex, tqdm, nltk, soupsieve, beautifulsoup4, webencodings, html5lib, train\n",
      "  Found existing installation: numpy 1.15.4\n",
      "    Uninstalling numpy-1.15.4:\n",
      "      Successfully uninstalled numpy-1.15.4\u001b[0m\n",
      "\u001b[34mSuccessfully installed beautifulsoup4-4.9.1 html5lib-1.1 joblib-0.14.1 nltk-3.5 numpy-1.18.5 pandas-0.24.2 pytz-2020.1 regex-2020.7.14 soupsieve-2.0.1 tqdm-4.48.2 train-1.0.0 webencodings-0.5.1\u001b[0m\n",
      "\u001b[34mYou are using pip version 18.1, however version 20.2.2 is available.\u001b[0m\n",
      "\u001b[34mYou should consider upgrading via the 'pip install --upgrade pip' command.\u001b[0m\n",
      "\u001b[34m2020-08-17 18:20:34,100 sagemaker-containers INFO     Invoking user script\n",
      "\u001b[0m\n",
      "\u001b[34mTraining Env:\n",
      "\u001b[0m\n",
      "\u001b[34m{\n",
      "    \"input_dir\": \"/opt/ml/input\",\n",
      "    \"resource_config\": {\n",
      "        \"network_interface_name\": \"eth0\",\n",
      "        \"current_host\": \"algo-1\",\n",
      "        \"hosts\": [\n",
      "            \"algo-1\"\n",
      "        ]\n",
      "    },\n",
      "    \"module_name\": \"train\",\n",
      "    \"output_data_dir\": \"/opt/ml/output/data\",\n",
      "    \"framework_module\": \"sagemaker_pytorch_container.training:main\",\n",
      "    \"output_intermediate_dir\": \"/opt/ml/output/intermediate\",\n",
      "    \"hosts\": [\n",
      "        \"algo-1\"\n",
      "    ],\n",
      "    \"job_name\": \"sagemaker-pytorch-2020-08-17-18-16-31-246\",\n",
      "    \"log_level\": 20,\n",
      "    \"additional_framework_parameters\": {},\n",
      "    \"user_entry_point\": \"train.py\",\n",
      "    \"channel_input_dirs\": {\n",
      "        \"training\": \"/opt/ml/input/data/training\"\n",
      "    },\n",
      "    \"module_dir\": \"s3://sagemaker-us-east-2-817518697183/sagemaker-pytorch-2020-08-17-18-16-31-246/source/sourcedir.tar.gz\",\n",
      "    \"current_host\": \"algo-1\",\n",
      "    \"hyperparameters\": {\n",
      "        \"epochs\": 10,\n",
      "        \"hidden_dim\": 200\n",
      "    },\n",
      "    \"network_interface_name\": \"eth0\",\n",
      "    \"num_gpus\": 1,\n",
      "    \"input_data_config\": {\n",
      "        \"training\": {\n",
      "            \"S3DistributionType\": \"FullyReplicated\",\n",
      "            \"RecordWrapperType\": \"None\",\n",
      "            \"TrainingInputMode\": \"File\"\n",
      "        }\n",
      "    },\n",
      "    \"num_cpus\": 4,\n",
      "    \"model_dir\": \"/opt/ml/model\",\n",
      "    \"output_dir\": \"/opt/ml/output\",\n",
      "    \"input_config_dir\": \"/opt/ml/input/config\"\u001b[0m\n",
      "\u001b[34m}\n",
      "\u001b[0m\n",
      "\u001b[34mEnvironment variables:\n",
      "\u001b[0m\n",
      "\u001b[34mSM_OUTPUT_DATA_DIR=/opt/ml/output/data\u001b[0m\n",
      "\u001b[34mSM_CHANNEL_TRAINING=/opt/ml/input/data/training\u001b[0m\n",
      "\u001b[34mSM_FRAMEWORK_PARAMS={}\u001b[0m\n",
      "\u001b[34mSM_MODEL_DIR=/opt/ml/model\u001b[0m\n",
      "\u001b[34mSM_INPUT_CONFIG_DIR=/opt/ml/input/config\u001b[0m\n",
      "\u001b[34mSM_CHANNELS=[\"training\"]\u001b[0m\n",
      "\u001b[34mSM_HP_EPOCHS=10\u001b[0m\n",
      "\u001b[34mSM_CURRENT_HOST=algo-1\u001b[0m\n",
      "\u001b[34mSM_HP_HIDDEN_DIM=200\u001b[0m\n",
      "\u001b[34mSM_NUM_CPUS=4\u001b[0m\n",
      "\u001b[34mSM_RESOURCE_CONFIG={\"current_host\":\"algo-1\",\"hosts\":[\"algo-1\"],\"network_interface_name\":\"eth0\"}\u001b[0m\n",
      "\u001b[34mSM_TRAINING_ENV={\"additional_framework_parameters\":{},\"channel_input_dirs\":{\"training\":\"/opt/ml/input/data/training\"},\"current_host\":\"algo-1\",\"framework_module\":\"sagemaker_pytorch_container.training:main\",\"hosts\":[\"algo-1\"],\"hyperparameters\":{\"epochs\":10,\"hidden_dim\":200},\"input_config_dir\":\"/opt/ml/input/config\",\"input_data_config\":{\"training\":{\"RecordWrapperType\":\"None\",\"S3DistributionType\":\"FullyReplicated\",\"TrainingInputMode\":\"File\"}},\"input_dir\":\"/opt/ml/input\",\"job_name\":\"sagemaker-pytorch-2020-08-17-18-16-31-246\",\"log_level\":20,\"model_dir\":\"/opt/ml/model\",\"module_dir\":\"s3://sagemaker-us-east-2-817518697183/sagemaker-pytorch-2020-08-17-18-16-31-246/source/sourcedir.tar.gz\",\"module_name\":\"train\",\"network_interface_name\":\"eth0\",\"num_cpus\":4,\"num_gpus\":1,\"output_data_dir\":\"/opt/ml/output/data\",\"output_dir\":\"/opt/ml/output\",\"output_intermediate_dir\":\"/opt/ml/output/intermediate\",\"resource_config\":{\"current_host\":\"algo-1\",\"hosts\":[\"algo-1\"],\"network_interface_name\":\"eth0\"},\"user_entry_point\":\"train.py\"}\u001b[0m\n",
      "\u001b[34mSM_INPUT_DIR=/opt/ml/input\u001b[0m\n",
      "\u001b[34mSM_INPUT_DATA_CONFIG={\"training\":{\"RecordWrapperType\":\"None\",\"S3DistributionType\":\"FullyReplicated\",\"TrainingInputMode\":\"File\"}}\u001b[0m\n",
      "\u001b[34mSM_USER_ARGS=[\"--epochs\",\"10\",\"--hidden_dim\",\"200\"]\u001b[0m\n",
      "\u001b[34mSM_OUTPUT_INTERMEDIATE_DIR=/opt/ml/output/intermediate\u001b[0m\n",
      "\u001b[34mSM_HOSTS=[\"algo-1\"]\u001b[0m\n",
      "\u001b[34mSM_HPS={\"epochs\":10,\"hidden_dim\":200}\u001b[0m\n",
      "\u001b[34mSM_MODULE_DIR=s3://sagemaker-us-east-2-817518697183/sagemaker-pytorch-2020-08-17-18-16-31-246/source/sourcedir.tar.gz\u001b[0m\n",
      "\u001b[34mSM_NUM_GPUS=1\u001b[0m\n",
      "\u001b[34mSM_USER_ENTRY_POINT=train.py\u001b[0m\n",
      "\u001b[34mSM_MODULE_NAME=train\u001b[0m\n",
      "\u001b[34mSM_FRAMEWORK_MODULE=sagemaker_pytorch_container.training:main\u001b[0m\n",
      "\u001b[34mSM_OUTPUT_DIR=/opt/ml/output\u001b[0m\n",
      "\u001b[34mPYTHONPATH=/usr/local/bin:/usr/lib/python35.zip:/usr/lib/python3.5:/usr/lib/python3.5/plat-x86_64-linux-gnu:/usr/lib/python3.5/lib-dynload:/usr/local/lib/python3.5/dist-packages:/usr/lib/python3/dist-packages\u001b[0m\n",
      "\u001b[34mSM_NETWORK_INTERFACE_NAME=eth0\u001b[0m\n",
      "\u001b[34mSM_LOG_LEVEL=20\n",
      "\u001b[0m\n",
      "\u001b[34mInvoking script with the following command:\n",
      "\u001b[0m\n",
      "\u001b[34m/usr/bin/python -m train --epochs 10 --hidden_dim 200\n",
      "\n",
      "\u001b[0m\n",
      "\u001b[34mUsing device cuda.\u001b[0m\n",
      "\u001b[34mGet train data loader.\u001b[0m\n"
     ]
    },
    {
     "name": "stdout",
     "output_type": "stream",
     "text": [
      "\u001b[34mModel loaded with embedding_dim 32, hidden_dim 200, vocab_size 5000.\u001b[0m\n",
      "\u001b[34mEpoch: 1, BCELoss: 0.6641749739646912\u001b[0m\n",
      "\u001b[34mEpoch: 2, BCELoss: 0.579460046729263\u001b[0m\n",
      "\u001b[34mEpoch: 3, BCELoss: 0.5050604994199714\u001b[0m\n",
      "\u001b[34mEpoch: 4, BCELoss: 0.4360440641033406\u001b[0m\n",
      "\u001b[34mEpoch: 5, BCELoss: 0.39744605823438994\u001b[0m\n",
      "\u001b[34mEpoch: 6, BCELoss: 0.35966447725587963\u001b[0m\n",
      "\u001b[34mEpoch: 7, BCELoss: 0.3281371204220519\u001b[0m\n",
      "\u001b[34mEpoch: 8, BCELoss: 0.3040273621374247\u001b[0m\n",
      "\u001b[34mEpoch: 9, BCELoss: 0.291497563525122\u001b[0m\n",
      "\u001b[34mEpoch: 10, BCELoss: 0.2794326431289011\u001b[0m\n",
      "\u001b[34m2020-08-17 18:23:35,198 sagemaker-containers INFO     Reporting training SUCCESS\u001b[0m\n",
      "\n",
      "2020-08-17 18:23:44 Uploading - Uploading generated training model\n",
      "2020-08-17 18:23:44 Completed - Training job completed\n",
      "Training seconds: 280\n",
      "Billable seconds: 280\n"
     ]
    }
   ],
   "source": [
    "estimator.fit({'training': input_data})"
   ]
  },
  {
   "cell_type": "markdown",
   "metadata": {},
   "source": [
    "## Step 5: Testing the model\n",
    "\n",
    "As mentioned at the top of this notebook, we will be testing this model by first deploying it and then sending the testing data to the deployed endpoint. We will do this so that we can make sure that the deployed model is working correctly.\n",
    "\n",
    "## Step 6: Deploy the model for testing\n",
    "\n",
    "Now that we have trained our model, we would like to test it to see how it performs. Currently our model takes input of the form `review_length, review[500]` where `review[500]` is a sequence of `500` integers which describe the words present in the review, encoded using `word_dict`. Fortunately for us, SageMaker provides built-in inference code for models with simple inputs such as this.\n",
    "\n",
    "There is one thing that we need to provide, however, and that is a function which loads the saved model. This function must be called `model_fn()` and takes as its only parameter a path to the directory where the model artifacts are stored. This function must also be present in the python file which we specified as the entry point. In our case the model loading function has been provided and so no changes need to be made.\n",
    "\n",
    "**NOTE**: When the built-in inference code is run it must import the `model_fn()` method from the `train.py` file. This is why the training code is wrapped in a main guard ( ie, `if __name__ == '__main__':` )\n",
    "\n",
    "Since we don't need to change anything in the code that was uploaded during training, we can simply deploy the current model as-is.\n",
    "\n",
    "**NOTE:** When deploying a model you are asking SageMaker to launch an compute instance that will wait for data to be sent to it. As a result, this compute instance will continue to run until *you* shut it down. This is important to know since the cost of a deployed endpoint depends on how long it has been running for.\n",
    "\n",
    "In other words **If you are no longer using a deployed endpoint, shut it down!**\n",
    "\n",
    "**TODO:** Deploy the trained model."
   ]
  },
  {
   "cell_type": "code",
   "execution_count": 34,
   "metadata": {},
   "outputs": [
    {
     "name": "stderr",
     "output_type": "stream",
     "text": [
      "Parameter image will be renamed to image_uri in SageMaker Python SDK v2.\n",
      "'create_image_uri' will be deprecated in favor of 'ImageURIProvider' class in SageMaker Python SDK v2.\n",
      "Using already existing model: sagemaker-pytorch-2020-08-17-18-16-31-246\n"
     ]
    },
    {
     "name": "stdout",
     "output_type": "stream",
     "text": [
      "---------------!"
     ]
    }
   ],
   "source": [
    "# TODO: Deploy the trained model\n",
    "model_predictor = estimator.deploy(initial_instance_count=1, instance_type='ml.m4.xlarge')"
   ]
  },
  {
   "cell_type": "markdown",
   "metadata": {},
   "source": [
    "## Step 7 - Use the model for testing\n",
    "\n",
    "Once deployed, we can read in the test data and send it off to our deployed model to get some results. Once we collect all of the results we can determine how accurate our model is."
   ]
  },
  {
   "cell_type": "code",
   "execution_count": 35,
   "metadata": {},
   "outputs": [],
   "source": [
    "test_X = pd.concat([pd.DataFrame(test_X_len), pd.DataFrame(test_X)], axis=1)"
   ]
  },
  {
   "cell_type": "code",
   "execution_count": 36,
   "metadata": {},
   "outputs": [],
   "source": [
    "# We split the data into chunks and send each chunk seperately, accumulating the results.\n",
    "\n",
    "def predict(data, rows=512):\n",
    "    split_array = np.array_split(data, int(data.shape[0] / float(rows) + 1))\n",
    "    predictions = np.array([])\n",
    "    for array in split_array:\n",
    "        predictions = np.append(predictions, model_predictor.predict(array))\n",
    "    \n",
    "    return predictions"
   ]
  },
  {
   "cell_type": "code",
   "execution_count": 37,
   "metadata": {},
   "outputs": [],
   "source": [
    "predictions = predict(test_X.values)\n",
    "predictions = [round(num) for num in predictions]"
   ]
  },
  {
   "cell_type": "code",
   "execution_count": 38,
   "metadata": {},
   "outputs": [
    {
     "data": {
      "text/plain": [
       "0.85524"
      ]
     },
     "execution_count": 38,
     "metadata": {},
     "output_type": "execute_result"
    }
   ],
   "source": [
    "from sklearn.metrics import accuracy_score\n",
    "accuracy_score(test_y, predictions)"
   ]
  },
  {
   "cell_type": "markdown",
   "metadata": {},
   "source": [
    "**Question:** How does this model compare to the XGBoost model you created earlier? Why might these two models perform differently on this dataset? Which do *you* think is better for sentiment analysis?"
   ]
  },
  {
   "cell_type": "markdown",
   "metadata": {},
   "source": [
    "**Answer:** \n",
    "\n",
    "the XGBoost model had accuracy with 0.86116 while my model achieved accuracy with 0.85524 so the XGBoost model is a little better not with a big difference and i guess our model using the LSTM is better but we just need to train it for maybe more than 10 epochs "
   ]
  },
  {
   "cell_type": "markdown",
   "metadata": {},
   "source": [
    "### (TODO) More testing\n",
    "\n",
    "We now have a trained model which has been deployed and which we can send processed reviews to and which returns the predicted sentiment. However, ultimately we would like to be able to send our model an unprocessed review. That is, we would like to send the review itself as a string. For example, suppose we wish to send the following review to our model."
   ]
  },
  {
   "cell_type": "code",
   "execution_count": 39,
   "metadata": {},
   "outputs": [],
   "source": [
    "test_review = 'The simplest pleasures in life are the best, and this film is one of them. Combining a rather basic storyline of love and adventure this movie transcends the usual weekend fair with wit and unmitigated charm.'"
   ]
  },
  {
   "cell_type": "markdown",
   "metadata": {},
   "source": [
    "The question we now need to answer is, how do we send this review to our model?\n",
    "\n",
    "Recall in the first section of this notebook we did a bunch of data processing to the IMDb dataset. In particular, we did two specific things to the provided reviews.\n",
    " - Removed any html tags and stemmed the input\n",
    " - Encoded the review as a sequence of integers using `word_dict`\n",
    " \n",
    "In order process the review we will need to repeat these two steps.\n",
    "\n",
    "**TODO**: Using the `review_to_words` and `convert_and_pad` methods from section one, convert `test_review` into a numpy array `test_data` suitable to send to our model. Remember that our model expects input of the form `review_length, review[500]`."
   ]
  },
  {
   "cell_type": "code",
   "execution_count": 40,
   "metadata": {},
   "outputs": [],
   "source": [
    "# TODO: Convert test_review into a form usable by the model and save the results in test_data\n",
    "test_review_words =  review_to_words(test_review)\n",
    "review_words , lenth = convert_and_pad(word_dict , test_review_words)\n",
    "test_data = np.array([[lenth] + review_words])"
   ]
  },
  {
   "cell_type": "markdown",
   "metadata": {},
   "source": [
    "Now that we have processed the review, we can send the resulting array to our model to predict the sentiment of the review."
   ]
  },
  {
   "cell_type": "code",
   "execution_count": 42,
   "metadata": {},
   "outputs": [
    {
     "data": {
      "text/plain": [
       "array(0.8441669, dtype=float32)"
      ]
     },
     "execution_count": 42,
     "metadata": {},
     "output_type": "execute_result"
    }
   ],
   "source": [
    "model_predictor.predict(test_data)"
   ]
  },
  {
   "cell_type": "markdown",
   "metadata": {},
   "source": [
    "Since the return value of our model is close to `1`, we can be certain that the review we submitted is positive."
   ]
  },
  {
   "cell_type": "markdown",
   "metadata": {},
   "source": [
    "### Delete the endpoint\n",
    "\n",
    "Of course, just like in the XGBoost notebook, once we've deployed an endpoint it continues to run until we tell it to shut down. Since we are done using our endpoint for now, we can delete it."
   ]
  },
  {
   "cell_type": "code",
   "execution_count": 43,
   "metadata": {},
   "outputs": [
    {
     "name": "stderr",
     "output_type": "stream",
     "text": [
      "estimator.delete_endpoint() will be deprecated in SageMaker Python SDK v2. Please use the delete_endpoint() function on your predictor instead.\n"
     ]
    }
   ],
   "source": [
    "estimator.delete_endpoint()"
   ]
  },
  {
   "cell_type": "markdown",
   "metadata": {},
   "source": [
    "## Step 6 (again) - Deploy the model for the web app\n",
    "\n",
    "Now that we know that our model is working, it's time to create some custom inference code so that we can send the model a review which has not been processed and have it determine the sentiment of the review.\n",
    "\n",
    "As we saw above, by default the estimator which we created, when deployed, will use the entry script and directory which we provided when creating the model. However, since we now wish to accept a string as input and our model expects a processed review, we need to write some custom inference code.\n",
    "\n",
    "We will store the code that we write in the `serve` directory. Provided in this directory is the `model.py` file that we used to construct our model, a `utils.py` file which contains the `review_to_words` and `convert_and_pad` pre-processing functions which we used during the initial data processing, and `predict.py`, the file which will contain our custom inference code. Note also that `requirements.txt` is present which will tell SageMaker what Python libraries are required by our custom inference code.\n",
    "\n",
    "When deploying a PyTorch model in SageMaker, you are expected to provide four functions which the SageMaker inference container will use.\n",
    " - `model_fn`: This function is the same function that we used in the training script and it tells SageMaker how to load our model.\n",
    " - `input_fn`: This function receives the raw serialized input that has been sent to the model's endpoint and its job is to de-serialize and make the input available for the inference code.\n",
    " - `output_fn`: This function takes the output of the inference code and its job is to serialize this output and return it to the caller of the model's endpoint.\n",
    " - `predict_fn`: The heart of the inference script, this is where the actual prediction is done and is the function which you will need to complete.\n",
    "\n",
    "For the simple website that we are constructing during this project, the `input_fn` and `output_fn` methods are relatively straightforward. We only require being able to accept a string as input and we expect to return a single value as output. You might imagine though that in a more complex application the input or output may be image data or some other binary data which would require some effort to serialize.\n",
    "\n",
    "### (TODO) Writing inference code\n",
    "\n",
    "Before writing our custom inference code, we will begin by taking a look at the code which has been provided."
   ]
  },
  {
   "cell_type": "code",
   "execution_count": 66,
   "metadata": {},
   "outputs": [
    {
     "name": "stdout",
     "output_type": "stream",
     "text": [
      "\u001b[34mimport\u001b[39;49;00m \u001b[04m\u001b[36margparse\u001b[39;49;00m\r\n",
      "\u001b[34mimport\u001b[39;49;00m \u001b[04m\u001b[36mjson\u001b[39;49;00m\r\n",
      "\u001b[34mimport\u001b[39;49;00m \u001b[04m\u001b[36mos\u001b[39;49;00m\r\n",
      "\u001b[34mimport\u001b[39;49;00m \u001b[04m\u001b[36mpickle\u001b[39;49;00m\r\n",
      "\u001b[34mimport\u001b[39;49;00m \u001b[04m\u001b[36msys\u001b[39;49;00m\r\n",
      "\u001b[34mimport\u001b[39;49;00m \u001b[04m\u001b[36msagemaker_containers\u001b[39;49;00m\r\n",
      "\u001b[34mimport\u001b[39;49;00m \u001b[04m\u001b[36mpandas\u001b[39;49;00m \u001b[34mas\u001b[39;49;00m \u001b[04m\u001b[36mpd\u001b[39;49;00m\r\n",
      "\u001b[34mimport\u001b[39;49;00m \u001b[04m\u001b[36mnumpy\u001b[39;49;00m \u001b[34mas\u001b[39;49;00m \u001b[04m\u001b[36mnp\u001b[39;49;00m\r\n",
      "\u001b[34mimport\u001b[39;49;00m \u001b[04m\u001b[36mtorch\u001b[39;49;00m\r\n",
      "\u001b[34mimport\u001b[39;49;00m \u001b[04m\u001b[36mtorch\u001b[39;49;00m\u001b[04m\u001b[36m.\u001b[39;49;00m\u001b[04m\u001b[36mnn\u001b[39;49;00m \u001b[34mas\u001b[39;49;00m \u001b[04m\u001b[36mnn\u001b[39;49;00m\r\n",
      "\u001b[34mimport\u001b[39;49;00m \u001b[04m\u001b[36mtorch\u001b[39;49;00m\u001b[04m\u001b[36m.\u001b[39;49;00m\u001b[04m\u001b[36moptim\u001b[39;49;00m \u001b[34mas\u001b[39;49;00m \u001b[04m\u001b[36moptim\u001b[39;49;00m\r\n",
      "\u001b[34mimport\u001b[39;49;00m \u001b[04m\u001b[36mtorch\u001b[39;49;00m\u001b[04m\u001b[36m.\u001b[39;49;00m\u001b[04m\u001b[36mutils\u001b[39;49;00m\u001b[04m\u001b[36m.\u001b[39;49;00m\u001b[04m\u001b[36mdata\u001b[39;49;00m\r\n",
      "\r\n",
      "\u001b[34mfrom\u001b[39;49;00m \u001b[04m\u001b[36mmodel\u001b[39;49;00m \u001b[34mimport\u001b[39;49;00m LSTMClassifier\r\n",
      "\r\n",
      "\u001b[34mfrom\u001b[39;49;00m \u001b[04m\u001b[36mutils\u001b[39;49;00m \u001b[34mimport\u001b[39;49;00m review_to_words, convert_and_pad\r\n",
      "\r\n",
      "\u001b[34mdef\u001b[39;49;00m \u001b[32mmodel_fn\u001b[39;49;00m(model_dir):\r\n",
      "    \u001b[33m\"\"\"Load the PyTorch model from the `model_dir` directory.\"\"\"\u001b[39;49;00m\r\n",
      "    \u001b[36mprint\u001b[39;49;00m(\u001b[33m\"\u001b[39;49;00m\u001b[33mLoading model.\u001b[39;49;00m\u001b[33m\"\u001b[39;49;00m)\r\n",
      "\r\n",
      "    \u001b[37m# First, load the parameters used to create the model.\u001b[39;49;00m\r\n",
      "    model_info = {}\r\n",
      "    model_info_path = os.path.join(model_dir, \u001b[33m'\u001b[39;49;00m\u001b[33mmodel_info.pth\u001b[39;49;00m\u001b[33m'\u001b[39;49;00m)\r\n",
      "    \u001b[34mwith\u001b[39;49;00m \u001b[36mopen\u001b[39;49;00m(model_info_path, \u001b[33m'\u001b[39;49;00m\u001b[33mrb\u001b[39;49;00m\u001b[33m'\u001b[39;49;00m) \u001b[34mas\u001b[39;49;00m f:\r\n",
      "        model_info = torch.load(f)\r\n",
      "\r\n",
      "    \u001b[36mprint\u001b[39;49;00m(\u001b[33m\"\u001b[39;49;00m\u001b[33mmodel_info: \u001b[39;49;00m\u001b[33m{}\u001b[39;49;00m\u001b[33m\"\u001b[39;49;00m.format(model_info))\r\n",
      "\r\n",
      "    \u001b[37m# Determine the device and construct the model.\u001b[39;49;00m\r\n",
      "    device = torch.device(\u001b[33m\"\u001b[39;49;00m\u001b[33mcuda\u001b[39;49;00m\u001b[33m\"\u001b[39;49;00m \u001b[34mif\u001b[39;49;00m torch.cuda.is_available() \u001b[34melse\u001b[39;49;00m \u001b[33m\"\u001b[39;49;00m\u001b[33mcpu\u001b[39;49;00m\u001b[33m\"\u001b[39;49;00m)\r\n",
      "    model = LSTMClassifier(model_info[\u001b[33m'\u001b[39;49;00m\u001b[33membedding_dim\u001b[39;49;00m\u001b[33m'\u001b[39;49;00m], model_info[\u001b[33m'\u001b[39;49;00m\u001b[33mhidden_dim\u001b[39;49;00m\u001b[33m'\u001b[39;49;00m], model_info[\u001b[33m'\u001b[39;49;00m\u001b[33mvocab_size\u001b[39;49;00m\u001b[33m'\u001b[39;49;00m])\r\n",
      "\r\n",
      "    \u001b[37m# Load the store model parameters.\u001b[39;49;00m\r\n",
      "    model_path = os.path.join(model_dir, \u001b[33m'\u001b[39;49;00m\u001b[33mmodel.pth\u001b[39;49;00m\u001b[33m'\u001b[39;49;00m)\r\n",
      "    \u001b[34mwith\u001b[39;49;00m \u001b[36mopen\u001b[39;49;00m(model_path, \u001b[33m'\u001b[39;49;00m\u001b[33mrb\u001b[39;49;00m\u001b[33m'\u001b[39;49;00m) \u001b[34mas\u001b[39;49;00m f:\r\n",
      "        model.load_state_dict(torch.load(f))\r\n",
      "\r\n",
      "    \u001b[37m# Load the saved word_dict.\u001b[39;49;00m\r\n",
      "    word_dict_path = os.path.join(model_dir, \u001b[33m'\u001b[39;49;00m\u001b[33mword_dict.pkl\u001b[39;49;00m\u001b[33m'\u001b[39;49;00m)\r\n",
      "    \u001b[34mwith\u001b[39;49;00m \u001b[36mopen\u001b[39;49;00m(word_dict_path, \u001b[33m'\u001b[39;49;00m\u001b[33mrb\u001b[39;49;00m\u001b[33m'\u001b[39;49;00m) \u001b[34mas\u001b[39;49;00m f:\r\n",
      "        model.word_dict = pickle.load(f)\r\n",
      "\r\n",
      "    model.to(device).eval()\r\n",
      "\r\n",
      "    \u001b[36mprint\u001b[39;49;00m(\u001b[33m\"\u001b[39;49;00m\u001b[33mDone loading model.\u001b[39;49;00m\u001b[33m\"\u001b[39;49;00m)\r\n",
      "    \u001b[34mreturn\u001b[39;49;00m model\r\n",
      "\r\n",
      "\u001b[34mdef\u001b[39;49;00m \u001b[32minput_fn\u001b[39;49;00m(serialized_input_data, content_type):\r\n",
      "    \u001b[36mprint\u001b[39;49;00m(\u001b[33m'\u001b[39;49;00m\u001b[33mDeserializing the input data.\u001b[39;49;00m\u001b[33m'\u001b[39;49;00m)\r\n",
      "    \u001b[34mif\u001b[39;49;00m content_type == \u001b[33m'\u001b[39;49;00m\u001b[33mtext/plain\u001b[39;49;00m\u001b[33m'\u001b[39;49;00m:\r\n",
      "        data = serialized_input_data.decode(\u001b[33m'\u001b[39;49;00m\u001b[33mutf-8\u001b[39;49;00m\u001b[33m'\u001b[39;49;00m)\r\n",
      "        \u001b[34mreturn\u001b[39;49;00m data\r\n",
      "    \u001b[34mraise\u001b[39;49;00m \u001b[36mException\u001b[39;49;00m(\u001b[33m'\u001b[39;49;00m\u001b[33mRequested unsupported ContentType in content_type: \u001b[39;49;00m\u001b[33m'\u001b[39;49;00m + content_type)\r\n",
      "\r\n",
      "\u001b[34mdef\u001b[39;49;00m \u001b[32moutput_fn\u001b[39;49;00m(prediction_output, accept):\r\n",
      "    \u001b[36mprint\u001b[39;49;00m(\u001b[33m'\u001b[39;49;00m\u001b[33mSerializing the generated output.\u001b[39;49;00m\u001b[33m'\u001b[39;49;00m)\r\n",
      "    \u001b[34mreturn\u001b[39;49;00m \u001b[36mstr\u001b[39;49;00m(prediction_output)\r\n",
      "\r\n",
      "\u001b[34mdef\u001b[39;49;00m \u001b[32mpredict_fn\u001b[39;49;00m(input_data, model):\r\n",
      "    \u001b[36mprint\u001b[39;49;00m(\u001b[33m'\u001b[39;49;00m\u001b[33mInferring sentiment of input data.\u001b[39;49;00m\u001b[33m'\u001b[39;49;00m)\r\n",
      "\r\n",
      "    device = torch.device(\u001b[33m\"\u001b[39;49;00m\u001b[33mcuda\u001b[39;49;00m\u001b[33m\"\u001b[39;49;00m \u001b[34mif\u001b[39;49;00m torch.cuda.is_available() \u001b[34melse\u001b[39;49;00m \u001b[33m\"\u001b[39;49;00m\u001b[33mcpu\u001b[39;49;00m\u001b[33m\"\u001b[39;49;00m)\r\n",
      "    \r\n",
      "    \u001b[34mif\u001b[39;49;00m model.word_dict \u001b[35mis\u001b[39;49;00m \u001b[34mNone\u001b[39;49;00m:\r\n",
      "        \u001b[34mraise\u001b[39;49;00m \u001b[36mException\u001b[39;49;00m(\u001b[33m'\u001b[39;49;00m\u001b[33mModel has not been loaded properly, no word_dict.\u001b[39;49;00m\u001b[33m'\u001b[39;49;00m)\r\n",
      "    \r\n",
      "    \u001b[37m# TODO: Process input_data so that it is ready to be sent to our model.\u001b[39;49;00m\r\n",
      "    \u001b[37m#       You should produce two variables:\u001b[39;49;00m\r\n",
      "    \u001b[37m#         data_X   - A sequence of length 500 which represents the converted review\u001b[39;49;00m\r\n",
      "    \u001b[37m#         data_len - The length of the review\u001b[39;49;00m\r\n",
      "\r\n",
      "    review_words = review_to_words(input_data)\r\n",
      "    review_words, length = convert_and_pad(model.word_dict, review_words)\r\n",
      "    data_X = review_words\r\n",
      "    data_len = length\r\n",
      "\r\n",
      "    \u001b[37m# Using data_X and data_len we construct an appropriate input tensor. Remember\u001b[39;49;00m\r\n",
      "    \u001b[37m# that our model expects input data of the form 'len, review[500]'.\u001b[39;49;00m\r\n",
      "    data_pack = np.hstack((data_len, data_X))\r\n",
      "    data_pack = data_pack.reshape(\u001b[34m1\u001b[39;49;00m, -\u001b[34m1\u001b[39;49;00m)\r\n",
      "    \r\n",
      "    data = torch.from_numpy(data_pack)\r\n",
      "    data = data.to(device)\r\n",
      "\r\n",
      "    \u001b[37m# Make sure to put the model into evaluation mode\u001b[39;49;00m\r\n",
      "    model.eval()\r\n",
      "\r\n",
      "    \u001b[37m# TODO: Compute the result of applying the model to the input data. The variable `result` should\u001b[39;49;00m\r\n",
      "    \u001b[37m#       be a numpy array which contains a single integer which is either 1 or 0\u001b[39;49;00m\r\n",
      "\r\n",
      "    y_hat = model(data).detach().cpu().numpy()\r\n",
      "    \u001b[36mprint\u001b[39;49;00m(y_hat)\r\n",
      "    result = np.round(y_hat).astype(np.int)\r\n",
      "\r\n",
      "    \u001b[34mreturn\u001b[39;49;00m result\r\n"
     ]
    }
   ],
   "source": [
    "!pygmentize serve/predict.py"
   ]
  },
  {
   "cell_type": "markdown",
   "metadata": {},
   "source": [
    "As mentioned earlier, the `model_fn` method is the same as the one provided in the training code and the `input_fn` and `output_fn` methods are very simple and your task will be to complete the `predict_fn` method. Make sure that you save the completed file as `predict.py` in the `serve` directory.\n",
    "\n",
    "**TODO**: Complete the `predict_fn()` method in the `serve/predict.py` file."
   ]
  },
  {
   "cell_type": "markdown",
   "metadata": {},
   "source": [
    "### Deploying the model\n",
    "\n",
    "Now that the custom inference code has been written, we will create and deploy our model. To begin with, we need to construct a new PyTorchModel object which points to the model artifacts created during training and also points to the inference code that we wish to use. Then we can call the deploy method to launch the deployment container.\n",
    "\n",
    "**NOTE**: The default behaviour for a deployed PyTorch model is to assume that any input passed to the predictor is a `numpy` array. In our case we want to send a string so we need to construct a simple wrapper around the `RealTimePredictor` class to accomodate simple strings. In a more complicated situation you may want to provide a serialization object, for example if you wanted to sent image data."
   ]
  },
  {
   "cell_type": "code",
   "execution_count": 71,
   "metadata": {},
   "outputs": [
    {
     "name": "stderr",
     "output_type": "stream",
     "text": [
      "Parameter image will be renamed to image_uri in SageMaker Python SDK v2.\n",
      "'create_image_uri' will be deprecated in favor of 'ImageURIProvider' class in SageMaker Python SDK v2.\n"
     ]
    },
    {
     "name": "stdout",
     "output_type": "stream",
     "text": [
      "---------------!"
     ]
    }
   ],
   "source": [
    "from sagemaker.predictor import RealTimePredictor\n",
    "from sagemaker.pytorch import PyTorchModel\n",
    "\n",
    "class StringPredictor(RealTimePredictor):\n",
    "    def __init__(self, endpoint_name, sagemaker_session):\n",
    "        super(StringPredictor, self).__init__(endpoint_name, sagemaker_session, content_type='text/plain')\n",
    "\n",
    "model = PyTorchModel(model_data=estimator.model_data,\n",
    "                     role = role,\n",
    "                     framework_version='0.4.0',\n",
    "                     entry_point='predict.py',\n",
    "                     source_dir='serve',\n",
    "                     predictor_cls=StringPredictor)\n",
    "predictor = model.deploy(initial_instance_count=1, instance_type='ml.m4.xlarge')"
   ]
  },
  {
   "cell_type": "code",
   "execution_count": 76,
   "metadata": {},
   "outputs": [
    {
     "data": {
      "text/plain": [
       "'sagemaker-pytorch-2020-08-17-19-21-53-241'"
      ]
     },
     "execution_count": 76,
     "metadata": {},
     "output_type": "execute_result"
    }
   ],
   "source": [
    "predictor.endpoint"
   ]
  },
  {
   "cell_type": "markdown",
   "metadata": {},
   "source": [
    "### Testing the model\n",
    "\n",
    "Now that we have deployed our model with the custom inference code, we should test to see if everything is working. Here we test our model by loading the first `250` positive and negative reviews and send them to the endpoint, then collect the results. The reason for only sending some of the data is that the amount of time it takes for our model to process the input and then perform inference is quite long and so testing the entire data set would be prohibitive."
   ]
  },
  {
   "cell_type": "code",
   "execution_count": 72,
   "metadata": {},
   "outputs": [],
   "source": [
    "import glob\n",
    "\n",
    "def test_reviews(data_dir='../data/aclImdb', stop=250):\n",
    "    \n",
    "    results = []\n",
    "    ground = []\n",
    "    \n",
    "    # We make sure to test both positive and negative reviews    \n",
    "    for sentiment in ['pos', 'neg']:\n",
    "        \n",
    "        path = os.path.join(data_dir, 'test', sentiment, '*.txt')\n",
    "        files = glob.glob(path)\n",
    "        \n",
    "        files_read = 0\n",
    "        \n",
    "        print('Starting ', sentiment, ' files')\n",
    "        \n",
    "        # Iterate through the files and send them to the predictor\n",
    "        for f in files:\n",
    "            with open(f) as review:\n",
    "                # First, we store the ground truth (was the review positive or negative)\n",
    "                if sentiment == 'pos':\n",
    "                    ground.append(1)\n",
    "                else:\n",
    "                    ground.append(0)\n",
    "                # Read in the review and convert to 'utf-8' for transmission via HTTP\n",
    "                review_input = review.read().encode('utf-8')\n",
    "                # Send the review to the predictor and store the results\n",
    "                results.append(int(predictor.predict(review_input)))\n",
    "                \n",
    "            # Sending reviews to our endpoint one at a time takes a while so we\n",
    "            # only send a small number of reviews\n",
    "            files_read += 1\n",
    "            if files_read == stop:\n",
    "                break\n",
    "            \n",
    "    return ground, results"
   ]
  },
  {
   "cell_type": "code",
   "execution_count": 73,
   "metadata": {},
   "outputs": [
    {
     "name": "stdout",
     "output_type": "stream",
     "text": [
      "Starting  pos  files\n",
      "Starting  neg  files\n"
     ]
    }
   ],
   "source": [
    "ground, results = test_reviews()"
   ]
  },
  {
   "cell_type": "code",
   "execution_count": 74,
   "metadata": {},
   "outputs": [
    {
     "data": {
      "text/plain": [
       "0.886"
      ]
     },
     "execution_count": 74,
     "metadata": {},
     "output_type": "execute_result"
    }
   ],
   "source": [
    "from sklearn.metrics import accuracy_score\n",
    "accuracy_score(ground, results)"
   ]
  },
  {
   "cell_type": "markdown",
   "metadata": {},
   "source": [
    "As an additional test, we can try sending the `test_review` that we looked at earlier."
   ]
  },
  {
   "cell_type": "code",
   "execution_count": 75,
   "metadata": {},
   "outputs": [
    {
     "data": {
      "text/plain": [
       "b'1'"
      ]
     },
     "execution_count": 75,
     "metadata": {},
     "output_type": "execute_result"
    }
   ],
   "source": [
    "predictor.predict(test_review)"
   ]
  },
  {
   "cell_type": "markdown",
   "metadata": {},
   "source": [
    "Now that we know our endpoint is working as expected, we can set up the web page that will interact with it. If you don't have time to finish the project now, make sure to skip down to the end of this notebook and shut down your endpoint. You can deploy it again when you come back."
   ]
  },
  {
   "cell_type": "markdown",
   "metadata": {},
   "source": [
    "## Step 7 (again): Use the model for the web app\n",
    "\n",
    "> **TODO:** This entire section and the next contain tasks for you to complete, mostly using the AWS console.\n",
    "\n",
    "So far we have been accessing our model endpoint by constructing a predictor object which uses the endpoint and then just using the predictor object to perform inference. What if we wanted to create a web app which accessed our model? The way things are set up currently makes that not possible since in order to access a SageMaker endpoint the app would first have to authenticate with AWS using an IAM role which included access to SageMaker endpoints. However, there is an easier way! We just need to use some additional AWS services.\n",
    "\n",
    "<img src=\"Web App Diagram.svg\">\n",
    "\n",
    "The diagram above gives an overview of how the various services will work together. On the far right is the model which we trained above and which is deployed using SageMaker. On the far left is our web app that collects a user's movie review, sends it off and expects a positive or negative sentiment in return.\n",
    "\n",
    "In the middle is where some of the magic happens. We will construct a Lambda function, which you can think of as a straightforward Python function that can be executed whenever a specified event occurs. We will give this function permission to send and recieve data from a SageMaker endpoint.\n",
    "\n",
    "Lastly, the method we will use to execute the Lambda function is a new endpoint that we will create using API Gateway. This endpoint will be a url that listens for data to be sent to it. Once it gets some data it will pass that data on to the Lambda function and then return whatever the Lambda function returns. Essentially it will act as an interface that lets our web app communicate with the Lambda function.\n",
    "\n",
    "### Setting up a Lambda function\n",
    "\n",
    "The first thing we are going to do is set up a Lambda function. This Lambda function will be executed whenever our public API has data sent to it. When it is executed it will receive the data, perform any sort of processing that is required, send the data (the review) to the SageMaker endpoint we've created and then return the result.\n",
    "\n",
    "#### Part A: Create an IAM Role for the Lambda function\n",
    "\n",
    "Since we want the Lambda function to call a SageMaker endpoint, we need to make sure that it has permission to do so. To do this, we will construct a role that we can later give the Lambda function.\n",
    "\n",
    "Using the AWS Console, navigate to the **IAM** page and click on **Roles**. Then, click on **Create role**. Make sure that the **AWS service** is the type of trusted entity selected and choose **Lambda** as the service that will use this role, then click **Next: Permissions**.\n",
    "\n",
    "In the search box type `sagemaker` and select the check box next to the **AmazonSageMakerFullAccess** policy. Then, click on **Next: Review**.\n",
    "\n",
    "Lastly, give this role a name. Make sure you use a name that you will remember later on, for example `LambdaSageMakerRole`. Then, click on **Create role**.\n",
    "\n",
    "#### Part B: Create a Lambda function\n",
    "\n",
    "Now it is time to actually create the Lambda function.\n",
    "\n",
    "Using the AWS Console, navigate to the AWS Lambda page and click on **Create a function**. When you get to the next page, make sure that **Author from scratch** is selected. Now, name your Lambda function, using a name that you will remember later on, for example `sentiment_analysis_func`. Make sure that the **Python 3.6** runtime is selected and then choose the role that you created in the previous part. Then, click on **Create Function**.\n",
    "\n",
    "On the next page you will see some information about the Lambda function you've just created. If you scroll down you should see an editor in which you can write the code that will be executed when your Lambda function is triggered. In our example, we will use the code below. \n",
    "\n",
    "```python\n",
    "# We need to use the low-level library to interact with SageMaker since the SageMaker API\n",
    "# is not available natively through Lambda.\n",
    "import boto3\n",
    "\n",
    "def lambda_handler(event, context):\n",
    "\n",
    "    # The SageMaker runtime is what allows us to invoke the endpoint that we've created.\n",
    "    runtime = boto3.Session().client('sagemaker-runtime')\n",
    "\n",
    "    # Now we use the SageMaker runtime to invoke our endpoint, sending the review we were given\n",
    "    response = runtime.invoke_endpoint(EndpointName = '**ENDPOINT NAME HERE**',    # The name of the endpoint we created\n",
    "                                       ContentType = 'text/plain',                 # The data format that is expected\n",
    "                                       Body = event['body'])                       # The actual review\n",
    "\n",
    "    # The response is an HTTP response whose body contains the result of our inference\n",
    "    result = response['Body'].read().decode('utf-8')\n",
    "\n",
    "    return {\n",
    "        'statusCode' : 200,\n",
    "        'headers' : { 'Content-Type' : 'text/plain', 'Access-Control-Allow-Origin' : '*' },\n",
    "        'body' : result\n",
    "    }\n",
    "```\n",
    "\n",
    "Once you have copy and pasted the code above into the Lambda code editor, replace the `**ENDPOINT NAME HERE**` portion with the name of the endpoint that we deployed earlier. You can determine the name of the endpoint using the code cell below."
   ]
  },
  {
   "cell_type": "code",
   "execution_count": 77,
   "metadata": {},
   "outputs": [
    {
     "data": {
      "text/plain": [
       "'sagemaker-pytorch-2020-08-17-19-21-53-241'"
      ]
     },
     "execution_count": 77,
     "metadata": {},
     "output_type": "execute_result"
    }
   ],
   "source": [
    "predictor.endpoint"
   ]
  },
  {
   "cell_type": "markdown",
   "metadata": {},
   "source": [
    "Once you have added the endpoint name to the Lambda function, click on **Save**. Your Lambda function is now up and running. Next we need to create a way for our web app to execute the Lambda function.\n",
    "\n",
    "### Setting up API Gateway\n",
    "\n",
    "Now that our Lambda function is set up, it is time to create a new API using API Gateway that will trigger the Lambda function we have just created.\n",
    "\n",
    "Using AWS Console, navigate to **Amazon API Gateway** and then click on **Get started**.\n",
    "\n",
    "On the next page, make sure that **New API** is selected and give the new api a name, for example, `sentiment_analysis_api`. Then, click on **Create API**.\n",
    "\n",
    "Now we have created an API, however it doesn't currently do anything. What we want it to do is to trigger the Lambda function that we created earlier.\n",
    "\n",
    "Select the **Actions** dropdown menu and click **Create Method**. A new blank method will be created, select its dropdown menu and select **POST**, then click on the check mark beside it.\n",
    "\n",
    "For the integration point, make sure that **Lambda Function** is selected and click on the **Use Lambda Proxy integration**. This option makes sure that the data that is sent to the API is then sent directly to the Lambda function with no processing. It also means that the return value must be a proper response object as it will also not be processed by API Gateway.\n",
    "\n",
    "Type the name of the Lambda function you created earlier into the **Lambda Function** text entry box and then click on **Save**. Click on **OK** in the pop-up box that then appears, giving permission to API Gateway to invoke the Lambda function you created.\n",
    "\n",
    "The last step in creating the API Gateway is to select the **Actions** dropdown and click on **Deploy API**. You will need to create a new Deployment stage and name it anything you like, for example `prod`.\n",
    "\n",
    "You have now successfully set up a public API to access your SageMaker model. Make sure to copy or write down the URL provided to invoke your newly created public API as this will be needed in the next step. This URL can be found at the top of the page, highlighted in blue next to the text **Invoke URL**."
   ]
  },
  {
   "cell_type": "markdown",
   "metadata": {},
   "source": [
    "## Step 4: Deploying our web app\n",
    "\n",
    "Now that we have a publicly available API, we can start using it in a web app. For our purposes, we have provided a simple static html file which can make use of the public api you created earlier.\n",
    "\n",
    "In the `website` folder there should be a file called `index.html`. Download the file to your computer and open that file up in a text editor of your choice. There should be a line which contains **\\*\\*REPLACE WITH PUBLIC API URL\\*\\***. Replace this string with the url that you wrote down in the last step and then save the file.\n",
    "\n",
    "Now, if you open `index.html` on your local computer, your browser will behave as a local web server and you can use the provided site to interact with your SageMaker model.\n",
    "\n",
    "If you'd like to go further, you can host this html file anywhere you'd like, for example using github or hosting a static site on Amazon's S3. Once you have done this you can share the link with anyone you'd like and have them play with it too!\n",
    "\n",
    "> **Important Note** In order for the web app to communicate with the SageMaker endpoint, the endpoint has to actually be deployed and running. This means that you are paying for it. Make sure that the endpoint is running when you want to use the web app but that you shut it down when you don't need it, otherwise you will end up with a surprisingly large AWS bill.\n",
    "\n",
    "**TODO:** Make sure that you include the edited `index.html` file in your project submission."
   ]
  },
  {
   "cell_type": "markdown",
   "metadata": {},
   "source": [
    "Now that your web app is working, trying playing around with it and see how well it works.\n",
    "\n",
    "**Question**: Give an example of a review that you entered into your web app. What was the predicted sentiment of your example review?"
   ]
  },
  {
   "cell_type": "markdown",
   "metadata": {},
   "source": [
    "**Answer:**\n",
    "\n",
    "It's not so bad movie but it's really a waste of time\n",
    "\n",
    "Your review was NEGATIVE!\n",
    "\n",
    "___________________________________________\n",
    "\n",
    "i really enjoyed it, It's so interesting and it really made my day\n",
    "\n",
    "Your review was POSITIVE!"
   ]
  },
  {
   "cell_type": "markdown",
   "metadata": {},
   "source": [
    "### Delete the endpoint\n",
    "\n",
    "Remember to always shut down your endpoint if you are no longer using it. You are charged for the length of time that the endpoint is running so if you forget and leave it on you could end up with an unexpectedly large bill."
   ]
  },
  {
   "cell_type": "code",
   "execution_count": 78,
   "metadata": {},
   "outputs": [],
   "source": [
    "predictor.delete_endpoint()"
   ]
  },
  {
   "cell_type": "code",
   "execution_count": null,
   "metadata": {},
   "outputs": [],
   "source": []
  }
 ],
 "metadata": {
  "kernelspec": {
   "display_name": "conda_pytorch_p36",
   "language": "python",
   "name": "conda_pytorch_p36"
  },
  "language_info": {
   "codemirror_mode": {
    "name": "ipython",
    "version": 3
   },
   "file_extension": ".py",
   "mimetype": "text/x-python",
   "name": "python",
   "nbconvert_exporter": "python",
   "pygments_lexer": "ipython3",
   "version": "3.6.10"
  }
 },
 "nbformat": 4,
 "nbformat_minor": 2
}
